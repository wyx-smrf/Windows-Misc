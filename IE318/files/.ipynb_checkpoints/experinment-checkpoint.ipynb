{
 "cells": [
  {
   "cell_type": "markdown",
   "id": "b01f0b32-fa61-44c2-a1f5-0017e5946a93",
   "metadata": {},
   "source": [
    "# Full Process"
   ]
  },
  {
   "cell_type": "code",
   "execution_count": 1,
   "id": "12b538e6-81b5-4c95-b069-e8d6bd39171f",
   "metadata": {},
   "outputs": [],
   "source": [
    "import pandas as pd\n",
    "\n",
    "# Mute sklearn warnings\n",
    "from warnings import simplefilter\n",
    "simplefilter(action='ignore', category=FutureWarning)\n",
    "simplefilter(action='ignore', category=DeprecationWarning)"
   ]
  },
  {
   "cell_type": "markdown",
   "id": "9bf5c1aa-4f0d-49f5-a8f6-1b457506ac17",
   "metadata": {},
   "source": [
    "----"
   ]
  },
  {
   "cell_type": "code",
   "execution_count": 3,
   "id": "57a8669a-332c-4247-9765-ea1ee2c6c463",
   "metadata": {
    "tags": []
   },
   "outputs": [],
   "source": [
    "df_AAPL = get_data('files/datasets/AAPL.csv', 2016)\n",
    "df_MSFT = get_data('files/datasets/MSFT.csv', 2016)\n",
    "df_AMZN = get_data('files/datasets/AMZN.csv', 2016)\n",
    "df_TSLA = get_data('files/datasets/TSLA.csv', 2016)\n",
    "df_GOOGL = get_data('files/datasets/GOOGL.csv', 2016)\n",
    "df_BRKB = get_data('files/datasets/BRK-B.csv', 2016)\n",
    "df_UNH = get_data('files/datasets/UNH.csv', 2016)\n",
    "df_GOOG = get_data('files/datasets/GOOG.csv', 2016)\n",
    "df_XOM = get_data('files/datasets/XOM.csv', 2016)\n",
    "df_JNJ = get_data('files/datasets/JNJ.csv', 2016)"
   ]
  },
  {
   "cell_type": "markdown",
   "id": "e42a67bc-f612-4e0a-adb1-eb625fb76baf",
   "metadata": {},
   "source": [
    "AAPL - Apple\n",
    "<br> MSFT - Microsoft \n",
    "<br> AMZN - Amazon\n",
    "<br> TSLA - Tesla\n",
    "<br> GOOGL - Alphabet (Class A)\n",
    "<br> BRK-B - Berkshire Hathaway (Class B)\n",
    "<br> UNH - UnitedHealth Group\n",
    "<br> GOOG - Alphabet (Class C)\n",
    "<br> XOM - Exxon Mobil\n",
    "<br> JNJ - Johnson and Johnson"
   ]
  },
  {
   "cell_type": "markdown",
   "id": "be95f71a-d5dc-410a-a5a8-f41d886622eb",
   "metadata": {},
   "source": [
    "### Process 1:"
   ]
  },
  {
   "cell_type": "code",
   "execution_count": 3,
   "id": "0c6b7232-742f-4f1e-b089-6d5db1725dbc",
   "metadata": {},
   "outputs": [],
   "source": [
    "def get_data(path, year):\n",
    "    import pandas as pd\n",
    "    df = pd.read_csv(path)\n",
    "    \n",
    "    # Convert date into datetime data type\n",
    "    df['Date'] = pd.to_datetime(df['Date'])\n",
    "    \n",
    "    # Get 2019 data only and fix the index\n",
    "    df_idx = df[(df['Date'].dt.year >= year)].copy()\n",
    "    df_idx.index = range(len(df_idx))\n",
    "    \n",
    "    return df_idx"
   ]
  },
  {
   "cell_type": "markdown",
   "id": "b5853768-15b6-4ae0-9440-49f4ba38bf03",
   "metadata": {},
   "source": [
    "### Process 2:"
   ]
  },
  {
   "cell_type": "code",
   "execution_count": 5,
   "id": "5067260b-cca7-4899-a9ca-539fa91c1a12",
   "metadata": {
    "tags": []
   },
   "outputs": [],
   "source": [
    "def ma_indicators(dataframe):\n",
    "    \n",
    "    # Create exponential moving average\n",
    "    dataframe['EMA_9'] = dataframe['Close'].ewm(9).mean().shift()\n",
    "    \n",
    "    # Create 4 simple moving average using the values below\n",
    "    for n in [5, 10, 15, 30]:\n",
    "        dataframe[f'SMA_{n}'] = dataframe['Close'].rolling(n).mean().shift()\n",
    "        \n",
    "    return dataframe\n",
    "\n",
    "#df = ma_indicators(df)"
   ]
  },
  {
   "cell_type": "markdown",
   "id": "da9490c1-31d7-44e3-b9e3-7205a48489f6",
   "metadata": {},
   "source": [
    "### Process 3:"
   ]
  },
  {
   "cell_type": "code",
   "execution_count": 6,
   "id": "c0e1d368-a1de-46ca-b1d2-2f8874681faf",
   "metadata": {
    "tags": []
   },
   "outputs": [],
   "source": [
    "def add_rsi_indicator(dataframe, n=14):\n",
    "    def relative_strength_idx():\n",
    "        close = dataframe['Close']\n",
    "        delta = close.diff()\n",
    "        delta = delta[1:]\n",
    "        pricesUp = delta.copy()\n",
    "        pricesDown = delta.copy()\n",
    "        pricesUp[pricesUp < 0] = 0\n",
    "        pricesDown[pricesDown > 0] = 0\n",
    "        rollUp = pricesUp.rolling(n).mean()\n",
    "        rollDown = pricesDown.abs().rolling(n).mean()\n",
    "        rs = rollUp / rollDown\n",
    "        rsi = 100.0 - (100.0 / (1.0 + rs))\n",
    "        return rsi.fillna(0)\n",
    "\n",
    "    dataframe['RSI'] = relative_strength_idx()\n",
    "    return dataframe"
   ]
  },
  {
   "cell_type": "markdown",
   "id": "d28a45b2-0ec6-4c7b-8ccb-3dc198522297",
   "metadata": {},
   "source": [
    "### Process 4:"
   ]
  },
  {
   "cell_type": "code",
   "execution_count": 7,
   "id": "c2a33dce-3ef3-44bb-b8b0-c2b2ed1f422b",
   "metadata": {
    "tags": []
   },
   "outputs": [],
   "source": [
    "def macd_indicator(dataframe):\n",
    "    \n",
    "    # Define the two moving average that MACD will use\n",
    "    EMA_12 = pd.Series(dataframe['Close'].ewm(span=12, min_periods=12).mean())\n",
    "    EMA_26 = pd.Series(dataframe['Close'].ewm(span=26, min_periods=26).mean())\n",
    "    \n",
    "    # Create MACD Indicator\n",
    "    dataframe['MACD'] = pd.Series(EMA_12 - EMA_26)\n",
    "    dataframe['MACD_signal'] = pd.Series(dataframe.MACD.ewm(span=9, min_periods=9).mean())\n",
    "    \n",
    "    return dataframe"
   ]
  },
  {
   "cell_type": "markdown",
   "id": "ce12c02f-739e-4855-af03-11b579742e51",
   "metadata": {},
   "source": [
    "### Process 5:"
   ]
  },
  {
   "cell_type": "code",
   "execution_count": 8,
   "id": "7527c77b-54da-4a58-ad12-1dc09fabb0a4",
   "metadata": {
    "tags": []
   },
   "outputs": [],
   "source": [
    "def label_shift(dataframe):\n",
    "    dataframe['Close'] = dataframe['Close'].shift(-1)\n",
    "    return dataframe"
   ]
  },
  {
   "cell_type": "markdown",
   "id": "bafa4743-1e3d-465c-acdb-d6f210932d4b",
   "metadata": {},
   "source": [
    "### Process 6:"
   ]
  },
  {
   "cell_type": "code",
   "execution_count": 9,
   "id": "b0582bda-86f4-4f73-9216-161c123675af",
   "metadata": {
    "tags": []
   },
   "outputs": [],
   "source": [
    "def drop_invalid_samples(dataframe):\n",
    "    dataframe = dataframe.iloc[33:] # Because of moving averages and MACD line\n",
    "    dataframe = dataframe[:-1]      # Because of shifting close price\n",
    "    \n",
    "    dataframe.index = range(len(dataframe))\n",
    "    \n",
    "    return dataframe"
   ]
  },
  {
   "cell_type": "code",
   "execution_count": 10,
   "id": "e936510d-cd3b-4a3d-b32b-d6509f821298",
   "metadata": {
    "tags": []
   },
   "outputs": [
    {
     "ename": "NameError",
     "evalue": "name 'df' is not defined",
     "output_type": "error",
     "traceback": [
      "\u001b[1;31m---------------------------------------------------------------------------\u001b[0m",
      "\u001b[1;31mNameError\u001b[0m                                 Traceback (most recent call last)",
      "Cell \u001b[1;32mIn[10], line 1\u001b[0m\n\u001b[1;32m----> 1\u001b[0m pipe_clean \u001b[38;5;241m=\u001b[39m (\u001b[43mdf\u001b[49m\u001b[38;5;241m.\u001b[39mpipe(ma_indicators)\n\u001b[0;32m      2\u001b[0m                 \u001b[38;5;241m.\u001b[39mpipe(add_rsi_indicator)\n\u001b[0;32m      3\u001b[0m                 \u001b[38;5;241m.\u001b[39mpipe(macd_indicator)\n\u001b[0;32m      4\u001b[0m                 \u001b[38;5;241m.\u001b[39mpipe(label_shift)\n\u001b[0;32m      5\u001b[0m                 \u001b[38;5;241m.\u001b[39mpipe(drop_invalid_samples)\n\u001b[0;32m      6\u001b[0m              )\n\u001b[0;32m      7\u001b[0m pipe_clean\n",
      "\u001b[1;31mNameError\u001b[0m: name 'df' is not defined"
     ]
    }
   ],
   "source": [
    "pipe_clean = (df.pipe(ma_indicators)\n",
    "                .pipe(add_rsi_indicator)\n",
    "                .pipe(macd_indicator)\n",
    "                .pipe(label_shift)\n",
    "                .pipe(drop_invalid_samples)\n",
    "             )\n",
    "pipe_clean"
   ]
  },
  {
   "cell_type": "code",
   "execution_count": null,
   "id": "db11f135-72b7-4664-b09e-6b1a8360d8e1",
   "metadata": {},
   "outputs": [],
   "source": []
  },
  {
   "cell_type": "code",
   "execution_count": null,
   "id": "47a57054-1b05-4ab9-9f75-86127ca613b3",
   "metadata": {},
   "outputs": [],
   "source": []
  },
  {
   "cell_type": "code",
   "execution_count": null,
   "id": "fcc5c146-d825-4582-b467-64e7e18da1ca",
   "metadata": {},
   "outputs": [],
   "source": []
  },
  {
   "cell_type": "markdown",
   "id": "a83a9d00-10f8-4ed3-b230-40af4c736769",
   "metadata": {},
   "source": [
    "# STOP HERE\n",
    "\n",
    "----"
   ]
  },
  {
   "cell_type": "code",
   "execution_count": null,
   "id": "5b1e84cc-567a-43b3-91b1-004f35608375",
   "metadata": {
    "tags": []
   },
   "outputs": [],
   "source": [
    "test_size  = 0.15\n",
    "valid_size = 0.15\n",
    "\n",
    "test_split_idx  = int(pipe_clean.shape[0] * (1-test_size))\n",
    "valid_split_idx = int(pipe_clean.shape[0] * (1-(valid_size+test_size)))\n",
    "\n",
    "train_df  = pipe_clean.loc[:valid_split_idx].copy()\n",
    "valid_df  = pipe_clean.loc[valid_split_idx+1:test_split_idx].copy()\n",
    "test_df   = pipe_clean.loc[test_split_idx+1:].copy()"
   ]
  },
  {
   "cell_type": "code",
   "execution_count": null,
   "id": "6d41af75-1fc1-4806-ab0c-155fa7944e55",
   "metadata": {
    "tags": []
   },
   "outputs": [],
   "source": [
    "\n",
    "\n",
    "new_data = label_shift(new_data)"
   ]
  },
  {
   "cell_type": "code",
   "execution_count": null,
   "id": "b3e2a0ee-fd72-414e-a29c-254459ba4728",
   "metadata": {
    "tags": []
   },
   "outputs": [],
   "source": []
  },
  {
   "cell_type": "code",
   "execution_count": null,
   "id": "3d21c633-ed8c-4204-9c7b-6e1d69741968",
   "metadata": {
    "tags": []
   },
   "outputs": [],
   "source": [
    "drop_invalid_samples(new_data)"
   ]
  },
  {
   "cell_type": "code",
   "execution_count": null,
   "id": "d61a3d44-1f57-49fc-a338-668846d4e130",
   "metadata": {},
   "outputs": [],
   "source": [
    "# Shift Labels\n",
    "\n",
    "df_2019['Close'] = df_2019['Close'].shift(-1)\n",
    "df_2019['Close'].head()"
   ]
  },
  {
   "cell_type": "code",
   "execution_count": null,
   "id": "fe60d165-52cc-4899-876f-bf3647a4ffcc",
   "metadata": {},
   "outputs": [],
   "source": [
    "# Drop Invalid Samples\n",
    "\n",
    "df_2019 = df_2019.iloc[33:] # Because of moving averages and MACD line\n",
    "df_2019 = df_2019[:-1]      # Because of shifting close price\n",
    "\n",
    "df_2019.index = range(len(df_2019))\n",
    "\n",
    "df_2019"
   ]
  },
  {
   "cell_type": "code",
   "execution_count": null,
   "id": "41ea3e73-6c4a-4d16-85a2-12588d91de6a",
   "metadata": {},
   "outputs": [],
   "source": [
    "# Split Data into Train, Valid and Test Sets\n",
    "\n",
    "test_size  = 0.15\n",
    "valid_size = 0.15\n",
    "\n",
    "test_split_idx  = int(df_2019.shape[0] * (1-test_size))\n",
    "valid_split_idx = int(df_2019.shape[0] * (1-(valid_size+test_size)))\n",
    "\n",
    "train_df  = df_2019.loc[:valid_split_idx].copy()\n",
    "valid_df  = df_2019.loc[valid_split_idx+1:test_split_idx].copy()\n",
    "test_df   = df_2019.loc[test_split_idx+1:].copy()"
   ]
  },
  {
   "cell_type": "code",
   "execution_count": null,
   "id": "8d4e741b-4245-4b80-bf10-f7ad16c1139e",
   "metadata": {},
   "outputs": [],
   "source": [
    "# Drop unecessary columns\n",
    "\n",
    "drop_cols = ['Date', 'Volume', 'Open', 'Low', 'High', 'Adj Close']\n",
    "\n",
    "train_df = train_df.drop(drop_cols, 1)\n",
    "valid_df = valid_df.drop(drop_cols, 1)\n",
    "test_df  = test_df.drop(drop_cols, 1)"
   ]
  },
  {
   "cell_type": "code",
   "execution_count": null,
   "id": "c447f26f-826d-4c33-b5e0-bce56bd18010",
   "metadata": {},
   "outputs": [],
   "source": [
    "y_train = train_df['Close'].copy()\n",
    "X_train = train_df.drop(['Close'], 1)\n",
    "\n",
    "y_valid = valid_df['Close'].copy()\n",
    "X_valid = valid_df.drop(['Close'], 1)\n",
    "\n",
    "y_test  = test_df['Close'].copy()\n",
    "X_test  = test_df.drop(['Close'], 1)\n",
    "\n",
    "X_train.info()"
   ]
  },
  {
   "cell_type": "code",
   "execution_count": null,
   "id": "583df65a-8bc0-40c1-91ca-6d83902beadf",
   "metadata": {},
   "outputs": [],
   "source": [
    "%%time\n",
    "\n",
    "import xgboost as xgb\n",
    "from sklearn.model_selection import GridSearchCV\n",
    "\n",
    "\n",
    "parameters = {\n",
    "    'n_estimators': [300, 400, 500, 600, 700],\n",
    "    'learning_rate': [0.01, 0.05, 0.08, 0.10, 0.15],\n",
    "    'max_depth': [5, 8, 10, 12, 15, 18],\n",
    "    'gamma': [0.01, 0.02, 0.05, 0.08],\n",
    "    'random_state': [42]\n",
    "}\n",
    "\n",
    "eval_set = [(X_train, y_train), (X_valid, y_valid)]\n",
    "model = xgb.XGBRegressor(eval_set=eval_set, objective='reg:squarederror', verbosity = 0, booster='gblinear')\n",
    "clf = GridSearchCV(model, parameters)\n",
    "\n",
    "clf.fit(X_train, y_train)\n",
    "\n",
    "print(f'Best params: {clf.best_params_}')\n",
    "print(f'Best validation score = {clf.best_score_}')"
   ]
  },
  {
   "cell_type": "code",
   "execution_count": null,
   "id": "63772382-d218-4aba-b592-426c2b2c449e",
   "metadata": {},
   "outputs": [],
   "source": [
    "%%time\n",
    "\n",
    "model = xgb.XGBRegressor(**clf.best_params_, objective='reg:squarederror', \n",
    "                         verbosity = 0, \n",
    "                         booster='gblinear')\n",
    "model.fit(X_train, y_train, eval_set=eval_set, verbose=0)"
   ]
  },
  {
   "cell_type": "code",
   "execution_count": null,
   "id": "0785c078-36d6-4cd4-9d03-c21289e88882",
   "metadata": {},
   "outputs": [],
   "source": [
    "import numpy as np\n",
    "\n",
    "y_pred = model.predict(X_test)\n",
    "print(f'y_true = {np.array(y_test)[:5]}')\n",
    "print(f'y_pred = {y_pred[:5]}')"
   ]
  },
  {
   "cell_type": "code",
   "execution_count": null,
   "id": "f61934dd-7032-4c2b-92f7-7e49a623fd5b",
   "metadata": {},
   "outputs": [],
   "source": [
    "from plotly.subplots import make_subplots\n",
    "import plotly.graph_objects as go\n",
    "\n",
    "\n",
    "predicted_prices = df_2019.loc[test_split_idx+1:].copy()\n",
    "predicted_prices['Close'] = y_pred\n",
    "\n",
    "fig = make_subplots(rows=2, cols=1)\n",
    "fig.add_trace(go.Scatter(x=df.Date, y=df.Close,\n",
    "                         name='Truth',\n",
    "                         marker_color='LightSkyBlue'), row=1, col=1)\n",
    "\n",
    "fig.add_trace(go.Scatter(x=predicted_prices.Date,\n",
    "                         y=predicted_prices.Close,\n",
    "                         name='Prediction',\n",
    "                         marker_color='MediumPurple'), row=1, col=1)\n",
    "\n",
    "fig.add_trace(go.Scatter(x=predicted_prices.Date,\n",
    "                         y=y_test,\n",
    "                         name='Truth',\n",
    "                         marker_color='LightSkyBlue',\n",
    "                         showlegend=False), row=2, col=1)\n",
    "\n",
    "fig.add_trace(go.Scatter(x=predicted_prices.Date,\n",
    "                         y=y_pred,\n",
    "                         name='Prediction',\n",
    "                         marker_color='MediumPurple',\n",
    "                         showlegend=False), row=2, col=1)\n",
    "\n",
    "fig.show()"
   ]
  },
  {
   "cell_type": "code",
   "execution_count": null,
   "id": "2c0a551f-f067-418f-ba96-625dfd0a1eaa",
   "metadata": {},
   "outputs": [],
   "source": [
    "from sklearn.metrics import mean_squared_error\n",
    "\n",
    "print(f'mean_squared_error = {mean_squared_error(y_test, y_pred)}')"
   ]
  },
  {
   "cell_type": "markdown",
   "id": "cc042766-58ca-4adc-a5a3-da5f40829c6a",
   "metadata": {},
   "source": [
    "# SHET AHAHAH IM SO PROUD"
   ]
  },
  {
   "cell_type": "code",
   "execution_count": null,
   "id": "190bbd0d-7fe8-4bb9-8fc9-e64ad56cc3cf",
   "metadata": {},
   "outputs": [],
   "source": [
    "y_pred_df = pd.DataFrame(y_pred)"
   ]
  },
  {
   "cell_type": "code",
   "execution_count": null,
   "id": "62b24957-bb95-48b0-bc2d-736f7fdb3ad3",
   "metadata": {},
   "outputs": [],
   "source": [
    "date_preds = pd.DataFrame(predicted_prices.Date)"
   ]
  },
  {
   "cell_type": "code",
   "execution_count": null,
   "id": "95588d55-7599-4b6e-84df-4cc979f05c6e",
   "metadata": {},
   "outputs": [],
   "source": [
    "result = pd.concat([predicted_prices.Date, y_pred_df], axis=1)"
   ]
  },
  {
   "cell_type": "code",
   "execution_count": null,
   "id": "340f52fa-bfa4-431a-9cfb-0c9219757f25",
   "metadata": {},
   "outputs": [],
   "source": [
    "y_pred_df.to_csv(\"AAPL_predictions.csv\", index=False)"
   ]
  },
  {
   "cell_type": "code",
   "execution_count": null,
   "id": "c5911e77-c586-44ce-84df-d20ad4bcf6ff",
   "metadata": {
    "tags": []
   },
   "outputs": [],
   "source": [
    "date_preds.to_csv(\"AAPL_date_preds.csv\", index=False)"
   ]
  }
 ],
 "metadata": {
  "kernelspec": {
   "display_name": "Python 3 (ipykernel)",
   "language": "python",
   "name": "python3"
  },
  "language_info": {
   "codemirror_mode": {
    "name": "ipython",
    "version": 3
   },
   "file_extension": ".py",
   "mimetype": "text/x-python",
   "name": "python",
   "nbconvert_exporter": "python",
   "pygments_lexer": "ipython3",
   "version": "3.11.2"
  }
 },
 "nbformat": 4,
 "nbformat_minor": 5
}
