{
 "cells": [
  {
   "cell_type": "markdown",
   "id": "a3debe4b-3181-4101-a137-5b7b20654a74",
   "metadata": {},
   "source": [
    "# XGBoost: Fit/Predict"
   ]
  },
  {
   "cell_type": "code",
   "execution_count": 1,
   "id": "4a4ce69a",
   "metadata": {},
   "outputs": [],
   "source": [
    "import pandas as pd \n",
    "from sklearn.model_selection import train_test_split\n",
    "import numpy as np\n",
    "\n",
    "churn_data = pd.read_csv('churn_data.csv')"
   ]
  },
  {
   "cell_type": "code",
   "execution_count": 2,
   "id": "8f378114-a9f3-4acf-9b33-7fc2879637fc",
   "metadata": {},
   "outputs": [
    {
     "name": "stdout",
     "output_type": "stream",
     "text": [
      "accuracy: 0.758200\n"
     ]
    }
   ],
   "source": [
    "# Import xgboost\n",
    "import xgboost as xgb\n",
    "\n",
    "# Create arrays for the features and the target: X, y\n",
    "X, y = churn_data.iloc[:,:-1], churn_data.iloc[:,-1]\n",
    "\n",
    "# Create the training and test sets\n",
    "X_train, X_test, y_train, y_test= train_test_split(X, y, test_size=0.2, random_state=123)\n",
    "\n",
    "# Instantiate the XGBClassifier: xg_cl\n",
    "xg_cl = xgb.XGBClassifier(objective='binary:logistic', \n",
    "                          n_estimators=10, \n",
    "                          seed=123)\n",
    "\n",
    "# Fit the classifier to the training set\n",
    "xg_cl.fit(X_train, y_train)\n",
    "\n",
    "# Predict the labels of the test set: preds\n",
    "preds = xg_cl.predict(X_test)\n",
    "\n",
    "# Compute the accuracy: accuracy\n",
    "accuracy = float(np.sum(preds==y_test))/y_test.shape[0]\n",
    "print(\"accuracy: %f\" % (accuracy))"
   ]
  },
  {
   "cell_type": "markdown",
   "id": "34228bd2-d93b-4f59-8d95-7882c325e8f2",
   "metadata": {},
   "source": [
    "---"
   ]
  },
  {
   "cell_type": "markdown",
   "id": "a1f1c22b-5a1f-455f-ae87-afe3c4b1087d",
   "metadata": {},
   "source": [
    "# Decision Trees"
   ]
  },
  {
   "cell_type": "code",
   "execution_count": 3,
   "id": "906acdda-ab28-42f8-9dd7-72a5507bb8da",
   "metadata": {},
   "outputs": [
    {
     "name": "stdout",
     "output_type": "stream",
     "text": [
      "accuracy: 0.9736842105263158\n"
     ]
    }
   ],
   "source": [
    "# Import the necessary modules\n",
    "from sklearn.model_selection import train_test_split\n",
    "from sklearn.tree import DecisionTreeClassifier\n",
    "from sklearn.datasets import load_breast_cancer\n",
    "\n",
    "b_cancer = load_breast_cancer()\n",
    "\n",
    "X_bc = b_cancer.data\n",
    "y_bc = b_cancer.target\n",
    "\n",
    "# Create the training and test sets\n",
    "Xbc_train, Xbc_test, ybc_train, ybc_test = train_test_split(X_bc, y_bc, test_size=0.2, random_state=123)\n",
    "\n",
    "# Instantiate the classifier: dt_clf_4\n",
    "dt_clf_4 = DecisionTreeClassifier(max_depth=4)\n",
    "\n",
    "# Fit the classifier to the training set\n",
    "dt_clf_4.fit(Xbc_train, ybc_train)\n",
    "\n",
    "# Predict the labels of the test set: y_pred_4\n",
    "ybc_pred_4 = dt_clf_4.predict(Xbc_test)\n",
    "\n",
    "# Compute the accuracy of the predictions: accuracy\n",
    "accuracy = float(np.sum(ybc_pred_4==ybc_test))/ybc_test.shape[0]\n",
    "print(\"accuracy:\", accuracy)"
   ]
  },
  {
   "cell_type": "markdown",
   "id": "de981951-b0d6-4786-80ce-653be66cd37b",
   "metadata": {},
   "source": [
    "---"
   ]
  },
  {
   "cell_type": "markdown",
   "id": "959a0cc8-c2fc-4d3f-82ab-432e1867783f",
   "metadata": {},
   "source": [
    "# Measuring accuracy"
   ]
  },
  {
   "cell_type": "code",
   "execution_count": 4,
   "id": "248c5030-285c-445a-8f35-6ecca4c65df7",
   "metadata": {},
   "outputs": [],
   "source": [
    "# Create arrays for the features and the target: X, y\n",
    "X, y = churn_data.iloc[:,:-1], churn_data.iloc[:,-1]\n",
    "\n",
    "# Create the DMatrix from X and y: churn_dmatrix\n",
    "churn_dmatrix = xgb.DMatrix(data=X, label=y)\n",
    "\n",
    "# Create the parameter dictionary: params\n",
    "params = {\"objective\":\"reg:logistic\", \"max_depth\":3}"
   ]
  },
  {
   "cell_type": "code",
   "execution_count": 11,
   "id": "1a2e0b02-2a8b-4d83-aa19-79ac55f4ead6",
   "metadata": {},
   "outputs": [
    {
     "data": {
      "text/html": [
       "<div>\n",
       "<style scoped>\n",
       "    .dataframe tbody tr th:only-of-type {\n",
       "        vertical-align: middle;\n",
       "    }\n",
       "\n",
       "    .dataframe tbody tr th {\n",
       "        vertical-align: top;\n",
       "    }\n",
       "\n",
       "    .dataframe thead th {\n",
       "        text-align: right;\n",
       "    }\n",
       "</style>\n",
       "<table border=\"1\" class=\"dataframe\">\n",
       "  <thead>\n",
       "    <tr style=\"text-align: right;\">\n",
       "      <th></th>\n",
       "      <th>train-error-mean</th>\n",
       "      <th>train-error-std</th>\n",
       "      <th>test-error-mean</th>\n",
       "      <th>test-error-std</th>\n",
       "    </tr>\n",
       "  </thead>\n",
       "  <tbody>\n",
       "    <tr>\n",
       "      <th>0</th>\n",
       "      <td>0.28232</td>\n",
       "      <td>0.002366</td>\n",
       "      <td>0.28378</td>\n",
       "      <td>0.001932</td>\n",
       "    </tr>\n",
       "    <tr>\n",
       "      <th>1</th>\n",
       "      <td>0.26951</td>\n",
       "      <td>0.001855</td>\n",
       "      <td>0.27190</td>\n",
       "      <td>0.001932</td>\n",
       "    </tr>\n",
       "    <tr>\n",
       "      <th>2</th>\n",
       "      <td>0.25605</td>\n",
       "      <td>0.003213</td>\n",
       "      <td>0.25798</td>\n",
       "      <td>0.003963</td>\n",
       "    </tr>\n",
       "    <tr>\n",
       "      <th>3</th>\n",
       "      <td>0.25090</td>\n",
       "      <td>0.001844</td>\n",
       "      <td>0.25434</td>\n",
       "      <td>0.003827</td>\n",
       "    </tr>\n",
       "    <tr>\n",
       "      <th>4</th>\n",
       "      <td>0.24654</td>\n",
       "      <td>0.001981</td>\n",
       "      <td>0.24852</td>\n",
       "      <td>0.000934</td>\n",
       "    </tr>\n",
       "  </tbody>\n",
       "</table>\n",
       "</div>"
      ],
      "text/plain": [
       "   train-error-mean  train-error-std  test-error-mean  test-error-std\n",
       "0           0.28232         0.002366          0.28378        0.001932\n",
       "1           0.26951         0.001855          0.27190        0.001932\n",
       "2           0.25605         0.003213          0.25798        0.003963\n",
       "3           0.25090         0.001844          0.25434        0.003827\n",
       "4           0.24654         0.001981          0.24852        0.000934"
      ]
     },
     "execution_count": 11,
     "metadata": {},
     "output_type": "execute_result"
    }
   ],
   "source": [
    "cv_results"
   ]
  },
  {
   "cell_type": "code",
   "execution_count": 10,
   "id": "9984fc0d-2a8d-4503-8597-f7403ba3eeab",
   "metadata": {},
   "outputs": [
    {
     "name": "stdout",
     "output_type": "stream",
     "text": [
      "   train-error-mean  train-error-std  test-error-mean  test-error-std\n",
      "0           0.28232         0.002366          0.28378        0.001932\n",
      "1           0.26951         0.001855          0.27190        0.001932\n",
      "2           0.25605         0.003213          0.25798        0.003963\n",
      "3           0.25090         0.001844          0.25434        0.003827\n",
      "4           0.24654         0.001981          0.24852        0.000934\n",
      "0.751480015401492\n"
     ]
    }
   ],
   "source": [
    "# Perform cross-validation: cv_results\n",
    "cv_results = xgb.cv(dtrain=churn_dmatrix, params=params, \n",
    "                  nfold=3, num_boost_round=5, \n",
    "                  metrics=\"error\", as_pandas=True, seed=123)\n",
    "\n",
    "# Print cv_results\n",
    "print(cv_results)\n",
    "\n",
    "# Print the accuracy\n",
    "print(((1-cv_results[\"test-error-mean\"]).iloc[-1]))"
   ]
  },
  {
   "cell_type": "code",
   "execution_count": 7,
   "id": "9cdf6f63-d24f-444f-ae3d-c3be299b413e",
   "metadata": {},
   "outputs": [
    {
     "data": {
      "text/plain": [
       "0    0.28378\n",
       "1    0.27190\n",
       "2    0.25798\n",
       "3    0.25434\n",
       "4    0.24852\n",
       "Name: test-error-mean, dtype: float64"
      ]
     },
     "execution_count": 7,
     "metadata": {},
     "output_type": "execute_result"
    }
   ],
   "source": [
    "cv_results[\"test-error-mean\"]"
   ]
  },
  {
   "cell_type": "markdown",
   "id": "f62c9726-bed5-44e6-b9da-6f05561e8c55",
   "metadata": {},
   "source": [
    "---"
   ]
  },
  {
   "cell_type": "markdown",
   "id": "5bd2858d-dfdd-4c45-965c-e030f813ea9e",
   "metadata": {},
   "source": [
    "# Measuring AUC"
   ]
  },
  {
   "cell_type": "code",
   "execution_count": 8,
   "id": "f50c901b-25a7-4237-b20a-a7a73ec90e86",
   "metadata": {},
   "outputs": [
    {
     "name": "stdout",
     "output_type": "stream",
     "text": [
      "   train-auc-mean  train-auc-std  test-auc-mean  test-auc-std\n",
      "0        0.768893       0.001544       0.767863      0.002819\n",
      "1        0.790864       0.006758       0.789156      0.006846\n",
      "2        0.815872       0.003900       0.814476      0.005997\n",
      "3        0.822959       0.002018       0.821682      0.003912\n",
      "4        0.827528       0.000769       0.826191      0.001937\n",
      "0.8261911413597645\n"
     ]
    }
   ],
   "source": [
    "# Perform cross_validation: cv_results\n",
    "cv_results = xgb.cv(dtrain=churn_dmatrix, params=params, \n",
    "                  nfold=3, num_boost_round=5, \n",
    "                  metrics=\"auc\", as_pandas=True, seed=123)\n",
    "\n",
    "# Print cv_results\n",
    "print(cv_results)\n",
    "\n",
    "# Print the AUC\n",
    "print((cv_results[\"test-auc-mean\"]).iloc[-1])"
   ]
  },
  {
   "cell_type": "markdown",
   "id": "f8af60f9-f2c3-4176-9669-908cd0ed43ed",
   "metadata": {},
   "source": [
    "---"
   ]
  },
  {
   "cell_type": "code",
   "execution_count": null,
   "id": "8ceb7fc1-87de-4f59-9d00-6141d6e9164b",
   "metadata": {},
   "outputs": [],
   "source": []
  }
 ],
 "metadata": {
  "kernelspec": {
   "display_name": "Python 3 (ipykernel)",
   "language": "python",
   "name": "python3"
  },
  "language_info": {
   "codemirror_mode": {
    "name": "ipython",
    "version": 3
   },
   "file_extension": ".py",
   "mimetype": "text/x-python",
   "name": "python",
   "nbconvert_exporter": "python",
   "pygments_lexer": "ipython3",
   "version": "3.9.13"
  },
  "vscode": {
   "interpreter": {
    "hash": "248446294d0079a6f64fcff26e017bfef7b12bbc9f44be7cefdd0bb461360765"
   }
  }
 },
 "nbformat": 4,
 "nbformat_minor": 5
}
