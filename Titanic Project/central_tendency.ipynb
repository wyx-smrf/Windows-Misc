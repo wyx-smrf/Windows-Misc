{
 "cells": [
  {
   "cell_type": "code",
   "execution_count": 1,
   "id": "fa28c93b-ae7c-4f66-bcd3-eacb28d6c4b5",
   "metadata": {},
   "outputs": [],
   "source": [
    "import numpy as np\n",
    "import pandas as pd\n",
    "import seaborn as sns\n",
    "import matplotlib.pyplot as plt\n",
    "\n",
    "from sklearn.pipeline import make_pipeline\n",
    "from sklearn.compose import ColumnTransformer\n",
    "from sklearn.preprocessing import LabelEncoder\n",
    "from sklearn.preprocessing import StandardScaler \n",
    "from sklearn.preprocessing import FunctionTransformer\n",
    "\n",
    "# Improve this next time\n",
    "# Create a directory for datasets\n",
    "\n",
    "def get_data(data_link):\n",
    "    data = pd.read_csv(data_link)\n",
    "    return data\n",
    "\n",
    "train_data = get_data('https://raw.githubusercontent.com/wyx-smrf/Windows-Misc/main/Titanic%20Project/train.csv')\n",
    "test_data = get_data('https://raw.githubusercontent.com/wyx-smrf/Windows-Misc/main/Titanic%20Project/test.csv')"
   ]
  },
  {
   "cell_type": "code",
   "execution_count": 2,
   "id": "cb8a1944-ca7b-4bf0-94aa-3a3b9fb6d1e1",
   "metadata": {},
   "outputs": [],
   "source": [
    "def impute_central_tendency(dataframe, column):\n",
    "    central_tendency = [\"mean\", \"median\", \"mode\"]\n",
    "    impute_df = pd.DataFrame()\n",
    "    impute_column = dataframe[column]\n",
    "    \n",
    "    # Impute null values using cental tendency\n",
    "    for stat in central_tendency:\n",
    "        if stat == \"mode\":\n",
    "            impute_df[stat] = eval(f\"impute_column.fillna(value=impute_column.mode()[0])\")\n",
    "        else:\n",
    "            impute_df[stat] = eval(f\"impute_column.fillna(value=impute_column.{stat}())\")\n",
    "    \n",
    "    # Round all answers to nearest integer\n",
    "    round_impute = impute_df.round(0).astype(int)\n",
    "    \n",
    "    return round_impute"
   ]
  },
  {
   "cell_type": "code",
   "execution_count": 3,
   "id": "0edd9a12-9037-419e-8d29-31c25172a042",
   "metadata": {},
   "outputs": [
    {
     "data": {
      "text/html": [
       "<div>\n",
       "<style scoped>\n",
       "    .dataframe tbody tr th:only-of-type {\n",
       "        vertical-align: middle;\n",
       "    }\n",
       "\n",
       "    .dataframe tbody tr th {\n",
       "        vertical-align: top;\n",
       "    }\n",
       "\n",
       "    .dataframe thead th {\n",
       "        text-align: right;\n",
       "    }\n",
       "</style>\n",
       "<table border=\"1\" class=\"dataframe\">\n",
       "  <thead>\n",
       "    <tr style=\"text-align: right;\">\n",
       "      <th></th>\n",
       "      <th>mean</th>\n",
       "      <th>median</th>\n",
       "      <th>mode</th>\n",
       "    </tr>\n",
       "  </thead>\n",
       "  <tbody>\n",
       "    <tr>\n",
       "      <th>0</th>\n",
       "      <td>22</td>\n",
       "      <td>22</td>\n",
       "      <td>22</td>\n",
       "    </tr>\n",
       "    <tr>\n",
       "      <th>1</th>\n",
       "      <td>38</td>\n",
       "      <td>38</td>\n",
       "      <td>38</td>\n",
       "    </tr>\n",
       "    <tr>\n",
       "      <th>2</th>\n",
       "      <td>26</td>\n",
       "      <td>26</td>\n",
       "      <td>26</td>\n",
       "    </tr>\n",
       "    <tr>\n",
       "      <th>3</th>\n",
       "      <td>35</td>\n",
       "      <td>35</td>\n",
       "      <td>35</td>\n",
       "    </tr>\n",
       "    <tr>\n",
       "      <th>4</th>\n",
       "      <td>35</td>\n",
       "      <td>35</td>\n",
       "      <td>35</td>\n",
       "    </tr>\n",
       "  </tbody>\n",
       "</table>\n",
       "</div>"
      ],
      "text/plain": [
       "   mean  median  mode\n",
       "0    22      22    22\n",
       "1    38      38    38\n",
       "2    26      26    26\n",
       "3    35      35    35\n",
       "4    35      35    35"
      ]
     },
     "execution_count": 3,
     "metadata": {},
     "output_type": "execute_result"
    }
   ],
   "source": [
    "ct_df = impute_central_tendency(train_data, 'Age')\n",
    "ct_df.head()"
   ]
  },
  {
   "cell_type": "code",
   "execution_count": 4,
   "id": "be8454c5-8098-4e78-bf06-4ef93915e32a",
   "metadata": {},
   "outputs": [],
   "source": [
    "def skew(dataframe):\n",
    "    \n",
    "    # Create a dataframe with index names\n",
    "    df = pd.DataFrame(index=['mean', 'median', 'mode'])\n",
    "    \n",
    "    # Columns to the dataframe\n",
    "    df['raw_skew'] = [dataframe[i].skew() for i in dataframe.columns]\n",
    "    df['log_skew'] = [dataframe[i].apply(np.log).skew() for i in dataframe.columns]\n",
    "    df['sqrt_skew'] = [dataframe[i].apply(np.sqrt).skew() for i in dataframe.columns]\n",
    "    df['cbrt_skew'] = [dataframe[i].apply(np.cbrt).skew() for i in dataframe.columns]\n",
    "    df['log1p_skew'] = [dataframe[i].apply(np.log1p).skew() for i in dataframe.columns]\n",
    "    \n",
    "    return df\n",
    "    \n",
    "# Argument must be a dataframe that contains mean, median and mode as the columns"
   ]
  },
  {
   "cell_type": "code",
   "execution_count": 5,
   "id": "40ccbc55-b740-4d13-8a8b-f3009f3ec89e",
   "metadata": {},
   "outputs": [
    {
     "data": {
      "text/html": [
       "<div>\n",
       "<style scoped>\n",
       "    .dataframe tbody tr th:only-of-type {\n",
       "        vertical-align: middle;\n",
       "    }\n",
       "\n",
       "    .dataframe tbody tr th {\n",
       "        vertical-align: top;\n",
       "    }\n",
       "\n",
       "    .dataframe thead th {\n",
       "        text-align: right;\n",
       "    }\n",
       "</style>\n",
       "<table border=\"1\" class=\"dataframe\">\n",
       "  <thead>\n",
       "    <tr style=\"text-align: right;\">\n",
       "      <th></th>\n",
       "      <th>raw_skew</th>\n",
       "      <th>log_skew</th>\n",
       "      <th>sqrt_skew</th>\n",
       "      <th>cbrt_skew</th>\n",
       "      <th>log1p_skew</th>\n",
       "    </tr>\n",
       "  </thead>\n",
       "  <tbody>\n",
       "    <tr>\n",
       "      <th>mean</th>\n",
       "      <td>0.422075</td>\n",
       "      <td>NaN</td>\n",
       "      <td>-0.839700</td>\n",
       "      <td>-1.431735</td>\n",
       "      <td>-2.216744</td>\n",
       "    </tr>\n",
       "    <tr>\n",
       "      <th>median</th>\n",
       "      <td>0.511731</td>\n",
       "      <td>NaN</td>\n",
       "      <td>-0.762697</td>\n",
       "      <td>-1.370104</td>\n",
       "      <td>-2.180471</td>\n",
       "    </tr>\n",
       "    <tr>\n",
       "      <th>mode</th>\n",
       "      <td>0.659261</td>\n",
       "      <td>NaN</td>\n",
       "      <td>-0.578792</td>\n",
       "      <td>-1.198987</td>\n",
       "      <td>-2.050201</td>\n",
       "    </tr>\n",
       "  </tbody>\n",
       "</table>\n",
       "</div>"
      ],
      "text/plain": [
       "        raw_skew  log_skew  sqrt_skew  cbrt_skew  log1p_skew\n",
       "mean    0.422075       NaN  -0.839700  -1.431735   -2.216744\n",
       "median  0.511731       NaN  -0.762697  -1.370104   -2.180471\n",
       "mode    0.659261       NaN  -0.578792  -1.198987   -2.050201"
      ]
     },
     "execution_count": 5,
     "metadata": {},
     "output_type": "execute_result"
    }
   ],
   "source": [
    "skew(ct_df)"
   ]
  }
 ],
 "metadata": {
  "kernelspec": {
   "display_name": "Python 3 (ipykernel)",
   "language": "python",
   "name": "python3"
  },
  "language_info": {
   "codemirror_mode": {
    "name": "ipython",
    "version": 3
   },
   "file_extension": ".py",
   "mimetype": "text/x-python",
   "name": "python",
   "nbconvert_exporter": "python",
   "pygments_lexer": "ipython3",
   "version": "3.9.13"
  }
 },
 "nbformat": 4,
 "nbformat_minor": 5
}
