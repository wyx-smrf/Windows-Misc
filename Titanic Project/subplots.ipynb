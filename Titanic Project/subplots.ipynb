{
 "cells": [
  {
   "cell_type": "code",
   "execution_count": 16,
   "id": "4839bbfd-594c-4b8d-bd30-f4f43377dfcb",
   "metadata": {},
   "outputs": [
    {
     "data": {
      "text/plain": [
       "array([[0, 2, 3],\n",
       "       [0, 0, 6],\n",
       "       [0, 0, 0]])"
      ]
     },
     "execution_count": 16,
     "metadata": {},
     "output_type": "execute_result"
    }
   ],
   "source": [
    "np.triu([[1,2,3],[4,5,6],[7,8,9]], k=1)"
   ]
  },
  {
   "cell_type": "code",
   "execution_count": 6,
   "id": "727dc888-4eeb-41bd-9a96-e7f8c65a8bbb",
   "metadata": {},
   "outputs": [
    {
     "data": {
      "text/plain": [
       "array([[0., 1., 1., 1., 1.],\n",
       "       [0., 0., 1., 1., 1.],\n",
       "       [0., 0., 0., 1., 1.],\n",
       "       [0., 0., 0., 0., 1.],\n",
       "       [0., 0., 0., 0., 0.]])"
      ]
     },
     "execution_count": 6,
     "metadata": {},
     "output_type": "execute_result"
    }
   ],
   "source": [
    "np.triu(np.ones(corr_mat.shape), k=1)"
   ]
  },
  {
   "cell_type": "code",
   "execution_count": 22,
   "id": "f7940691-ae52-49ae-9ee4-b690e944f444",
   "metadata": {},
   "outputs": [
    {
     "data": {
      "text/html": [
       "<div>\n",
       "<style scoped>\n",
       "    .dataframe tbody tr th:only-of-type {\n",
       "        vertical-align: middle;\n",
       "    }\n",
       "\n",
       "    .dataframe tbody tr th {\n",
       "        vertical-align: top;\n",
       "    }\n",
       "\n",
       "    .dataframe thead th {\n",
       "        text-align: right;\n",
       "    }\n",
       "</style>\n",
       "<table border=\"1\" class=\"dataframe\">\n",
       "  <thead>\n",
       "    <tr style=\"text-align: right;\">\n",
       "      <th></th>\n",
       "      <th>sepal_length</th>\n",
       "      <th>sepal_width</th>\n",
       "      <th>petal_length</th>\n",
       "      <th>petal_width</th>\n",
       "      <th>species</th>\n",
       "    </tr>\n",
       "  </thead>\n",
       "  <tbody>\n",
       "    <tr>\n",
       "      <th>0</th>\n",
       "      <td>5.1</td>\n",
       "      <td>3.5</td>\n",
       "      <td>1.4</td>\n",
       "      <td>0.2</td>\n",
       "      <td>setosa</td>\n",
       "    </tr>\n",
       "    <tr>\n",
       "      <th>1</th>\n",
       "      <td>4.9</td>\n",
       "      <td>3.0</td>\n",
       "      <td>1.4</td>\n",
       "      <td>0.2</td>\n",
       "      <td>setosa</td>\n",
       "    </tr>\n",
       "    <tr>\n",
       "      <th>2</th>\n",
       "      <td>4.7</td>\n",
       "      <td>3.2</td>\n",
       "      <td>1.3</td>\n",
       "      <td>0.2</td>\n",
       "      <td>setosa</td>\n",
       "    </tr>\n",
       "    <tr>\n",
       "      <th>3</th>\n",
       "      <td>4.6</td>\n",
       "      <td>3.1</td>\n",
       "      <td>1.5</td>\n",
       "      <td>0.2</td>\n",
       "      <td>setosa</td>\n",
       "    </tr>\n",
       "    <tr>\n",
       "      <th>4</th>\n",
       "      <td>5.0</td>\n",
       "      <td>3.6</td>\n",
       "      <td>1.4</td>\n",
       "      <td>0.2</td>\n",
       "      <td>setosa</td>\n",
       "    </tr>\n",
       "    <tr>\n",
       "      <th>...</th>\n",
       "      <td>...</td>\n",
       "      <td>...</td>\n",
       "      <td>...</td>\n",
       "      <td>...</td>\n",
       "      <td>...</td>\n",
       "    </tr>\n",
       "    <tr>\n",
       "      <th>145</th>\n",
       "      <td>6.7</td>\n",
       "      <td>3.0</td>\n",
       "      <td>5.2</td>\n",
       "      <td>2.3</td>\n",
       "      <td>virginica</td>\n",
       "    </tr>\n",
       "    <tr>\n",
       "      <th>146</th>\n",
       "      <td>6.3</td>\n",
       "      <td>2.5</td>\n",
       "      <td>5.0</td>\n",
       "      <td>1.9</td>\n",
       "      <td>virginica</td>\n",
       "    </tr>\n",
       "    <tr>\n",
       "      <th>147</th>\n",
       "      <td>6.5</td>\n",
       "      <td>3.0</td>\n",
       "      <td>5.2</td>\n",
       "      <td>2.0</td>\n",
       "      <td>virginica</td>\n",
       "    </tr>\n",
       "    <tr>\n",
       "      <th>148</th>\n",
       "      <td>6.2</td>\n",
       "      <td>3.4</td>\n",
       "      <td>5.4</td>\n",
       "      <td>2.3</td>\n",
       "      <td>virginica</td>\n",
       "    </tr>\n",
       "    <tr>\n",
       "      <th>149</th>\n",
       "      <td>5.9</td>\n",
       "      <td>3.0</td>\n",
       "      <td>5.1</td>\n",
       "      <td>1.8</td>\n",
       "      <td>virginica</td>\n",
       "    </tr>\n",
       "  </tbody>\n",
       "</table>\n",
       "<p>150 rows × 5 columns</p>\n",
       "</div>"
      ],
      "text/plain": [
       "     sepal_length  sepal_width  petal_length  petal_width    species\n",
       "0             5.1          3.5           1.4          0.2     setosa\n",
       "1             4.9          3.0           1.4          0.2     setosa\n",
       "2             4.7          3.2           1.3          0.2     setosa\n",
       "3             4.6          3.1           1.5          0.2     setosa\n",
       "4             5.0          3.6           1.4          0.2     setosa\n",
       "..            ...          ...           ...          ...        ...\n",
       "145           6.7          3.0           5.2          2.3  virginica\n",
       "146           6.3          2.5           5.0          1.9  virginica\n",
       "147           6.5          3.0           5.2          2.0  virginica\n",
       "148           6.2          3.4           5.4          2.3  virginica\n",
       "149           5.9          3.0           5.1          1.8  virginica\n",
       "\n",
       "[150 rows x 5 columns]"
      ]
     },
     "execution_count": 22,
     "metadata": {},
     "output_type": "execute_result"
    }
   ],
   "source": [
    "df = sns.load_dataset('iris')\n",
    "df"
   ]
  },
  {
   "cell_type": "code",
   "execution_count": 27,
   "id": "b69610d4-5b3b-4f37-a53f-0618f0e2581f",
   "metadata": {},
   "outputs": [
    {
     "data": {
      "text/plain": [
       "petal_length  sepal_width    -0.428440\n",
       "species       sepal_width    -0.426658\n",
       "petal_width   sepal_width    -0.366126\n",
       "sepal_width   sepal_length   -0.117570\n",
       "species       sepal_length    0.782561\n",
       "petal_width   sepal_length    0.817941\n",
       "petal_length  sepal_length    0.871754\n",
       "species       petal_length    0.949035\n",
       "              petal_width     0.956547\n",
       "petal_width   petal_length    0.962865\n",
       "dtype: float64"
      ]
     },
     "execution_count": 27,
     "metadata": {},
     "output_type": "execute_result"
    }
   ],
   "source": [
    "sorted_correlation_params = {'data': df, \n",
    "                             'target': 'species', \n",
    "                             'correl_method': 'pearson'}\n",
    "\n",
    "def sorted_correlation(data, target, correl_method):\n",
    "                             \n",
    "    # Convert categorical values to numeric\n",
    "    le = LabelEncoder()\n",
    "    data[target] = le.fit_transform(data[target])\n",
    "  \n",
    "    # Create correlation matrix\n",
    "    corr_mat = data.corr(method=correl_method)\n",
    "  \n",
    "    # Retain upper triangular values of correlation matrix and\n",
    "    # make Lower triangular values Null\n",
    "    upper_corr_mat = corr_mat.where(\n",
    "        np.triu(np.ones(corr_mat.shape), k=1).astype(bool))\n",
    "  \n",
    "    # Convert to 1-D series and drop Null values\n",
    "    unique_corr_pairs = upper_corr_mat.unstack().dropna()\n",
    "  \n",
    "    # Sort correlation pairs\n",
    "    sorted_mat = unique_corr_pairs.sort_values()\n",
    "\n",
    "    return sorted_mat\n",
    "\n",
    "sorted_correlation(**sorted_correlation_params)"
   ]
  },
  {
   "cell_type": "code",
   "execution_count": null,
   "id": "ffd8374b-290f-4ccf-8f1d-50580ff0b4a1",
   "metadata": {},
   "outputs": [],
   "source": [
    "def sorted_correlation():\n",
    "    # Convert categorical values to numeric\n",
    "    label_encoder = LabelEncoder()\n",
    "    df['species'] = label_encoder.fit_transform(df['species'])\n",
    "  \n",
    "    # Create correlation matrix\n",
    "    corr_mat = df.corr(method='pearson')\n",
    "  \n",
    "    # Retain upper triangular values of correlation matrix and\n",
    "    # make Lower triangular values Null\n",
    "    upper_corr_mat = corr_mat.where(\n",
    "    np.triu(np.ones(corr_mat.shape), k=1).astype(bool))\n",
    "  \n",
    "    # Convert to 1-D series and drop Null values\n",
    "    unique_corr_pairs = upper_corr_mat.unstack().dropna()\n",
    "  \n",
    "    # Sort correlation pairs\n",
    "    sorted_mat = unique_corr_pairs.sort_values()\n",
    "    print(sorted_mat)\n",
    "    "
   ]
  },
  {
   "cell_type": "code",
   "execution_count": 2,
   "id": "610e9808",
   "metadata": {},
   "outputs": [
    {
     "name": "stdout",
     "output_type": "stream",
     "text": [
      "petal_length  sepal_width    -0.428440\n",
      "species       sepal_width    -0.426658\n",
      "petal_width   sepal_width    -0.366126\n",
      "sepal_width   sepal_length   -0.117570\n",
      "species       sepal_length    0.782561\n",
      "petal_width   sepal_length    0.817941\n",
      "petal_length  sepal_length    0.871754\n",
      "species       petal_length    0.949035\n",
      "              petal_width     0.956547\n",
      "petal_width   petal_length    0.962865\n",
      "dtype: float64\n"
     ]
    }
   ],
   "source": [
    "# Import required libraries\n",
    "import pandas as pd\n",
    "import numpy as np\n",
    "import seaborn as sns\n",
    "import matplotlib.pyplot as plt\n",
    "from sklearn.preprocessing import LabelEncoder\n",
    "  \n",
    "# Load dataset\n",
    "df = sns.load_dataset('iris')\n",
    "  \n",
    "# Convert categorical values to numeric\n",
    "label_encoder = LabelEncoder()\n",
    "df['species'] = label_encoder.fit_transform(df['species'])\n",
    "  \n",
    "# Create correlation matrix\n",
    "corr_mat = df.corr(method='pearson')\n",
    "  \n",
    "# Retain upper triangular values of correlation matrix and\n",
    "# make Lower triangular values Null\n",
    "upper_corr_mat = corr_mat.where(\n",
    "    np.triu(np.ones(corr_mat.shape), k=1).astype(bool))\n",
    "  \n",
    "# Convert to 1-D series and drop Null values\n",
    "unique_corr_pairs = upper_corr_mat.unstack().dropna()\n",
    "  \n",
    "# Sort correlation pairs\n",
    "sorted_mat = unique_corr_pairs.sort_values()\n",
    "print(sorted_mat)"
   ]
  },
  {
   "cell_type": "code",
   "execution_count": null,
   "id": "03ddcef7-837f-4750-aa04-ba3ba5a4b99f",
   "metadata": {},
   "outputs": [],
   "source": []
  }
 ],
 "metadata": {
  "kernelspec": {
   "display_name": "Python 3 (ipykernel)",
   "language": "python",
   "name": "python3"
  },
  "language_info": {
   "codemirror_mode": {
    "name": "ipython",
    "version": 3
   },
   "file_extension": ".py",
   "mimetype": "text/x-python",
   "name": "python",
   "nbconvert_exporter": "python",
   "pygments_lexer": "ipython3",
   "version": "3.9.13"
  }
 },
 "nbformat": 4,
 "nbformat_minor": 5
}
