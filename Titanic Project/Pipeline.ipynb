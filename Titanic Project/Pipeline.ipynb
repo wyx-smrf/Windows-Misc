{
 "cells": [
  {
   "cell_type": "code",
   "execution_count": 1,
   "id": "b25ba449-330d-4963-a0e7-8875f0a3e99d",
   "metadata": {},
   "outputs": [],
   "source": [
    "import numpy as np\n",
    "import pandas as pd\n",
    "import seaborn as sns\n",
    "import matplotlib.pyplot as plt\n",
    "\n",
    "from sklearn.pipeline import make_pipeline\n",
    "from sklearn.compose import ColumnTransformer\n",
    "from sklearn.preprocessing import LabelEncoder\n",
    "from sklearn.preprocessing import StandardScaler \n",
    "from sklearn.preprocessing import FunctionTransformer"
   ]
  },
  {
   "cell_type": "code",
   "execution_count": 2,
   "id": "fa45a6a7-2fa5-4d8d-87ed-a50c8039f671",
   "metadata": {},
   "outputs": [],
   "source": [
    "# Improve this next time\n",
    "# Create a directory for datasets\n",
    "\n",
    "def get_data(data_link):\n",
    "    data = pd.read_csv(data_link)\n",
    "    return data\n",
    "\n",
    "train_data = get_data('https://raw.githubusercontent.com/wyx-smrf/Windows-Misc/main/Titanic%20Project/train.csv')\n",
    "test_data = get_data('https://raw.githubusercontent.com/wyx-smrf/Windows-Misc/main/Titanic%20Project/test.csv')"
   ]
  },
  {
   "cell_type": "markdown",
   "id": "a6c735f8-e01f-4988-be1b-32eb7827e3f1",
   "metadata": {},
   "source": [
    "### Pipeline"
   ]
  },
  {
   "cell_type": "code",
   "execution_count": 3,
   "id": "66c86978-98e2-41ba-8e0e-601f3c1fd7e2",
   "metadata": {},
   "outputs": [],
   "source": [
    "y = train_data[\"Survived\"]\n",
    "X = train_data.drop(columns=[\"Survived\"])"
   ]
  },
  {
   "cell_type": "code",
   "execution_count": 4,
   "id": "5a2b9382-1740-406d-8689-82af2cfdb0f1",
   "metadata": {},
   "outputs": [],
   "source": [
    "from sklearn.model_selection import train_test_split\n",
    "\n",
    "X_train, X_test, y_train, y_test = train_test_split(X, y, test_size=0.2, random_state=42)"
   ]
  },
  {
   "cell_type": "markdown",
   "id": "a0221f90-2fb8-4e7c-bcf7-89038772a513",
   "metadata": {},
   "source": [
    "### Pandas Pipeline 1: Delete irrelevant columns"
   ]
  },
  {
   "cell_type": "code",
   "execution_count": 5,
   "id": "7cf2cc14-bba4-4187-82fa-2f7dd486f83e",
   "metadata": {},
   "outputs": [],
   "source": [
    "params = {'dataframe': train_data, \n",
    "          'del_cols_aslist': ['PassengerId', 'Name', 'Ticket', 'Cabin']}\n",
    "\n",
    "def delete_cols(dataframe, del_cols_aslist):\n",
    "    new_dataframe = dataframe.drop(columns = del_cols_aslist, axis=1)\n",
    "    return new_dataframe"
   ]
  },
  {
   "cell_type": "markdown",
   "id": "95ecd8e6-8479-4f54-b268-ba8cb3de4ddf",
   "metadata": {},
   "source": [
    "### Pandas Pipeline 2: Add additional columns"
   ]
  },
  {
   "cell_type": "code",
   "execution_count": 6,
   "id": "31ffc6df-cc89-47be-84c7-63ffdd450750",
   "metadata": {},
   "outputs": [],
   "source": [
    "# column_operation_params = {'dataframe': removecols_df, \n",
    "#                            'num_col_1': 'SibSp', \n",
    "#                            'num_col_2': 'Parch',\n",
    "#                            'result_colname': 'Companion'}\n",
    "\n",
    "def column_addition(dataframe, num_col_1, num_col_2, result_colname):\n",
    "    dataframe[result_colname] = dataframe[num_col_1] + dataframe[num_col_2]\n",
    "    return dataframe"
   ]
  },
  {
   "cell_type": "code",
   "execution_count": 7,
   "id": "f59d1d46-3a9f-4d79-9b8c-72af6e207cb8",
   "metadata": {},
   "outputs": [],
   "source": [
    "# column_operation_params = {'dataframe': removecols_df, \n",
    "#                            'num_col_1': 'Fare', \n",
    "#                            'num_col_2': 'Companion',\n",
    "#                            'result_colname': 'Indiv_Price'}\n",
    "\n",
    "def column_division(dataframe, num_col_1, num_col_2, result_colname):\n",
    "    dataframe[result_colname] = dataframe[num_col_1] / dataframe[num_col_2]\n",
    "    \n",
    "    dataframe[result_colname].replace([np.inf, -np.inf], np.nan, inplace=True)\n",
    "    dataframe[result_colname].fillna(dataframe[num_col_1], inplace=True)\n",
    "    \n",
    "    return dataframe"
   ]
  },
  {
   "cell_type": "markdown",
   "id": "98d9979e-24af-47b0-9cd2-4726dffa9779",
   "metadata": {},
   "source": [
    "### Pandas Pipeline 3: Impute Missing Values based on group statistics"
   ]
  },
  {
   "cell_type": "code",
   "execution_count": 8,
   "id": "2ed84f83-f4b2-458d-ab1b-918d2d1d395f",
   "metadata": {},
   "outputs": [],
   "source": [
    "# Age Conditional Imputing\n",
    "\n",
    "# conditional_fillna_params = {'dataframe':       divcols_df,\n",
    "#                              'cat_col_1':       'Pclass', \n",
    "#                              'cat_col_2':       'Sex', \n",
    "#                              'num_col':         'Age', \n",
    "#                              'impute_strategy': 'mean'}\n",
    "\n",
    "def conditional_fillna(dataframe, cat_col_1, cat_col_2, num_col, impute_strategy):\n",
    "  # Create a grouping for the dataset\n",
    "  grouped_data = dataframe.groupby([cat_col_1, cat_col_2])[num_col]\n",
    "\n",
    "  # Fill missing values in a column using the defined impute strategy\n",
    "  dataframe[num_col].fillna(grouped_data.transform(impute_strategy), inplace=True)\n",
    "\n",
    "  # Optional: Covert the imputed numerical values into an integer\n",
    "  dataframe[num_col] = dataframe[num_col].round(0).astype(int)\n",
    "\n",
    "  return dataframe"
   ]
  },
  {
   "cell_type": "markdown",
   "id": "56805747-5241-4f31-9c5c-9c93e2224073",
   "metadata": {},
   "source": [
    "## Compiled Pandas Pipeline"
   ]
  },
  {
   "cell_type": "code",
   "execution_count": 9,
   "id": "c9b454f3-7c0e-4649-8298-96645ad07985",
   "metadata": {},
   "outputs": [],
   "source": [
    "del_cols_aslist = ['PassengerId', 'Name', 'Ticket', 'Cabin']\n",
    "column_addition_params = {'num_col_1': 'SibSp', 'num_col_2': 'Parch', 'result_colname': 'Companion'}\n",
    "column_division_params = {'num_col_1': 'Fare', 'num_col_2': 'Companion', 'result_colname': 'Indiv_Price'}\n",
    "conditional_fillna_params = {'cat_col_1': 'Pclass', 'cat_col_2': 'Sex', 'num_col': 'Age', 'impute_strategy': 'mean'}\n",
    "\n",
    "\n",
    "pandas_pipeline = (X_train\n",
    "                   .pipe(delete_cols, del_cols_aslist)\n",
    "                   .pipe(column_addition, **column_addition_params)\n",
    "                   .pipe(column_division, **column_division_params)\n",
    "                   .pipe(conditional_fillna, **conditional_fillna_params))"
   ]
  },
  {
   "cell_type": "code",
   "execution_count": 10,
   "id": "5b169115-39a0-4415-8a55-1e8a4e4819df",
   "metadata": {},
   "outputs": [
    {
     "data": {
      "text/html": [
       "<div>\n",
       "<style scoped>\n",
       "    .dataframe tbody tr th:only-of-type {\n",
       "        vertical-align: middle;\n",
       "    }\n",
       "\n",
       "    .dataframe tbody tr th {\n",
       "        vertical-align: top;\n",
       "    }\n",
       "\n",
       "    .dataframe thead th {\n",
       "        text-align: right;\n",
       "    }\n",
       "</style>\n",
       "<table border=\"1\" class=\"dataframe\">\n",
       "  <thead>\n",
       "    <tr style=\"text-align: right;\">\n",
       "      <th></th>\n",
       "      <th>Pclass</th>\n",
       "      <th>Sex</th>\n",
       "      <th>Age</th>\n",
       "      <th>SibSp</th>\n",
       "      <th>Parch</th>\n",
       "      <th>Fare</th>\n",
       "      <th>Embarked</th>\n",
       "      <th>Companion</th>\n",
       "      <th>Indiv_Price</th>\n",
       "    </tr>\n",
       "  </thead>\n",
       "  <tbody>\n",
       "    <tr>\n",
       "      <th>331</th>\n",
       "      <td>1</td>\n",
       "      <td>male</td>\n",
       "      <td>46</td>\n",
       "      <td>0</td>\n",
       "      <td>0</td>\n",
       "      <td>28.5000</td>\n",
       "      <td>S</td>\n",
       "      <td>0</td>\n",
       "      <td>28.5000</td>\n",
       "    </tr>\n",
       "    <tr>\n",
       "      <th>733</th>\n",
       "      <td>2</td>\n",
       "      <td>male</td>\n",
       "      <td>23</td>\n",
       "      <td>0</td>\n",
       "      <td>0</td>\n",
       "      <td>13.0000</td>\n",
       "      <td>S</td>\n",
       "      <td>0</td>\n",
       "      <td>13.0000</td>\n",
       "    </tr>\n",
       "    <tr>\n",
       "      <th>382</th>\n",
       "      <td>3</td>\n",
       "      <td>male</td>\n",
       "      <td>32</td>\n",
       "      <td>0</td>\n",
       "      <td>0</td>\n",
       "      <td>7.9250</td>\n",
       "      <td>S</td>\n",
       "      <td>0</td>\n",
       "      <td>7.9250</td>\n",
       "    </tr>\n",
       "    <tr>\n",
       "      <th>704</th>\n",
       "      <td>3</td>\n",
       "      <td>male</td>\n",
       "      <td>26</td>\n",
       "      <td>1</td>\n",
       "      <td>0</td>\n",
       "      <td>7.8542</td>\n",
       "      <td>S</td>\n",
       "      <td>1</td>\n",
       "      <td>7.8542</td>\n",
       "    </tr>\n",
       "    <tr>\n",
       "      <th>813</th>\n",
       "      <td>3</td>\n",
       "      <td>female</td>\n",
       "      <td>6</td>\n",
       "      <td>4</td>\n",
       "      <td>2</td>\n",
       "      <td>31.2750</td>\n",
       "      <td>S</td>\n",
       "      <td>6</td>\n",
       "      <td>5.2125</td>\n",
       "    </tr>\n",
       "  </tbody>\n",
       "</table>\n",
       "</div>"
      ],
      "text/plain": [
       "     Pclass     Sex  Age  SibSp  Parch     Fare Embarked  Companion  \\\n",
       "331       1    male   46      0      0  28.5000        S          0   \n",
       "733       2    male   23      0      0  13.0000        S          0   \n",
       "382       3    male   32      0      0   7.9250        S          0   \n",
       "704       3    male   26      1      0   7.8542        S          1   \n",
       "813       3  female    6      4      2  31.2750        S          6   \n",
       "\n",
       "     Indiv_Price  \n",
       "331      28.5000  \n",
       "733      13.0000  \n",
       "382       7.9250  \n",
       "704       7.8542  \n",
       "813       5.2125  "
      ]
     },
     "execution_count": 10,
     "metadata": {},
     "output_type": "execute_result"
    }
   ],
   "source": [
    "pandas_pipeline.head()"
   ]
  },
  {
   "cell_type": "code",
   "execution_count": 11,
   "id": "ccd0480a-024c-47af-b52f-02aeb67046ab",
   "metadata": {},
   "outputs": [
    {
     "name": "stdout",
     "output_type": "stream",
     "text": [
      "Monkey-patching SimpleImputer.get_feature_names_out()\n",
      "Monkey-patching FunctionTransformer.get_feature_names_out()\n"
     ]
    }
   ],
   "source": [
    "def monkey_patch_get_signature_names_out():\n",
    "    \"\"\"Monkey patch some classes which did not handle get_feature_names_out()\n",
    "       correctly in Scikit-Learn 1.0.*.\"\"\"\n",
    "    from inspect import Signature, signature, Parameter\n",
    "    import pandas as pd\n",
    "    from sklearn.impute import SimpleImputer\n",
    "    from sklearn.pipeline import make_pipeline, Pipeline\n",
    "    from sklearn.preprocessing import FunctionTransformer, StandardScaler\n",
    "\n",
    "    default_get_feature_names_out = StandardScaler.get_feature_names_out\n",
    "\n",
    "    if not hasattr(SimpleImputer, \"get_feature_names_out\"):\n",
    "      print(\"Monkey-patching SimpleImputer.get_feature_names_out()\")\n",
    "      SimpleImputer.get_feature_names_out = default_get_feature_names_out\n",
    "\n",
    "    if not hasattr(FunctionTransformer, \"get_feature_names_out\"):\n",
    "        print(\"Monkey-patching FunctionTransformer.get_feature_names_out()\")\n",
    "        orig_init = FunctionTransformer.__init__\n",
    "        orig_sig = signature(orig_init)\n",
    "\n",
    "        def __init__(*args, feature_names_out=None, **kwargs):\n",
    "            orig_sig.bind(*args, **kwargs)\n",
    "            orig_init(*args, **kwargs)\n",
    "            args[0].feature_names_out = feature_names_out\n",
    "\n",
    "        __init__.__signature__ = Signature(\n",
    "            list(signature(orig_init).parameters.values()) + [\n",
    "                Parameter(\"feature_names_out\", Parameter.KEYWORD_ONLY)])\n",
    "\n",
    "        def get_feature_names_out(self, names=None):\n",
    "            if callable(self.feature_names_out):\n",
    "                return self.feature_names_out(self, names)\n",
    "            assert self.feature_names_out == \"one-to-one\"\n",
    "            return default_get_feature_names_out(self, names)\n",
    "\n",
    "        FunctionTransformer.__init__ = __init__\n",
    "        FunctionTransformer.get_feature_names_out = get_feature_names_out\n",
    "\n",
    "monkey_patch_get_signature_names_out()"
   ]
  },
  {
   "cell_type": "markdown",
   "id": "823a05ea-e461-44ad-b624-f21e34e0348b",
   "metadata": {},
   "source": [
    "### Sklearn Pipeline"
   ]
  },
  {
   "cell_type": "code",
   "execution_count": null,
   "id": "f84ca6fb-f83b-4812-8161-824a806f7a09",
   "metadata": {},
   "outputs": [],
   "source": []
  },
  {
   "cell_type": "code",
   "execution_count": 12,
   "id": "97c1dc1a-83f7-4f6b-9ce4-ee5e5bbf1068",
   "metadata": {},
   "outputs": [],
   "source": [
    "# Pipeline for categorical columns\n",
    "\n",
    "from sklearn.impute import SimpleImputer\n",
    "from sklearn.preprocessing import OneHotEncoder\n",
    "from sklearn.compose import make_column_transformer, make_column_selector\n",
    "\n",
    "cat_pipeline = make_pipeline(\n",
    "    SimpleImputer(strategy=\"most_frequent\"),\n",
    "    OneHotEncoder(handle_unknown=\"ignore\"))\n",
    "\n",
    "num_pipeline = make_pipeline(\n",
    "    SimpleImputer(strategy=\"median\"), \n",
    "    StandardScaler())\n",
    "\n",
    "preprocessing = ColumnTransformer([\n",
    "    (\"numeric\", num_pipeline, make_column_selector(dtype_include=np.number)),\n",
    "    (\"categorical\", cat_pipeline, make_column_selector(dtype_include=object))], \n",
    "    remainder='passthrough')"
   ]
  },
  {
   "cell_type": "markdown",
   "id": "7628241b-346a-4d9f-856e-a1509a23fe0f",
   "metadata": {},
   "source": [
    "---"
   ]
  },
  {
   "cell_type": "code",
   "execution_count": 13,
   "id": "a49eefed-ea08-43df-82a9-b10ca0753467",
   "metadata": {},
   "outputs": [],
   "source": [
    "pandas_pipeline_test = (X_test\n",
    "                        .pipe(delete_cols, del_cols_aslist)\n",
    "                        .pipe(column_addition, **column_addition_params)\n",
    "                        .pipe(column_division, **column_division_params)\n",
    "                        .pipe(conditional_fillna, **conditional_fillna_params))\n",
    "\n",
    "sk_test = pd.DataFrame(preprocessing.fit_transform(pandas_pipeline_test))"
   ]
  },
  {
   "cell_type": "markdown",
   "id": "85bb5e47-8533-498f-9e93-ddae2667e5e9",
   "metadata": {
    "tags": []
   },
   "source": [
    "# Training"
   ]
  },
  {
   "cell_type": "code",
   "execution_count": 14,
   "id": "99422c3d-17d6-4e5d-948b-94155c8d2c35",
   "metadata": {},
   "outputs": [],
   "source": [
    "from sklearn import set_config\n",
    "\n",
    "set_config(display='diagram')"
   ]
  },
  {
   "cell_type": "code",
   "execution_count": 15,
   "id": "27e4ef11-3edf-415a-9303-c6f386a36e6d",
   "metadata": {},
   "outputs": [
    {
     "data": {
      "text/html": [
       "<style>#sk-2d93e2b1-8528-418a-b21a-a7fa5dc6f7c6 {color: black;background-color: white;}#sk-2d93e2b1-8528-418a-b21a-a7fa5dc6f7c6 pre{padding: 0;}#sk-2d93e2b1-8528-418a-b21a-a7fa5dc6f7c6 div.sk-toggleable {background-color: white;}#sk-2d93e2b1-8528-418a-b21a-a7fa5dc6f7c6 label.sk-toggleable__label {cursor: pointer;display: block;width: 100%;margin-bottom: 0;padding: 0.3em;box-sizing: border-box;text-align: center;}#sk-2d93e2b1-8528-418a-b21a-a7fa5dc6f7c6 label.sk-toggleable__label-arrow:before {content: \"▸\";float: left;margin-right: 0.25em;color: #696969;}#sk-2d93e2b1-8528-418a-b21a-a7fa5dc6f7c6 label.sk-toggleable__label-arrow:hover:before {color: black;}#sk-2d93e2b1-8528-418a-b21a-a7fa5dc6f7c6 div.sk-estimator:hover label.sk-toggleable__label-arrow:before {color: black;}#sk-2d93e2b1-8528-418a-b21a-a7fa5dc6f7c6 div.sk-toggleable__content {max-height: 0;max-width: 0;overflow: hidden;text-align: left;background-color: #f0f8ff;}#sk-2d93e2b1-8528-418a-b21a-a7fa5dc6f7c6 div.sk-toggleable__content pre {margin: 0.2em;color: black;border-radius: 0.25em;background-color: #f0f8ff;}#sk-2d93e2b1-8528-418a-b21a-a7fa5dc6f7c6 input.sk-toggleable__control:checked~div.sk-toggleable__content {max-height: 200px;max-width: 100%;overflow: auto;}#sk-2d93e2b1-8528-418a-b21a-a7fa5dc6f7c6 input.sk-toggleable__control:checked~label.sk-toggleable__label-arrow:before {content: \"▾\";}#sk-2d93e2b1-8528-418a-b21a-a7fa5dc6f7c6 div.sk-estimator input.sk-toggleable__control:checked~label.sk-toggleable__label {background-color: #d4ebff;}#sk-2d93e2b1-8528-418a-b21a-a7fa5dc6f7c6 div.sk-label input.sk-toggleable__control:checked~label.sk-toggleable__label {background-color: #d4ebff;}#sk-2d93e2b1-8528-418a-b21a-a7fa5dc6f7c6 input.sk-hidden--visually {border: 0;clip: rect(1px 1px 1px 1px);clip: rect(1px, 1px, 1px, 1px);height: 1px;margin: -1px;overflow: hidden;padding: 0;position: absolute;width: 1px;}#sk-2d93e2b1-8528-418a-b21a-a7fa5dc6f7c6 div.sk-estimator {font-family: monospace;background-color: #f0f8ff;border: 1px dotted black;border-radius: 0.25em;box-sizing: border-box;margin-bottom: 0.5em;}#sk-2d93e2b1-8528-418a-b21a-a7fa5dc6f7c6 div.sk-estimator:hover {background-color: #d4ebff;}#sk-2d93e2b1-8528-418a-b21a-a7fa5dc6f7c6 div.sk-parallel-item::after {content: \"\";width: 100%;border-bottom: 1px solid gray;flex-grow: 1;}#sk-2d93e2b1-8528-418a-b21a-a7fa5dc6f7c6 div.sk-label:hover label.sk-toggleable__label {background-color: #d4ebff;}#sk-2d93e2b1-8528-418a-b21a-a7fa5dc6f7c6 div.sk-serial::before {content: \"\";position: absolute;border-left: 1px solid gray;box-sizing: border-box;top: 2em;bottom: 0;left: 50%;}#sk-2d93e2b1-8528-418a-b21a-a7fa5dc6f7c6 div.sk-serial {display: flex;flex-direction: column;align-items: center;background-color: white;padding-right: 0.2em;padding-left: 0.2em;}#sk-2d93e2b1-8528-418a-b21a-a7fa5dc6f7c6 div.sk-item {z-index: 1;}#sk-2d93e2b1-8528-418a-b21a-a7fa5dc6f7c6 div.sk-parallel {display: flex;align-items: stretch;justify-content: center;background-color: white;}#sk-2d93e2b1-8528-418a-b21a-a7fa5dc6f7c6 div.sk-parallel::before {content: \"\";position: absolute;border-left: 1px solid gray;box-sizing: border-box;top: 2em;bottom: 0;left: 50%;}#sk-2d93e2b1-8528-418a-b21a-a7fa5dc6f7c6 div.sk-parallel-item {display: flex;flex-direction: column;position: relative;background-color: white;}#sk-2d93e2b1-8528-418a-b21a-a7fa5dc6f7c6 div.sk-parallel-item:first-child::after {align-self: flex-end;width: 50%;}#sk-2d93e2b1-8528-418a-b21a-a7fa5dc6f7c6 div.sk-parallel-item:last-child::after {align-self: flex-start;width: 50%;}#sk-2d93e2b1-8528-418a-b21a-a7fa5dc6f7c6 div.sk-parallel-item:only-child::after {width: 0;}#sk-2d93e2b1-8528-418a-b21a-a7fa5dc6f7c6 div.sk-dashed-wrapped {border: 1px dashed gray;margin: 0 0.4em 0.5em 0.4em;box-sizing: border-box;padding-bottom: 0.4em;background-color: white;position: relative;}#sk-2d93e2b1-8528-418a-b21a-a7fa5dc6f7c6 div.sk-label label {font-family: monospace;font-weight: bold;background-color: white;display: inline-block;line-height: 1.2em;}#sk-2d93e2b1-8528-418a-b21a-a7fa5dc6f7c6 div.sk-label-container {position: relative;z-index: 2;text-align: center;}#sk-2d93e2b1-8528-418a-b21a-a7fa5dc6f7c6 div.sk-container {/* jupyter's `normalize.less` sets `[hidden] { display: none; }` but bootstrap.min.css set `[hidden] { display: none !important; }` so we also need the `!important` here to be able to override the default hidden behavior on the sphinx rendered scikit-learn.org. See: https://github.com/scikit-learn/scikit-learn/issues/21755 */display: inline-block !important;position: relative;}#sk-2d93e2b1-8528-418a-b21a-a7fa5dc6f7c6 div.sk-text-repr-fallback {display: none;}</style><div id=\"sk-2d93e2b1-8528-418a-b21a-a7fa5dc6f7c6\" class=\"sk-top-container\"><div class=\"sk-text-repr-fallback\"><pre>Pipeline(steps=[(&#x27;columntransformer&#x27;,\n",
       "                 ColumnTransformer(remainder=&#x27;passthrough&#x27;,\n",
       "                                   transformers=[(&#x27;numeric&#x27;,\n",
       "                                                  Pipeline(steps=[(&#x27;simpleimputer&#x27;,\n",
       "                                                                   SimpleImputer(strategy=&#x27;median&#x27;)),\n",
       "                                                                  (&#x27;standardscaler&#x27;,\n",
       "                                                                   StandardScaler())]),\n",
       "                                                  &lt;sklearn.compose._column_transformer.make_column_selector object at 0x000001C13DC411C0&gt;),\n",
       "                                                 (&#x27;categorical&#x27;,\n",
       "                                                  Pipeline(steps=[(&#x27;simpleimputer&#x27;,\n",
       "                                                                   SimpleImputer(strategy=&#x27;most_frequent&#x27;)),\n",
       "                                                                  (&#x27;onehotencoder&#x27;,\n",
       "                                                                   OneHotEncoder(handle_unknown=&#x27;ignore&#x27;))]),\n",
       "                                                  &lt;sklearn.compose._column_transformer.make_column_selector object at 0x000001C13DC411F0&gt;)])),\n",
       "                (&#x27;logisticregression&#x27;, LogisticRegression())])</pre><b>Please rerun this cell to show the HTML repr or trust the notebook.</b></div><div class=\"sk-container\" hidden><div class=\"sk-item sk-dashed-wrapped\"><div class=\"sk-label-container\"><div class=\"sk-label sk-toggleable\"><input class=\"sk-toggleable__control sk-hidden--visually\" id=\"1dcad63e-74d7-4ae3-be11-de34e6bdac9c\" type=\"checkbox\" ><label for=\"1dcad63e-74d7-4ae3-be11-de34e6bdac9c\" class=\"sk-toggleable__label sk-toggleable__label-arrow\">Pipeline</label><div class=\"sk-toggleable__content\"><pre>Pipeline(steps=[(&#x27;columntransformer&#x27;,\n",
       "                 ColumnTransformer(remainder=&#x27;passthrough&#x27;,\n",
       "                                   transformers=[(&#x27;numeric&#x27;,\n",
       "                                                  Pipeline(steps=[(&#x27;simpleimputer&#x27;,\n",
       "                                                                   SimpleImputer(strategy=&#x27;median&#x27;)),\n",
       "                                                                  (&#x27;standardscaler&#x27;,\n",
       "                                                                   StandardScaler())]),\n",
       "                                                  &lt;sklearn.compose._column_transformer.make_column_selector object at 0x000001C13DC411C0&gt;),\n",
       "                                                 (&#x27;categorical&#x27;,\n",
       "                                                  Pipeline(steps=[(&#x27;simpleimputer&#x27;,\n",
       "                                                                   SimpleImputer(strategy=&#x27;most_frequent&#x27;)),\n",
       "                                                                  (&#x27;onehotencoder&#x27;,\n",
       "                                                                   OneHotEncoder(handle_unknown=&#x27;ignore&#x27;))]),\n",
       "                                                  &lt;sklearn.compose._column_transformer.make_column_selector object at 0x000001C13DC411F0&gt;)])),\n",
       "                (&#x27;logisticregression&#x27;, LogisticRegression())])</pre></div></div></div><div class=\"sk-serial\"><div class=\"sk-item sk-dashed-wrapped\"><div class=\"sk-label-container\"><div class=\"sk-label sk-toggleable\"><input class=\"sk-toggleable__control sk-hidden--visually\" id=\"84f74b38-56fc-452e-9724-39e8f83a7f8a\" type=\"checkbox\" ><label for=\"84f74b38-56fc-452e-9724-39e8f83a7f8a\" class=\"sk-toggleable__label sk-toggleable__label-arrow\">columntransformer: ColumnTransformer</label><div class=\"sk-toggleable__content\"><pre>ColumnTransformer(remainder=&#x27;passthrough&#x27;,\n",
       "                  transformers=[(&#x27;numeric&#x27;,\n",
       "                                 Pipeline(steps=[(&#x27;simpleimputer&#x27;,\n",
       "                                                  SimpleImputer(strategy=&#x27;median&#x27;)),\n",
       "                                                 (&#x27;standardscaler&#x27;,\n",
       "                                                  StandardScaler())]),\n",
       "                                 &lt;sklearn.compose._column_transformer.make_column_selector object at 0x000001C13DC411C0&gt;),\n",
       "                                (&#x27;categorical&#x27;,\n",
       "                                 Pipeline(steps=[(&#x27;simpleimputer&#x27;,\n",
       "                                                  SimpleImputer(strategy=&#x27;most_frequent&#x27;)),\n",
       "                                                 (&#x27;onehotencoder&#x27;,\n",
       "                                                  OneHotEncoder(handle_unknown=&#x27;ignore&#x27;))]),\n",
       "                                 &lt;sklearn.compose._column_transformer.make_column_selector object at 0x000001C13DC411F0&gt;)])</pre></div></div></div><div class=\"sk-parallel\"><div class=\"sk-parallel-item\"><div class=\"sk-item\"><div class=\"sk-label-container\"><div class=\"sk-label sk-toggleable\"><input class=\"sk-toggleable__control sk-hidden--visually\" id=\"137911e2-0a29-4dfa-a429-c08657f4482c\" type=\"checkbox\" ><label for=\"137911e2-0a29-4dfa-a429-c08657f4482c\" class=\"sk-toggleable__label sk-toggleable__label-arrow\">numeric</label><div class=\"sk-toggleable__content\"><pre>&lt;sklearn.compose._column_transformer.make_column_selector object at 0x000001C13DC411C0&gt;</pre></div></div></div><div class=\"sk-serial\"><div class=\"sk-item\"><div class=\"sk-serial\"><div class=\"sk-item\"><div class=\"sk-estimator sk-toggleable\"><input class=\"sk-toggleable__control sk-hidden--visually\" id=\"efaa5685-c3d6-4030-9f6f-d985b7da008f\" type=\"checkbox\" ><label for=\"efaa5685-c3d6-4030-9f6f-d985b7da008f\" class=\"sk-toggleable__label sk-toggleable__label-arrow\">SimpleImputer</label><div class=\"sk-toggleable__content\"><pre>SimpleImputer(strategy=&#x27;median&#x27;)</pre></div></div></div><div class=\"sk-item\"><div class=\"sk-estimator sk-toggleable\"><input class=\"sk-toggleable__control sk-hidden--visually\" id=\"3e0fe408-2bab-41ab-878b-ac73c1674cd9\" type=\"checkbox\" ><label for=\"3e0fe408-2bab-41ab-878b-ac73c1674cd9\" class=\"sk-toggleable__label sk-toggleable__label-arrow\">StandardScaler</label><div class=\"sk-toggleable__content\"><pre>StandardScaler()</pre></div></div></div></div></div></div></div></div><div class=\"sk-parallel-item\"><div class=\"sk-item\"><div class=\"sk-label-container\"><div class=\"sk-label sk-toggleable\"><input class=\"sk-toggleable__control sk-hidden--visually\" id=\"d0d517fe-2107-404a-b884-01151f285671\" type=\"checkbox\" ><label for=\"d0d517fe-2107-404a-b884-01151f285671\" class=\"sk-toggleable__label sk-toggleable__label-arrow\">categorical</label><div class=\"sk-toggleable__content\"><pre>&lt;sklearn.compose._column_transformer.make_column_selector object at 0x000001C13DC411F0&gt;</pre></div></div></div><div class=\"sk-serial\"><div class=\"sk-item\"><div class=\"sk-serial\"><div class=\"sk-item\"><div class=\"sk-estimator sk-toggleable\"><input class=\"sk-toggleable__control sk-hidden--visually\" id=\"ad06ed05-37ad-4fa6-822d-785e38cfed52\" type=\"checkbox\" ><label for=\"ad06ed05-37ad-4fa6-822d-785e38cfed52\" class=\"sk-toggleable__label sk-toggleable__label-arrow\">SimpleImputer</label><div class=\"sk-toggleable__content\"><pre>SimpleImputer(strategy=&#x27;most_frequent&#x27;)</pre></div></div></div><div class=\"sk-item\"><div class=\"sk-estimator sk-toggleable\"><input class=\"sk-toggleable__control sk-hidden--visually\" id=\"f49ec442-b0bb-46e7-b813-6c1e03b383cc\" type=\"checkbox\" ><label for=\"f49ec442-b0bb-46e7-b813-6c1e03b383cc\" class=\"sk-toggleable__label sk-toggleable__label-arrow\">OneHotEncoder</label><div class=\"sk-toggleable__content\"><pre>OneHotEncoder(handle_unknown=&#x27;ignore&#x27;)</pre></div></div></div></div></div></div></div></div><div class=\"sk-parallel-item\"><div class=\"sk-item\"><div class=\"sk-label-container\"><div class=\"sk-label sk-toggleable\"><input class=\"sk-toggleable__control sk-hidden--visually\" id=\"d4e52475-20b7-4175-a565-4e107121970c\" type=\"checkbox\" ><label for=\"d4e52475-20b7-4175-a565-4e107121970c\" class=\"sk-toggleable__label sk-toggleable__label-arrow\">remainder</label><div class=\"sk-toggleable__content\"><pre>[]</pre></div></div></div><div class=\"sk-serial\"><div class=\"sk-item\"><div class=\"sk-estimator sk-toggleable\"><input class=\"sk-toggleable__control sk-hidden--visually\" id=\"89e67589-5606-440a-b846-b24a6b5fc92c\" type=\"checkbox\" ><label for=\"89e67589-5606-440a-b846-b24a6b5fc92c\" class=\"sk-toggleable__label sk-toggleable__label-arrow\">passthrough</label><div class=\"sk-toggleable__content\"><pre>passthrough</pre></div></div></div></div></div></div></div></div><div class=\"sk-item\"><div class=\"sk-estimator sk-toggleable\"><input class=\"sk-toggleable__control sk-hidden--visually\" id=\"ba27a051-c0a1-489a-abea-649dd1ccf6d0\" type=\"checkbox\" ><label for=\"ba27a051-c0a1-489a-abea-649dd1ccf6d0\" class=\"sk-toggleable__label sk-toggleable__label-arrow\">LogisticRegression</label><div class=\"sk-toggleable__content\"><pre>LogisticRegression()</pre></div></div></div></div></div></div></div>"
      ],
      "text/plain": [
       "Pipeline(steps=[('columntransformer',\n",
       "                 ColumnTransformer(remainder='passthrough',\n",
       "                                   transformers=[('numeric',\n",
       "                                                  Pipeline(steps=[('simpleimputer',\n",
       "                                                                   SimpleImputer(strategy='median')),\n",
       "                                                                  ('standardscaler',\n",
       "                                                                   StandardScaler())]),\n",
       "                                                  <sklearn.compose._column_transformer.make_column_selector object at 0x000001C13DC411C0>),\n",
       "                                                 ('categorical',\n",
       "                                                  Pipeline(steps=[('simpleimputer',\n",
       "                                                                   SimpleImputer(strategy='most_frequent')),\n",
       "                                                                  ('onehotencoder',\n",
       "                                                                   OneHotEncoder(handle_unknown='ignore'))]),\n",
       "                                                  <sklearn.compose._column_transformer.make_column_selector object at 0x000001C13DC411F0>)])),\n",
       "                ('logisticregression', LogisticRegression())])"
      ]
     },
     "execution_count": 15,
     "metadata": {},
     "output_type": "execute_result"
    }
   ],
   "source": [
    "from sklearn.linear_model import LogisticRegression\n",
    "\n",
    "log_clf = make_pipeline(preprocessing, LogisticRegression())\n",
    "log_clf.fit(pandas_pipeline, y_train)"
   ]
  },
  {
   "cell_type": "code",
   "execution_count": 16,
   "id": "96351f90-bdd4-4b97-80a7-e04f04d8dddc",
   "metadata": {},
   "outputs": [
    {
     "data": {
      "text/html": [
       "<style>#sk-04482049-9379-4c89-82b1-ff4e3c755a8c {color: black;background-color: white;}#sk-04482049-9379-4c89-82b1-ff4e3c755a8c pre{padding: 0;}#sk-04482049-9379-4c89-82b1-ff4e3c755a8c div.sk-toggleable {background-color: white;}#sk-04482049-9379-4c89-82b1-ff4e3c755a8c label.sk-toggleable__label {cursor: pointer;display: block;width: 100%;margin-bottom: 0;padding: 0.3em;box-sizing: border-box;text-align: center;}#sk-04482049-9379-4c89-82b1-ff4e3c755a8c label.sk-toggleable__label-arrow:before {content: \"▸\";float: left;margin-right: 0.25em;color: #696969;}#sk-04482049-9379-4c89-82b1-ff4e3c755a8c label.sk-toggleable__label-arrow:hover:before {color: black;}#sk-04482049-9379-4c89-82b1-ff4e3c755a8c div.sk-estimator:hover label.sk-toggleable__label-arrow:before {color: black;}#sk-04482049-9379-4c89-82b1-ff4e3c755a8c div.sk-toggleable__content {max-height: 0;max-width: 0;overflow: hidden;text-align: left;background-color: #f0f8ff;}#sk-04482049-9379-4c89-82b1-ff4e3c755a8c div.sk-toggleable__content pre {margin: 0.2em;color: black;border-radius: 0.25em;background-color: #f0f8ff;}#sk-04482049-9379-4c89-82b1-ff4e3c755a8c input.sk-toggleable__control:checked~div.sk-toggleable__content {max-height: 200px;max-width: 100%;overflow: auto;}#sk-04482049-9379-4c89-82b1-ff4e3c755a8c input.sk-toggleable__control:checked~label.sk-toggleable__label-arrow:before {content: \"▾\";}#sk-04482049-9379-4c89-82b1-ff4e3c755a8c div.sk-estimator input.sk-toggleable__control:checked~label.sk-toggleable__label {background-color: #d4ebff;}#sk-04482049-9379-4c89-82b1-ff4e3c755a8c div.sk-label input.sk-toggleable__control:checked~label.sk-toggleable__label {background-color: #d4ebff;}#sk-04482049-9379-4c89-82b1-ff4e3c755a8c input.sk-hidden--visually {border: 0;clip: rect(1px 1px 1px 1px);clip: rect(1px, 1px, 1px, 1px);height: 1px;margin: -1px;overflow: hidden;padding: 0;position: absolute;width: 1px;}#sk-04482049-9379-4c89-82b1-ff4e3c755a8c div.sk-estimator {font-family: monospace;background-color: #f0f8ff;border: 1px dotted black;border-radius: 0.25em;box-sizing: border-box;margin-bottom: 0.5em;}#sk-04482049-9379-4c89-82b1-ff4e3c755a8c div.sk-estimator:hover {background-color: #d4ebff;}#sk-04482049-9379-4c89-82b1-ff4e3c755a8c div.sk-parallel-item::after {content: \"\";width: 100%;border-bottom: 1px solid gray;flex-grow: 1;}#sk-04482049-9379-4c89-82b1-ff4e3c755a8c div.sk-label:hover label.sk-toggleable__label {background-color: #d4ebff;}#sk-04482049-9379-4c89-82b1-ff4e3c755a8c div.sk-serial::before {content: \"\";position: absolute;border-left: 1px solid gray;box-sizing: border-box;top: 2em;bottom: 0;left: 50%;}#sk-04482049-9379-4c89-82b1-ff4e3c755a8c div.sk-serial {display: flex;flex-direction: column;align-items: center;background-color: white;padding-right: 0.2em;padding-left: 0.2em;}#sk-04482049-9379-4c89-82b1-ff4e3c755a8c div.sk-item {z-index: 1;}#sk-04482049-9379-4c89-82b1-ff4e3c755a8c div.sk-parallel {display: flex;align-items: stretch;justify-content: center;background-color: white;}#sk-04482049-9379-4c89-82b1-ff4e3c755a8c div.sk-parallel::before {content: \"\";position: absolute;border-left: 1px solid gray;box-sizing: border-box;top: 2em;bottom: 0;left: 50%;}#sk-04482049-9379-4c89-82b1-ff4e3c755a8c div.sk-parallel-item {display: flex;flex-direction: column;position: relative;background-color: white;}#sk-04482049-9379-4c89-82b1-ff4e3c755a8c div.sk-parallel-item:first-child::after {align-self: flex-end;width: 50%;}#sk-04482049-9379-4c89-82b1-ff4e3c755a8c div.sk-parallel-item:last-child::after {align-self: flex-start;width: 50%;}#sk-04482049-9379-4c89-82b1-ff4e3c755a8c div.sk-parallel-item:only-child::after {width: 0;}#sk-04482049-9379-4c89-82b1-ff4e3c755a8c div.sk-dashed-wrapped {border: 1px dashed gray;margin: 0 0.4em 0.5em 0.4em;box-sizing: border-box;padding-bottom: 0.4em;background-color: white;position: relative;}#sk-04482049-9379-4c89-82b1-ff4e3c755a8c div.sk-label label {font-family: monospace;font-weight: bold;background-color: white;display: inline-block;line-height: 1.2em;}#sk-04482049-9379-4c89-82b1-ff4e3c755a8c div.sk-label-container {position: relative;z-index: 2;text-align: center;}#sk-04482049-9379-4c89-82b1-ff4e3c755a8c div.sk-container {/* jupyter's `normalize.less` sets `[hidden] { display: none; }` but bootstrap.min.css set `[hidden] { display: none !important; }` so we also need the `!important` here to be able to override the default hidden behavior on the sphinx rendered scikit-learn.org. See: https://github.com/scikit-learn/scikit-learn/issues/21755 */display: inline-block !important;position: relative;}#sk-04482049-9379-4c89-82b1-ff4e3c755a8c div.sk-text-repr-fallback {display: none;}</style><div id=\"sk-04482049-9379-4c89-82b1-ff4e3c755a8c\" class=\"sk-top-container\"><div class=\"sk-text-repr-fallback\"><pre>Pipeline(steps=[(&#x27;columntransformer&#x27;,\n",
       "                 ColumnTransformer(remainder=&#x27;passthrough&#x27;,\n",
       "                                   transformers=[(&#x27;numeric&#x27;,\n",
       "                                                  Pipeline(steps=[(&#x27;simpleimputer&#x27;,\n",
       "                                                                   SimpleImputer(strategy=&#x27;median&#x27;)),\n",
       "                                                                  (&#x27;standardscaler&#x27;,\n",
       "                                                                   StandardScaler())]),\n",
       "                                                  &lt;sklearn.compose._column_transformer.make_column_selector object at 0x000001C13DC411C0&gt;),\n",
       "                                                 (&#x27;categorical&#x27;,\n",
       "                                                  Pipeline(steps=[(&#x27;simpleimputer&#x27;,\n",
       "                                                                   SimpleImputer(strategy=&#x27;most_frequent&#x27;)),\n",
       "                                                                  (&#x27;onehotencoder&#x27;,\n",
       "                                                                   OneHotEncoder(handle_unknown=&#x27;ignore&#x27;))]),\n",
       "                                                  &lt;sklearn.compose._column_transformer.make_column_selector object at 0x000001C13DC411F0&gt;)])),\n",
       "                (&#x27;decisiontreeclassifier&#x27;, DecisionTreeClassifier())])</pre><b>Please rerun this cell to show the HTML repr or trust the notebook.</b></div><div class=\"sk-container\" hidden><div class=\"sk-item sk-dashed-wrapped\"><div class=\"sk-label-container\"><div class=\"sk-label sk-toggleable\"><input class=\"sk-toggleable__control sk-hidden--visually\" id=\"d9620a3d-0b57-4e34-a812-a3c918424152\" type=\"checkbox\" ><label for=\"d9620a3d-0b57-4e34-a812-a3c918424152\" class=\"sk-toggleable__label sk-toggleable__label-arrow\">Pipeline</label><div class=\"sk-toggleable__content\"><pre>Pipeline(steps=[(&#x27;columntransformer&#x27;,\n",
       "                 ColumnTransformer(remainder=&#x27;passthrough&#x27;,\n",
       "                                   transformers=[(&#x27;numeric&#x27;,\n",
       "                                                  Pipeline(steps=[(&#x27;simpleimputer&#x27;,\n",
       "                                                                   SimpleImputer(strategy=&#x27;median&#x27;)),\n",
       "                                                                  (&#x27;standardscaler&#x27;,\n",
       "                                                                   StandardScaler())]),\n",
       "                                                  &lt;sklearn.compose._column_transformer.make_column_selector object at 0x000001C13DC411C0&gt;),\n",
       "                                                 (&#x27;categorical&#x27;,\n",
       "                                                  Pipeline(steps=[(&#x27;simpleimputer&#x27;,\n",
       "                                                                   SimpleImputer(strategy=&#x27;most_frequent&#x27;)),\n",
       "                                                                  (&#x27;onehotencoder&#x27;,\n",
       "                                                                   OneHotEncoder(handle_unknown=&#x27;ignore&#x27;))]),\n",
       "                                                  &lt;sklearn.compose._column_transformer.make_column_selector object at 0x000001C13DC411F0&gt;)])),\n",
       "                (&#x27;decisiontreeclassifier&#x27;, DecisionTreeClassifier())])</pre></div></div></div><div class=\"sk-serial\"><div class=\"sk-item sk-dashed-wrapped\"><div class=\"sk-label-container\"><div class=\"sk-label sk-toggleable\"><input class=\"sk-toggleable__control sk-hidden--visually\" id=\"801c5ec2-33c1-4265-88b0-2eb9b767166a\" type=\"checkbox\" ><label for=\"801c5ec2-33c1-4265-88b0-2eb9b767166a\" class=\"sk-toggleable__label sk-toggleable__label-arrow\">columntransformer: ColumnTransformer</label><div class=\"sk-toggleable__content\"><pre>ColumnTransformer(remainder=&#x27;passthrough&#x27;,\n",
       "                  transformers=[(&#x27;numeric&#x27;,\n",
       "                                 Pipeline(steps=[(&#x27;simpleimputer&#x27;,\n",
       "                                                  SimpleImputer(strategy=&#x27;median&#x27;)),\n",
       "                                                 (&#x27;standardscaler&#x27;,\n",
       "                                                  StandardScaler())]),\n",
       "                                 &lt;sklearn.compose._column_transformer.make_column_selector object at 0x000001C13DC411C0&gt;),\n",
       "                                (&#x27;categorical&#x27;,\n",
       "                                 Pipeline(steps=[(&#x27;simpleimputer&#x27;,\n",
       "                                                  SimpleImputer(strategy=&#x27;most_frequent&#x27;)),\n",
       "                                                 (&#x27;onehotencoder&#x27;,\n",
       "                                                  OneHotEncoder(handle_unknown=&#x27;ignore&#x27;))]),\n",
       "                                 &lt;sklearn.compose._column_transformer.make_column_selector object at 0x000001C13DC411F0&gt;)])</pre></div></div></div><div class=\"sk-parallel\"><div class=\"sk-parallel-item\"><div class=\"sk-item\"><div class=\"sk-label-container\"><div class=\"sk-label sk-toggleable\"><input class=\"sk-toggleable__control sk-hidden--visually\" id=\"759e8303-a2f8-405e-a619-7ba181ee5455\" type=\"checkbox\" ><label for=\"759e8303-a2f8-405e-a619-7ba181ee5455\" class=\"sk-toggleable__label sk-toggleable__label-arrow\">numeric</label><div class=\"sk-toggleable__content\"><pre>&lt;sklearn.compose._column_transformer.make_column_selector object at 0x000001C13DC411C0&gt;</pre></div></div></div><div class=\"sk-serial\"><div class=\"sk-item\"><div class=\"sk-serial\"><div class=\"sk-item\"><div class=\"sk-estimator sk-toggleable\"><input class=\"sk-toggleable__control sk-hidden--visually\" id=\"8cc6fc58-7cdb-4397-b848-2649ca3fda05\" type=\"checkbox\" ><label for=\"8cc6fc58-7cdb-4397-b848-2649ca3fda05\" class=\"sk-toggleable__label sk-toggleable__label-arrow\">SimpleImputer</label><div class=\"sk-toggleable__content\"><pre>SimpleImputer(strategy=&#x27;median&#x27;)</pre></div></div></div><div class=\"sk-item\"><div class=\"sk-estimator sk-toggleable\"><input class=\"sk-toggleable__control sk-hidden--visually\" id=\"a7b221b2-8610-4d2a-b4fc-13bb9c60ff81\" type=\"checkbox\" ><label for=\"a7b221b2-8610-4d2a-b4fc-13bb9c60ff81\" class=\"sk-toggleable__label sk-toggleable__label-arrow\">StandardScaler</label><div class=\"sk-toggleable__content\"><pre>StandardScaler()</pre></div></div></div></div></div></div></div></div><div class=\"sk-parallel-item\"><div class=\"sk-item\"><div class=\"sk-label-container\"><div class=\"sk-label sk-toggleable\"><input class=\"sk-toggleable__control sk-hidden--visually\" id=\"49c55e33-f5a5-4a44-89f5-dad422abd220\" type=\"checkbox\" ><label for=\"49c55e33-f5a5-4a44-89f5-dad422abd220\" class=\"sk-toggleable__label sk-toggleable__label-arrow\">categorical</label><div class=\"sk-toggleable__content\"><pre>&lt;sklearn.compose._column_transformer.make_column_selector object at 0x000001C13DC411F0&gt;</pre></div></div></div><div class=\"sk-serial\"><div class=\"sk-item\"><div class=\"sk-serial\"><div class=\"sk-item\"><div class=\"sk-estimator sk-toggleable\"><input class=\"sk-toggleable__control sk-hidden--visually\" id=\"317e8dfa-da4a-478c-bc28-5112a189e042\" type=\"checkbox\" ><label for=\"317e8dfa-da4a-478c-bc28-5112a189e042\" class=\"sk-toggleable__label sk-toggleable__label-arrow\">SimpleImputer</label><div class=\"sk-toggleable__content\"><pre>SimpleImputer(strategy=&#x27;most_frequent&#x27;)</pre></div></div></div><div class=\"sk-item\"><div class=\"sk-estimator sk-toggleable\"><input class=\"sk-toggleable__control sk-hidden--visually\" id=\"0c4269f0-e94c-4af2-b2e6-c73158713222\" type=\"checkbox\" ><label for=\"0c4269f0-e94c-4af2-b2e6-c73158713222\" class=\"sk-toggleable__label sk-toggleable__label-arrow\">OneHotEncoder</label><div class=\"sk-toggleable__content\"><pre>OneHotEncoder(handle_unknown=&#x27;ignore&#x27;)</pre></div></div></div></div></div></div></div></div><div class=\"sk-parallel-item\"><div class=\"sk-item\"><div class=\"sk-label-container\"><div class=\"sk-label sk-toggleable\"><input class=\"sk-toggleable__control sk-hidden--visually\" id=\"d7205d9a-4359-46d6-b705-6db44998d502\" type=\"checkbox\" ><label for=\"d7205d9a-4359-46d6-b705-6db44998d502\" class=\"sk-toggleable__label sk-toggleable__label-arrow\">remainder</label><div class=\"sk-toggleable__content\"><pre>[]</pre></div></div></div><div class=\"sk-serial\"><div class=\"sk-item\"><div class=\"sk-estimator sk-toggleable\"><input class=\"sk-toggleable__control sk-hidden--visually\" id=\"6341fedb-2c84-4f30-aae2-c55849b1f371\" type=\"checkbox\" ><label for=\"6341fedb-2c84-4f30-aae2-c55849b1f371\" class=\"sk-toggleable__label sk-toggleable__label-arrow\">passthrough</label><div class=\"sk-toggleable__content\"><pre>passthrough</pre></div></div></div></div></div></div></div></div><div class=\"sk-item\"><div class=\"sk-estimator sk-toggleable\"><input class=\"sk-toggleable__control sk-hidden--visually\" id=\"82b4b119-9ecc-4c55-8ead-00c252aaeb87\" type=\"checkbox\" ><label for=\"82b4b119-9ecc-4c55-8ead-00c252aaeb87\" class=\"sk-toggleable__label sk-toggleable__label-arrow\">DecisionTreeClassifier</label><div class=\"sk-toggleable__content\"><pre>DecisionTreeClassifier()</pre></div></div></div></div></div></div></div>"
      ],
      "text/plain": [
       "Pipeline(steps=[('columntransformer',\n",
       "                 ColumnTransformer(remainder='passthrough',\n",
       "                                   transformers=[('numeric',\n",
       "                                                  Pipeline(steps=[('simpleimputer',\n",
       "                                                                   SimpleImputer(strategy='median')),\n",
       "                                                                  ('standardscaler',\n",
       "                                                                   StandardScaler())]),\n",
       "                                                  <sklearn.compose._column_transformer.make_column_selector object at 0x000001C13DC411C0>),\n",
       "                                                 ('categorical',\n",
       "                                                  Pipeline(steps=[('simpleimputer',\n",
       "                                                                   SimpleImputer(strategy='most_frequent')),\n",
       "                                                                  ('onehotencoder',\n",
       "                                                                   OneHotEncoder(handle_unknown='ignore'))]),\n",
       "                                                  <sklearn.compose._column_transformer.make_column_selector object at 0x000001C13DC411F0>)])),\n",
       "                ('decisiontreeclassifier', DecisionTreeClassifier())])"
      ]
     },
     "execution_count": 16,
     "metadata": {},
     "output_type": "execute_result"
    }
   ],
   "source": [
    "from sklearn.tree import DecisionTreeClassifier\n",
    "\n",
    "tree_clf = make_pipeline(preprocessing, DecisionTreeClassifier())\n",
    "tree_clf.fit(pandas_pipeline, y_train)"
   ]
  },
  {
   "cell_type": "code",
   "execution_count": 25,
   "id": "7c46d650-f42f-4bf3-8b35-030dc1b02508",
   "metadata": {},
   "outputs": [
    {
     "data": {
      "text/html": [
       "<style>#sk-f03f27da-17dc-4fc9-8953-92178ff60837 {color: black;background-color: white;}#sk-f03f27da-17dc-4fc9-8953-92178ff60837 pre{padding: 0;}#sk-f03f27da-17dc-4fc9-8953-92178ff60837 div.sk-toggleable {background-color: white;}#sk-f03f27da-17dc-4fc9-8953-92178ff60837 label.sk-toggleable__label {cursor: pointer;display: block;width: 100%;margin-bottom: 0;padding: 0.3em;box-sizing: border-box;text-align: center;}#sk-f03f27da-17dc-4fc9-8953-92178ff60837 label.sk-toggleable__label-arrow:before {content: \"▸\";float: left;margin-right: 0.25em;color: #696969;}#sk-f03f27da-17dc-4fc9-8953-92178ff60837 label.sk-toggleable__label-arrow:hover:before {color: black;}#sk-f03f27da-17dc-4fc9-8953-92178ff60837 div.sk-estimator:hover label.sk-toggleable__label-arrow:before {color: black;}#sk-f03f27da-17dc-4fc9-8953-92178ff60837 div.sk-toggleable__content {max-height: 0;max-width: 0;overflow: hidden;text-align: left;background-color: #f0f8ff;}#sk-f03f27da-17dc-4fc9-8953-92178ff60837 div.sk-toggleable__content pre {margin: 0.2em;color: black;border-radius: 0.25em;background-color: #f0f8ff;}#sk-f03f27da-17dc-4fc9-8953-92178ff60837 input.sk-toggleable__control:checked~div.sk-toggleable__content {max-height: 200px;max-width: 100%;overflow: auto;}#sk-f03f27da-17dc-4fc9-8953-92178ff60837 input.sk-toggleable__control:checked~label.sk-toggleable__label-arrow:before {content: \"▾\";}#sk-f03f27da-17dc-4fc9-8953-92178ff60837 div.sk-estimator input.sk-toggleable__control:checked~label.sk-toggleable__label {background-color: #d4ebff;}#sk-f03f27da-17dc-4fc9-8953-92178ff60837 div.sk-label input.sk-toggleable__control:checked~label.sk-toggleable__label {background-color: #d4ebff;}#sk-f03f27da-17dc-4fc9-8953-92178ff60837 input.sk-hidden--visually {border: 0;clip: rect(1px 1px 1px 1px);clip: rect(1px, 1px, 1px, 1px);height: 1px;margin: -1px;overflow: hidden;padding: 0;position: absolute;width: 1px;}#sk-f03f27da-17dc-4fc9-8953-92178ff60837 div.sk-estimator {font-family: monospace;background-color: #f0f8ff;border: 1px dotted black;border-radius: 0.25em;box-sizing: border-box;margin-bottom: 0.5em;}#sk-f03f27da-17dc-4fc9-8953-92178ff60837 div.sk-estimator:hover {background-color: #d4ebff;}#sk-f03f27da-17dc-4fc9-8953-92178ff60837 div.sk-parallel-item::after {content: \"\";width: 100%;border-bottom: 1px solid gray;flex-grow: 1;}#sk-f03f27da-17dc-4fc9-8953-92178ff60837 div.sk-label:hover label.sk-toggleable__label {background-color: #d4ebff;}#sk-f03f27da-17dc-4fc9-8953-92178ff60837 div.sk-serial::before {content: \"\";position: absolute;border-left: 1px solid gray;box-sizing: border-box;top: 2em;bottom: 0;left: 50%;}#sk-f03f27da-17dc-4fc9-8953-92178ff60837 div.sk-serial {display: flex;flex-direction: column;align-items: center;background-color: white;padding-right: 0.2em;padding-left: 0.2em;}#sk-f03f27da-17dc-4fc9-8953-92178ff60837 div.sk-item {z-index: 1;}#sk-f03f27da-17dc-4fc9-8953-92178ff60837 div.sk-parallel {display: flex;align-items: stretch;justify-content: center;background-color: white;}#sk-f03f27da-17dc-4fc9-8953-92178ff60837 div.sk-parallel::before {content: \"\";position: absolute;border-left: 1px solid gray;box-sizing: border-box;top: 2em;bottom: 0;left: 50%;}#sk-f03f27da-17dc-4fc9-8953-92178ff60837 div.sk-parallel-item {display: flex;flex-direction: column;position: relative;background-color: white;}#sk-f03f27da-17dc-4fc9-8953-92178ff60837 div.sk-parallel-item:first-child::after {align-self: flex-end;width: 50%;}#sk-f03f27da-17dc-4fc9-8953-92178ff60837 div.sk-parallel-item:last-child::after {align-self: flex-start;width: 50%;}#sk-f03f27da-17dc-4fc9-8953-92178ff60837 div.sk-parallel-item:only-child::after {width: 0;}#sk-f03f27da-17dc-4fc9-8953-92178ff60837 div.sk-dashed-wrapped {border: 1px dashed gray;margin: 0 0.4em 0.5em 0.4em;box-sizing: border-box;padding-bottom: 0.4em;background-color: white;position: relative;}#sk-f03f27da-17dc-4fc9-8953-92178ff60837 div.sk-label label {font-family: monospace;font-weight: bold;background-color: white;display: inline-block;line-height: 1.2em;}#sk-f03f27da-17dc-4fc9-8953-92178ff60837 div.sk-label-container {position: relative;z-index: 2;text-align: center;}#sk-f03f27da-17dc-4fc9-8953-92178ff60837 div.sk-container {/* jupyter's `normalize.less` sets `[hidden] { display: none; }` but bootstrap.min.css set `[hidden] { display: none !important; }` so we also need the `!important` here to be able to override the default hidden behavior on the sphinx rendered scikit-learn.org. See: https://github.com/scikit-learn/scikit-learn/issues/21755 */display: inline-block !important;position: relative;}#sk-f03f27da-17dc-4fc9-8953-92178ff60837 div.sk-text-repr-fallback {display: none;}</style><div id=\"sk-f03f27da-17dc-4fc9-8953-92178ff60837\" class=\"sk-top-container\"><div class=\"sk-text-repr-fallback\"><pre>Pipeline(steps=[(&#x27;columntransformer&#x27;,\n",
       "                 ColumnTransformer(remainder=&#x27;passthrough&#x27;,\n",
       "                                   transformers=[(&#x27;numeric&#x27;,\n",
       "                                                  Pipeline(steps=[(&#x27;simpleimputer&#x27;,\n",
       "                                                                   SimpleImputer(strategy=&#x27;median&#x27;)),\n",
       "                                                                  (&#x27;standardscaler&#x27;,\n",
       "                                                                   StandardScaler())]),\n",
       "                                                  &lt;sklearn.compose._column_transformer.make_column_selector object at 0x000001C13DC411C0&gt;),\n",
       "                                                 (&#x27;categorical&#x27;,\n",
       "                                                  Pipeline(steps=[(&#x27;simpleimputer&#x27;,\n",
       "                                                                   SimpleI...\n",
       "                               feature_types=None, gamma=0, gpu_id=-1,\n",
       "                               grow_policy=&#x27;depthwise&#x27;, importance_type=None,\n",
       "                               interaction_constraints=&#x27;&#x27;,\n",
       "                               learning_rate=0.300000012, max_bin=256,\n",
       "                               max_cat_threshold=64, max_cat_to_onehot=4,\n",
       "                               max_delta_step=0, max_depth=6, max_leaves=0,\n",
       "                               min_child_weight=1, missing=nan,\n",
       "                               monotone_constraints=&#x27;()&#x27;, n_estimators=100,\n",
       "                               n_jobs=0, num_parallel_tree=1, predictor=&#x27;auto&#x27;,\n",
       "                               random_state=0, ...))])</pre><b>Please rerun this cell to show the HTML repr or trust the notebook.</b></div><div class=\"sk-container\" hidden><div class=\"sk-item sk-dashed-wrapped\"><div class=\"sk-label-container\"><div class=\"sk-label sk-toggleable\"><input class=\"sk-toggleable__control sk-hidden--visually\" id=\"f7200f44-53f5-4e60-94ad-9c3e529b5ad6\" type=\"checkbox\" ><label for=\"f7200f44-53f5-4e60-94ad-9c3e529b5ad6\" class=\"sk-toggleable__label sk-toggleable__label-arrow\">Pipeline</label><div class=\"sk-toggleable__content\"><pre>Pipeline(steps=[(&#x27;columntransformer&#x27;,\n",
       "                 ColumnTransformer(remainder=&#x27;passthrough&#x27;,\n",
       "                                   transformers=[(&#x27;numeric&#x27;,\n",
       "                                                  Pipeline(steps=[(&#x27;simpleimputer&#x27;,\n",
       "                                                                   SimpleImputer(strategy=&#x27;median&#x27;)),\n",
       "                                                                  (&#x27;standardscaler&#x27;,\n",
       "                                                                   StandardScaler())]),\n",
       "                                                  &lt;sklearn.compose._column_transformer.make_column_selector object at 0x000001C13DC411C0&gt;),\n",
       "                                                 (&#x27;categorical&#x27;,\n",
       "                                                  Pipeline(steps=[(&#x27;simpleimputer&#x27;,\n",
       "                                                                   SimpleI...\n",
       "                               feature_types=None, gamma=0, gpu_id=-1,\n",
       "                               grow_policy=&#x27;depthwise&#x27;, importance_type=None,\n",
       "                               interaction_constraints=&#x27;&#x27;,\n",
       "                               learning_rate=0.300000012, max_bin=256,\n",
       "                               max_cat_threshold=64, max_cat_to_onehot=4,\n",
       "                               max_delta_step=0, max_depth=6, max_leaves=0,\n",
       "                               min_child_weight=1, missing=nan,\n",
       "                               monotone_constraints=&#x27;()&#x27;, n_estimators=100,\n",
       "                               n_jobs=0, num_parallel_tree=1, predictor=&#x27;auto&#x27;,\n",
       "                               random_state=0, ...))])</pre></div></div></div><div class=\"sk-serial\"><div class=\"sk-item sk-dashed-wrapped\"><div class=\"sk-label-container\"><div class=\"sk-label sk-toggleable\"><input class=\"sk-toggleable__control sk-hidden--visually\" id=\"b7f8971d-1f6d-4a27-b497-9c7f43627be4\" type=\"checkbox\" ><label for=\"b7f8971d-1f6d-4a27-b497-9c7f43627be4\" class=\"sk-toggleable__label sk-toggleable__label-arrow\">columntransformer: ColumnTransformer</label><div class=\"sk-toggleable__content\"><pre>ColumnTransformer(remainder=&#x27;passthrough&#x27;,\n",
       "                  transformers=[(&#x27;numeric&#x27;,\n",
       "                                 Pipeline(steps=[(&#x27;simpleimputer&#x27;,\n",
       "                                                  SimpleImputer(strategy=&#x27;median&#x27;)),\n",
       "                                                 (&#x27;standardscaler&#x27;,\n",
       "                                                  StandardScaler())]),\n",
       "                                 &lt;sklearn.compose._column_transformer.make_column_selector object at 0x000001C13DC411C0&gt;),\n",
       "                                (&#x27;categorical&#x27;,\n",
       "                                 Pipeline(steps=[(&#x27;simpleimputer&#x27;,\n",
       "                                                  SimpleImputer(strategy=&#x27;most_frequent&#x27;)),\n",
       "                                                 (&#x27;onehotencoder&#x27;,\n",
       "                                                  OneHotEncoder(handle_unknown=&#x27;ignore&#x27;))]),\n",
       "                                 &lt;sklearn.compose._column_transformer.make_column_selector object at 0x000001C13DC411F0&gt;)])</pre></div></div></div><div class=\"sk-parallel\"><div class=\"sk-parallel-item\"><div class=\"sk-item\"><div class=\"sk-label-container\"><div class=\"sk-label sk-toggleable\"><input class=\"sk-toggleable__control sk-hidden--visually\" id=\"84e36d18-4582-4615-a166-20d2b84653d5\" type=\"checkbox\" ><label for=\"84e36d18-4582-4615-a166-20d2b84653d5\" class=\"sk-toggleable__label sk-toggleable__label-arrow\">numeric</label><div class=\"sk-toggleable__content\"><pre>&lt;sklearn.compose._column_transformer.make_column_selector object at 0x000001C13DC411C0&gt;</pre></div></div></div><div class=\"sk-serial\"><div class=\"sk-item\"><div class=\"sk-serial\"><div class=\"sk-item\"><div class=\"sk-estimator sk-toggleable\"><input class=\"sk-toggleable__control sk-hidden--visually\" id=\"4b44436a-05e6-446e-af94-9dc01491fb5d\" type=\"checkbox\" ><label for=\"4b44436a-05e6-446e-af94-9dc01491fb5d\" class=\"sk-toggleable__label sk-toggleable__label-arrow\">SimpleImputer</label><div class=\"sk-toggleable__content\"><pre>SimpleImputer(strategy=&#x27;median&#x27;)</pre></div></div></div><div class=\"sk-item\"><div class=\"sk-estimator sk-toggleable\"><input class=\"sk-toggleable__control sk-hidden--visually\" id=\"de600ea8-f5e1-4743-a532-a7e0c97a21b4\" type=\"checkbox\" ><label for=\"de600ea8-f5e1-4743-a532-a7e0c97a21b4\" class=\"sk-toggleable__label sk-toggleable__label-arrow\">StandardScaler</label><div class=\"sk-toggleable__content\"><pre>StandardScaler()</pre></div></div></div></div></div></div></div></div><div class=\"sk-parallel-item\"><div class=\"sk-item\"><div class=\"sk-label-container\"><div class=\"sk-label sk-toggleable\"><input class=\"sk-toggleable__control sk-hidden--visually\" id=\"72fb651c-93a3-4b16-ac7a-6cacac56c7af\" type=\"checkbox\" ><label for=\"72fb651c-93a3-4b16-ac7a-6cacac56c7af\" class=\"sk-toggleable__label sk-toggleable__label-arrow\">categorical</label><div class=\"sk-toggleable__content\"><pre>&lt;sklearn.compose._column_transformer.make_column_selector object at 0x000001C13DC411F0&gt;</pre></div></div></div><div class=\"sk-serial\"><div class=\"sk-item\"><div class=\"sk-serial\"><div class=\"sk-item\"><div class=\"sk-estimator sk-toggleable\"><input class=\"sk-toggleable__control sk-hidden--visually\" id=\"df7dc96b-b867-4bb7-96e0-864fcf972509\" type=\"checkbox\" ><label for=\"df7dc96b-b867-4bb7-96e0-864fcf972509\" class=\"sk-toggleable__label sk-toggleable__label-arrow\">SimpleImputer</label><div class=\"sk-toggleable__content\"><pre>SimpleImputer(strategy=&#x27;most_frequent&#x27;)</pre></div></div></div><div class=\"sk-item\"><div class=\"sk-estimator sk-toggleable\"><input class=\"sk-toggleable__control sk-hidden--visually\" id=\"76a51c3b-058b-483b-9997-7fac5359360c\" type=\"checkbox\" ><label for=\"76a51c3b-058b-483b-9997-7fac5359360c\" class=\"sk-toggleable__label sk-toggleable__label-arrow\">OneHotEncoder</label><div class=\"sk-toggleable__content\"><pre>OneHotEncoder(handle_unknown=&#x27;ignore&#x27;)</pre></div></div></div></div></div></div></div></div><div class=\"sk-parallel-item\"><div class=\"sk-item\"><div class=\"sk-label-container\"><div class=\"sk-label sk-toggleable\"><input class=\"sk-toggleable__control sk-hidden--visually\" id=\"948dfce4-665e-419f-9b23-9c53433d6501\" type=\"checkbox\" ><label for=\"948dfce4-665e-419f-9b23-9c53433d6501\" class=\"sk-toggleable__label sk-toggleable__label-arrow\">remainder</label><div class=\"sk-toggleable__content\"><pre>[]</pre></div></div></div><div class=\"sk-serial\"><div class=\"sk-item\"><div class=\"sk-estimator sk-toggleable\"><input class=\"sk-toggleable__control sk-hidden--visually\" id=\"cbe8c522-4688-4321-98eb-30fb6e1918ef\" type=\"checkbox\" ><label for=\"cbe8c522-4688-4321-98eb-30fb6e1918ef\" class=\"sk-toggleable__label sk-toggleable__label-arrow\">passthrough</label><div class=\"sk-toggleable__content\"><pre>passthrough</pre></div></div></div></div></div></div></div></div><div class=\"sk-item\"><div class=\"sk-estimator sk-toggleable\"><input class=\"sk-toggleable__control sk-hidden--visually\" id=\"4dc782d0-072d-42aa-a59f-25402f212dc9\" type=\"checkbox\" ><label for=\"4dc782d0-072d-42aa-a59f-25402f212dc9\" class=\"sk-toggleable__label sk-toggleable__label-arrow\">XGBClassifier</label><div class=\"sk-toggleable__content\"><pre>XGBClassifier(base_score=0.5, booster=&#x27;gbtree&#x27;, callbacks=None,\n",
       "              colsample_bylevel=1, colsample_bynode=1, colsample_bytree=1,\n",
       "              early_stopping_rounds=None, enable_categorical=False,\n",
       "              eval_metric=None, feature_types=None, gamma=0, gpu_id=-1,\n",
       "              grow_policy=&#x27;depthwise&#x27;, importance_type=None,\n",
       "              interaction_constraints=&#x27;&#x27;, learning_rate=0.300000012,\n",
       "              max_bin=256, max_cat_threshold=64, max_cat_to_onehot=4,\n",
       "              max_delta_step=0, max_depth=6, max_leaves=0, min_child_weight=1,\n",
       "              missing=nan, monotone_constraints=&#x27;()&#x27;, n_estimators=100,\n",
       "              n_jobs=0, num_parallel_tree=1, predictor=&#x27;auto&#x27;, random_state=0, ...)</pre></div></div></div></div></div></div></div>"
      ],
      "text/plain": [
       "Pipeline(steps=[('columntransformer',\n",
       "                 ColumnTransformer(remainder='passthrough',\n",
       "                                   transformers=[('numeric',\n",
       "                                                  Pipeline(steps=[('simpleimputer',\n",
       "                                                                   SimpleImputer(strategy='median')),\n",
       "                                                                  ('standardscaler',\n",
       "                                                                   StandardScaler())]),\n",
       "                                                  <sklearn.compose._column_transformer.make_column_selector object at 0x000001C13DC411C0>),\n",
       "                                                 ('categorical',\n",
       "                                                  Pipeline(steps=[('simpleimputer',\n",
       "                                                                   SimpleI...\n",
       "                               feature_types=None, gamma=0, gpu_id=-1,\n",
       "                               grow_policy='depthwise', importance_type=None,\n",
       "                               interaction_constraints='',\n",
       "                               learning_rate=0.300000012, max_bin=256,\n",
       "                               max_cat_threshold=64, max_cat_to_onehot=4,\n",
       "                               max_delta_step=0, max_depth=6, max_leaves=0,\n",
       "                               min_child_weight=1, missing=nan,\n",
       "                               monotone_constraints='()', n_estimators=100,\n",
       "                               n_jobs=0, num_parallel_tree=1, predictor='auto',\n",
       "                               random_state=0, ...))])"
      ]
     },
     "execution_count": 25,
     "metadata": {},
     "output_type": "execute_result"
    }
   ],
   "source": [
    "from xgboost import XGBClassifier\n",
    "\n",
    "xgb_clf = make_pipeline(preprocessing, XGBClassifier())\n",
    "xgb_clf.fit(pandas_pipeline, y_train)"
   ]
  },
  {
   "cell_type": "markdown",
   "id": "eed42d03-a8f4-4f19-bdaf-b6e92a94cf53",
   "metadata": {},
   "source": [
    "---"
   ]
  },
  {
   "cell_type": "markdown",
   "id": "7efec117-fba9-42c0-bfc8-475d68f1d268",
   "metadata": {},
   "source": [
    "# Cross-Validation"
   ]
  },
  {
   "cell_type": "code",
   "execution_count": 17,
   "id": "e22189f6-49b0-4f16-9e5c-48016252912b",
   "metadata": {},
   "outputs": [
    {
     "data": {
      "text/plain": [
       "0.7991001564945227"
      ]
     },
     "execution_count": 17,
     "metadata": {},
     "output_type": "execute_result"
    }
   ],
   "source": [
    "from sklearn.model_selection import cross_val_score\n",
    "\n",
    "log_cv_a = cross_val_score(log_clf, pandas_pipeline, y_train,\n",
    "                            scoring=\"accuracy\", cv=10).mean()\n",
    "\n",
    "log_cv_a"
   ]
  },
  {
   "cell_type": "code",
   "execution_count": 18,
   "id": "78969aff-308e-43a4-904e-39fd5ee45846",
   "metadata": {},
   "outputs": [
    {
     "data": {
      "text/plain": [
       "0.7668427230046948"
      ]
     },
     "execution_count": 18,
     "metadata": {},
     "output_type": "execute_result"
    }
   ],
   "source": [
    "from sklearn.model_selection import cross_val_score\n",
    "\n",
    "tree_cv_a = cross_val_score(tree_clf, pandas_pipeline, y_train,\n",
    "                            scoring=\"accuracy\", cv=10).mean()\n",
    "\n",
    "tree_cv_a"
   ]
  },
  {
   "cell_type": "code",
   "execution_count": 22,
   "id": "fde1fa1b-f64d-4068-a71a-f97b53148a52",
   "metadata": {},
   "outputs": [],
   "source": [
    "from sklearn.ensemble import RandomForestClassifier\n",
    "\n",
    "forest_reg = make_pipeline(preprocessing, RandomForestClassifier(random_state=42))\n",
    "forest_rmses = cross_val_score(forest_reg, pandas_pipeline, y_train,\n",
    "                               scoring=\"accuracy\", cv=5)"
   ]
  },
  {
   "cell_type": "code",
   "execution_count": 24,
   "id": "aa579d18-6400-4219-8555-05c7d191c125",
   "metadata": {},
   "outputs": [
    {
     "data": {
      "text/plain": [
       "0.7893725992317541"
      ]
     },
     "execution_count": 24,
     "metadata": {},
     "output_type": "execute_result"
    }
   ],
   "source": [
    "forest_rmses.mean()"
   ]
  },
  {
   "cell_type": "code",
   "execution_count": 28,
   "id": "49e4302e-dabf-4e9d-a487-ce54404c4f47",
   "metadata": {},
   "outputs": [
    {
     "data": {
      "text/plain": [
       "0.7893036540923865"
      ]
     },
     "execution_count": 28,
     "metadata": {},
     "output_type": "execute_result"
    }
   ],
   "source": [
    "from sklearn.model_selection import cross_val_score\n",
    "\n",
    "xgb_cv_a = cross_val_score(xgb_clf, pandas_pipeline, y_train,\n",
    "                            scoring=\"accuracy\", cv=5).mean()\n",
    "\n",
    "xgb_cv_a"
   ]
  },
  {
   "cell_type": "code",
   "execution_count": null,
   "id": "c0accf70-9358-4cc9-85e0-4facff003977",
   "metadata": {},
   "outputs": [],
   "source": []
  }
 ],
 "metadata": {
  "kernelspec": {
   "display_name": "Python 3 (ipykernel)",
   "language": "python",
   "name": "python3"
  },
  "language_info": {
   "codemirror_mode": {
    "name": "ipython",
    "version": 3
   },
   "file_extension": ".py",
   "mimetype": "text/x-python",
   "name": "python",
   "nbconvert_exporter": "python",
   "pygments_lexer": "ipython3",
   "version": "3.9.13"
  }
 },
 "nbformat": 4,
 "nbformat_minor": 5
}
