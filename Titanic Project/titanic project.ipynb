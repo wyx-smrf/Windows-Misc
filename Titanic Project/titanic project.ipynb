{
 "cells": [
  {
   "cell_type": "markdown",
   "id": "f64bfacc-2cdb-41c7-831d-5994109b7a0a",
   "metadata": {},
   "source": [
    "# Titanic Project"
   ]
  },
  {
   "cell_type": "markdown",
   "id": "67b72aae-ffce-4c80-a20f-f748f0602c9e",
   "metadata": {},
   "source": [
    "## Import the necessary libraries"
   ]
  },
  {
   "cell_type": "code",
   "execution_count": 1,
   "id": "50ae3885-d268-4d0d-8826-dd59118b916b",
   "metadata": {},
   "outputs": [],
   "source": [
    "import numpy as np\n",
    "import pandas as pd\n",
    "import seaborn as sns\n",
    "import matplotlib.pyplot as plt\n",
    "from sklearn.preprocessing import LabelEncoder"
   ]
  },
  {
   "cell_type": "markdown",
   "id": "7e683f1e-5387-451a-b388-84574664d888",
   "metadata": {
    "tags": []
   },
   "source": [
    "## Getting the data"
   ]
  },
  {
   "cell_type": "code",
   "execution_count": 2,
   "id": "0cd8ceb7-6504-4a49-bbbf-ab5e901c57bd",
   "metadata": {},
   "outputs": [],
   "source": [
    "# Improve this next time\n",
    "# Create a directory for datasets\n",
    "\n",
    "def get_data(data_link):\n",
    "    data = pd.read_csv(data_link)\n",
    "    return data\n",
    "\n",
    "train_data = get_data('https://raw.githubusercontent.com/wyx-smrf/Windows-Misc/main/Titanic%20Project/train.csv')\n",
    "test_data = get_data('https://raw.githubusercontent.com/wyx-smrf/Windows-Misc/main/Titanic%20Project/test.csv')"
   ]
  },
  {
   "cell_type": "code",
   "execution_count": 3,
   "id": "87c47539-d2f3-4002-b525-a59f667f7761",
   "metadata": {},
   "outputs": [],
   "source": [
    "df_train = get_data('https://raw.githubusercontent.com/wyx-smrf/Windows-Misc/main/Titanic%20Project/train.csv')\n",
    "df_test = get_data('https://raw.githubusercontent.com/wyx-smrf/Windows-Misc/main/Titanic%20Project/test.csv')"
   ]
  },
  {
   "cell_type": "markdown",
   "id": "f48dfd07-0053-4182-b8ce-c216a87ba9cd",
   "metadata": {},
   "source": [
    "## Quick look"
   ]
  },
  {
   "cell_type": "code",
   "execution_count": 4,
   "id": "01a39d2c-32d7-425b-af8a-55fced6a3131",
   "metadata": {},
   "outputs": [
    {
     "data": {
      "text/html": [
       "<div>\n",
       "<style scoped>\n",
       "    .dataframe tbody tr th:only-of-type {\n",
       "        vertical-align: middle;\n",
       "    }\n",
       "\n",
       "    .dataframe tbody tr th {\n",
       "        vertical-align: top;\n",
       "    }\n",
       "\n",
       "    .dataframe thead th {\n",
       "        text-align: right;\n",
       "    }\n",
       "</style>\n",
       "<table border=\"1\" class=\"dataframe\">\n",
       "  <thead>\n",
       "    <tr style=\"text-align: right;\">\n",
       "      <th></th>\n",
       "      <th>PassengerId</th>\n",
       "      <th>Survived</th>\n",
       "      <th>Pclass</th>\n",
       "      <th>Name</th>\n",
       "      <th>Sex</th>\n",
       "      <th>Age</th>\n",
       "      <th>SibSp</th>\n",
       "      <th>Parch</th>\n",
       "      <th>Ticket</th>\n",
       "      <th>Fare</th>\n",
       "      <th>Cabin</th>\n",
       "      <th>Embarked</th>\n",
       "    </tr>\n",
       "  </thead>\n",
       "  <tbody>\n",
       "    <tr>\n",
       "      <th>0</th>\n",
       "      <td>1</td>\n",
       "      <td>0</td>\n",
       "      <td>3</td>\n",
       "      <td>Braund, Mr. Owen Harris</td>\n",
       "      <td>male</td>\n",
       "      <td>22.0</td>\n",
       "      <td>1</td>\n",
       "      <td>0</td>\n",
       "      <td>A/5 21171</td>\n",
       "      <td>7.2500</td>\n",
       "      <td>NaN</td>\n",
       "      <td>S</td>\n",
       "    </tr>\n",
       "    <tr>\n",
       "      <th>1</th>\n",
       "      <td>2</td>\n",
       "      <td>1</td>\n",
       "      <td>1</td>\n",
       "      <td>Cumings, Mrs. John Bradley (Florence Briggs Th...</td>\n",
       "      <td>female</td>\n",
       "      <td>38.0</td>\n",
       "      <td>1</td>\n",
       "      <td>0</td>\n",
       "      <td>PC 17599</td>\n",
       "      <td>71.2833</td>\n",
       "      <td>C85</td>\n",
       "      <td>C</td>\n",
       "    </tr>\n",
       "    <tr>\n",
       "      <th>2</th>\n",
       "      <td>3</td>\n",
       "      <td>1</td>\n",
       "      <td>3</td>\n",
       "      <td>Heikkinen, Miss. Laina</td>\n",
       "      <td>female</td>\n",
       "      <td>26.0</td>\n",
       "      <td>0</td>\n",
       "      <td>0</td>\n",
       "      <td>STON/O2. 3101282</td>\n",
       "      <td>7.9250</td>\n",
       "      <td>NaN</td>\n",
       "      <td>S</td>\n",
       "    </tr>\n",
       "    <tr>\n",
       "      <th>3</th>\n",
       "      <td>4</td>\n",
       "      <td>1</td>\n",
       "      <td>1</td>\n",
       "      <td>Futrelle, Mrs. Jacques Heath (Lily May Peel)</td>\n",
       "      <td>female</td>\n",
       "      <td>35.0</td>\n",
       "      <td>1</td>\n",
       "      <td>0</td>\n",
       "      <td>113803</td>\n",
       "      <td>53.1000</td>\n",
       "      <td>C123</td>\n",
       "      <td>S</td>\n",
       "    </tr>\n",
       "    <tr>\n",
       "      <th>4</th>\n",
       "      <td>5</td>\n",
       "      <td>0</td>\n",
       "      <td>3</td>\n",
       "      <td>Allen, Mr. William Henry</td>\n",
       "      <td>male</td>\n",
       "      <td>35.0</td>\n",
       "      <td>0</td>\n",
       "      <td>0</td>\n",
       "      <td>373450</td>\n",
       "      <td>8.0500</td>\n",
       "      <td>NaN</td>\n",
       "      <td>S</td>\n",
       "    </tr>\n",
       "  </tbody>\n",
       "</table>\n",
       "</div>"
      ],
      "text/plain": [
       "   PassengerId  Survived  Pclass  \\\n",
       "0            1         0       3   \n",
       "1            2         1       1   \n",
       "2            3         1       3   \n",
       "3            4         1       1   \n",
       "4            5         0       3   \n",
       "\n",
       "                                                Name     Sex   Age  SibSp  \\\n",
       "0                            Braund, Mr. Owen Harris    male  22.0      1   \n",
       "1  Cumings, Mrs. John Bradley (Florence Briggs Th...  female  38.0      1   \n",
       "2                             Heikkinen, Miss. Laina  female  26.0      0   \n",
       "3       Futrelle, Mrs. Jacques Heath (Lily May Peel)  female  35.0      1   \n",
       "4                           Allen, Mr. William Henry    male  35.0      0   \n",
       "\n",
       "   Parch            Ticket     Fare Cabin Embarked  \n",
       "0      0         A/5 21171   7.2500   NaN        S  \n",
       "1      0          PC 17599  71.2833   C85        C  \n",
       "2      0  STON/O2. 3101282   7.9250   NaN        S  \n",
       "3      0            113803  53.1000  C123        S  \n",
       "4      0            373450   8.0500   NaN        S  "
      ]
     },
     "execution_count": 4,
     "metadata": {},
     "output_type": "execute_result"
    }
   ],
   "source": [
    "train_data.head()"
   ]
  },
  {
   "cell_type": "code",
   "execution_count": 5,
   "id": "3f28d994-c0e0-44f1-9776-9657e2bcd573",
   "metadata": {},
   "outputs": [],
   "source": [
    "# Companions = SibSp + Parch\n",
    "# Price per head = Companions / Fare"
   ]
  },
  {
   "cell_type": "code",
   "execution_count": 6,
   "id": "de35e12d-be44-47fa-8800-582cde3297d0",
   "metadata": {},
   "outputs": [
    {
     "data": {
      "text/plain": [
       "Pclass\n",
       "1    84.154687\n",
       "2    20.662183\n",
       "3    13.675550\n",
       "Name: Fare, dtype: float64"
      ]
     },
     "execution_count": 6,
     "metadata": {},
     "output_type": "execute_result"
    }
   ],
   "source": [
    "train_data.groupby('Pclass')['Fare'].mean()"
   ]
  },
  {
   "cell_type": "code",
   "execution_count": null,
   "id": "1db8613d-057a-4808-8652-5558f94f3fc6",
   "metadata": {},
   "outputs": [],
   "source": []
  },
  {
   "cell_type": "code",
   "execution_count": 7,
   "id": "48e34b42-01cd-42f3-834f-a94b4418d482",
   "metadata": {},
   "outputs": [
    {
     "name": "stdout",
     "output_type": "stream",
     "text": [
      "<class 'pandas.core.frame.DataFrame'>\n",
      "RangeIndex: 891 entries, 0 to 890\n",
      "Data columns (total 12 columns):\n",
      " #   Column       Non-Null Count  Dtype  \n",
      "---  ------       --------------  -----  \n",
      " 0   PassengerId  891 non-null    int64  \n",
      " 1   Survived     891 non-null    int64  \n",
      " 2   Pclass       891 non-null    int64  \n",
      " 3   Name         891 non-null    object \n",
      " 4   Sex          891 non-null    object \n",
      " 5   Age          714 non-null    float64\n",
      " 6   SibSp        891 non-null    int64  \n",
      " 7   Parch        891 non-null    int64  \n",
      " 8   Ticket       891 non-null    object \n",
      " 9   Fare         891 non-null    float64\n",
      " 10  Cabin        204 non-null    object \n",
      " 11  Embarked     889 non-null    object \n",
      "dtypes: float64(2), int64(5), object(5)\n",
      "memory usage: 83.7+ KB\n"
     ]
    }
   ],
   "source": [
    "train_data.info()"
   ]
  },
  {
   "cell_type": "code",
   "execution_count": 8,
   "id": "b74daa63-7f50-47ce-9181-3ee19b4d0c83",
   "metadata": {},
   "outputs": [
    {
     "data": {
      "text/plain": [
       "0    549\n",
       "1    342\n",
       "Name: Survived, dtype: int64"
      ]
     },
     "execution_count": 8,
     "metadata": {},
     "output_type": "execute_result"
    }
   ],
   "source": [
    "train_data[\"Survived\"].value_counts()"
   ]
  },
  {
   "cell_type": "code",
   "execution_count": 9,
   "id": "6d7c4ca2-11e4-4eaa-a386-32ab98782e1e",
   "metadata": {},
   "outputs": [
    {
     "data": {
      "text/html": [
       "<div>\n",
       "<style scoped>\n",
       "    .dataframe tbody tr th:only-of-type {\n",
       "        vertical-align: middle;\n",
       "    }\n",
       "\n",
       "    .dataframe tbody tr th {\n",
       "        vertical-align: top;\n",
       "    }\n",
       "\n",
       "    .dataframe thead th {\n",
       "        text-align: right;\n",
       "    }\n",
       "</style>\n",
       "<table border=\"1\" class=\"dataframe\">\n",
       "  <thead>\n",
       "    <tr style=\"text-align: right;\">\n",
       "      <th></th>\n",
       "      <th>PassengerId</th>\n",
       "      <th>Survived</th>\n",
       "      <th>Pclass</th>\n",
       "      <th>Age</th>\n",
       "      <th>SibSp</th>\n",
       "      <th>Parch</th>\n",
       "      <th>Fare</th>\n",
       "    </tr>\n",
       "  </thead>\n",
       "  <tbody>\n",
       "    <tr>\n",
       "      <th>count</th>\n",
       "      <td>891.000000</td>\n",
       "      <td>891.000000</td>\n",
       "      <td>891.000000</td>\n",
       "      <td>714.000000</td>\n",
       "      <td>891.000000</td>\n",
       "      <td>891.000000</td>\n",
       "      <td>891.000000</td>\n",
       "    </tr>\n",
       "    <tr>\n",
       "      <th>mean</th>\n",
       "      <td>446.000000</td>\n",
       "      <td>0.383838</td>\n",
       "      <td>2.308642</td>\n",
       "      <td>29.699118</td>\n",
       "      <td>0.523008</td>\n",
       "      <td>0.381594</td>\n",
       "      <td>32.204208</td>\n",
       "    </tr>\n",
       "    <tr>\n",
       "      <th>std</th>\n",
       "      <td>257.353842</td>\n",
       "      <td>0.486592</td>\n",
       "      <td>0.836071</td>\n",
       "      <td>14.526497</td>\n",
       "      <td>1.102743</td>\n",
       "      <td>0.806057</td>\n",
       "      <td>49.693429</td>\n",
       "    </tr>\n",
       "    <tr>\n",
       "      <th>min</th>\n",
       "      <td>1.000000</td>\n",
       "      <td>0.000000</td>\n",
       "      <td>1.000000</td>\n",
       "      <td>0.420000</td>\n",
       "      <td>0.000000</td>\n",
       "      <td>0.000000</td>\n",
       "      <td>0.000000</td>\n",
       "    </tr>\n",
       "    <tr>\n",
       "      <th>25%</th>\n",
       "      <td>223.500000</td>\n",
       "      <td>0.000000</td>\n",
       "      <td>2.000000</td>\n",
       "      <td>20.125000</td>\n",
       "      <td>0.000000</td>\n",
       "      <td>0.000000</td>\n",
       "      <td>7.910400</td>\n",
       "    </tr>\n",
       "    <tr>\n",
       "      <th>50%</th>\n",
       "      <td>446.000000</td>\n",
       "      <td>0.000000</td>\n",
       "      <td>3.000000</td>\n",
       "      <td>28.000000</td>\n",
       "      <td>0.000000</td>\n",
       "      <td>0.000000</td>\n",
       "      <td>14.454200</td>\n",
       "    </tr>\n",
       "    <tr>\n",
       "      <th>75%</th>\n",
       "      <td>668.500000</td>\n",
       "      <td>1.000000</td>\n",
       "      <td>3.000000</td>\n",
       "      <td>38.000000</td>\n",
       "      <td>1.000000</td>\n",
       "      <td>0.000000</td>\n",
       "      <td>31.000000</td>\n",
       "    </tr>\n",
       "    <tr>\n",
       "      <th>max</th>\n",
       "      <td>891.000000</td>\n",
       "      <td>1.000000</td>\n",
       "      <td>3.000000</td>\n",
       "      <td>80.000000</td>\n",
       "      <td>8.000000</td>\n",
       "      <td>6.000000</td>\n",
       "      <td>512.329200</td>\n",
       "    </tr>\n",
       "  </tbody>\n",
       "</table>\n",
       "</div>"
      ],
      "text/plain": [
       "       PassengerId    Survived      Pclass         Age       SibSp  \\\n",
       "count   891.000000  891.000000  891.000000  714.000000  891.000000   \n",
       "mean    446.000000    0.383838    2.308642   29.699118    0.523008   \n",
       "std     257.353842    0.486592    0.836071   14.526497    1.102743   \n",
       "min       1.000000    0.000000    1.000000    0.420000    0.000000   \n",
       "25%     223.500000    0.000000    2.000000   20.125000    0.000000   \n",
       "50%     446.000000    0.000000    3.000000   28.000000    0.000000   \n",
       "75%     668.500000    1.000000    3.000000   38.000000    1.000000   \n",
       "max     891.000000    1.000000    3.000000   80.000000    8.000000   \n",
       "\n",
       "            Parch        Fare  \n",
       "count  891.000000  891.000000  \n",
       "mean     0.381594   32.204208  \n",
       "std      0.806057   49.693429  \n",
       "min      0.000000    0.000000  \n",
       "25%      0.000000    7.910400  \n",
       "50%      0.000000   14.454200  \n",
       "75%      0.000000   31.000000  \n",
       "max      6.000000  512.329200  "
      ]
     },
     "execution_count": 9,
     "metadata": {},
     "output_type": "execute_result"
    }
   ],
   "source": [
    "train_data.describe()"
   ]
  },
  {
   "cell_type": "markdown",
   "id": "1e4c1021-8289-464a-92d5-4fa3d5d89e78",
   "metadata": {},
   "source": [
    "## Distribution of values "
   ]
  },
  {
   "cell_type": "code",
   "execution_count": 10,
   "id": "7ff66235-2ddf-4f5e-8472-047fc512b6d9",
   "metadata": {},
   "outputs": [
    {
     "data": {
      "image/png": "[encoded data removed]",
      "text/plain": [
       "<Figure size 1200x800 with 9 Axes>"
      ]
     },
     "metadata": {},
     "output_type": "display_data"
    }
   ],
   "source": [
    "train_data.hist(bins=50, figsize=(12, 8))\n",
    "plt.show()"
   ]
  },
  {
   "cell_type": "markdown",
   "id": "6b5702ac-2366-400e-970e-606f95f62a00",
   "metadata": {},
   "source": [
    "## Missing Values"
   ]
  },
  {
   "cell_type": "code",
   "execution_count": 11,
   "id": "2c359b66-2a71-420b-8dcd-de1ef8cb74a2",
   "metadata": {},
   "outputs": [
    {
     "data": {
      "image/png": "[encoded data removed]",
      "text/plain": [
       "<Figure size 640x480 with 1 Axes>"
      ]
     },
     "metadata": {},
     "output_type": "display_data"
    }
   ],
   "source": [
    "# Plot the null values of each column (count plot graph)\n",
    "\n",
    "def null_plot(dataframe):\n",
    "    \n",
    "    # Determine the columns that have null values\n",
    "    def listed_null_cols():\n",
    "        null_columns = dataframe.columns[dataframe.isna().any()]\n",
    "        return null_columns.tolist()\n",
    "    \n",
    "    # Retrieve the null values in the dataframe\n",
    "    null_columns = dataframe[listed_null_cols()]\n",
    "    null_rows = null_columns.loc[null_columns.isna().any(axis=1)]\n",
    "    \n",
    "    # Unpivot the dataframe cosisting of null values\n",
    "    melted_dataframe = pd.melt(null_rows)\n",
    "    melted_nulls = melted_dataframe[melted_dataframe['value'].isnull()]\n",
    "    \n",
    "    # Plot the null values\n",
    "    sns.countplot(data=melted_nulls, x=melted_nulls['variable'])\n",
    "    \n",
    "    return plt.show()\n",
    "\n",
    "null_plot(train_data)"
   ]
  },
  {
   "cell_type": "markdown",
   "id": "25917979-e237-4a71-ae6c-a81fcabb1ff0",
   "metadata": {},
   "source": [
    "----"
   ]
  },
  {
   "cell_type": "code",
   "execution_count": 17,
   "id": "12bb28a6-677d-4b5f-82e7-ebf388894c7d",
   "metadata": {},
   "outputs": [],
   "source": [
    "new_data = get_data('https://raw.githubusercontent.com/wyx-smrf/Windows-Misc/main/Titanic%20Project/train.csv')"
   ]
  },
  {
   "cell_type": "code",
   "execution_count": 13,
   "id": "7065de1e-4c74-4a7d-b1b0-0804658bbe08",
   "metadata": {},
   "outputs": [
    {
     "data": {
      "text/plain": [
       "Index(['PassengerId', 'Survived', 'Pclass', 'Name', 'Sex', 'Age', 'SibSp',\n",
       "       'Parch', 'Ticket', 'Fare', 'Cabin', 'Embarked'],\n",
       "      dtype='object')"
      ]
     },
     "execution_count": 13,
     "metadata": {},
     "output_type": "execute_result"
    }
   ],
   "source": [
    "train_data.columns"
   ]
  },
  {
   "cell_type": "code",
   "execution_count": 14,
   "id": "b0625822-877b-4307-a383-08243d68148c",
   "metadata": {},
   "outputs": [],
   "source": [
    "\n",
    "params = {'dataframe': new_data, \n",
    "          'listed_delete_cols': ['PassengerId', 'Name', 'Ticket', 'Cabin']}\n",
    "\n",
    "def delete_cols(dataframe, listed_delete_cols):\n",
    "    new_dataframe = dataframe.drop(columns = listed_delete_cols, axis=1)\n",
    "    return new_dataframe"
   ]
  },
  {
   "cell_type": "code",
   "execution_count": 15,
   "id": "878b7d02-3ea6-4919-a739-19727074c55f",
   "metadata": {},
   "outputs": [
    {
     "data": {
      "text/html": [
       "<div>\n",
       "<style scoped>\n",
       "    .dataframe tbody tr th:only-of-type {\n",
       "        vertical-align: middle;\n",
       "    }\n",
       "\n",
       "    .dataframe tbody tr th {\n",
       "        vertical-align: top;\n",
       "    }\n",
       "\n",
       "    .dataframe thead th {\n",
       "        text-align: right;\n",
       "    }\n",
       "</style>\n",
       "<table border=\"1\" class=\"dataframe\">\n",
       "  <thead>\n",
       "    <tr style=\"text-align: right;\">\n",
       "      <th></th>\n",
       "      <th>PassengerId</th>\n",
       "      <th>Survived</th>\n",
       "      <th>Pclass</th>\n",
       "      <th>Name</th>\n",
       "      <th>Sex</th>\n",
       "      <th>Age</th>\n",
       "      <th>SibSp</th>\n",
       "      <th>Parch</th>\n",
       "      <th>Ticket</th>\n",
       "      <th>Fare</th>\n",
       "      <th>Cabin</th>\n",
       "      <th>Embarked</th>\n",
       "    </tr>\n",
       "  </thead>\n",
       "  <tbody>\n",
       "    <tr>\n",
       "      <th>0</th>\n",
       "      <td>1</td>\n",
       "      <td>0</td>\n",
       "      <td>3</td>\n",
       "      <td>Braund, Mr. Owen Harris</td>\n",
       "      <td>male</td>\n",
       "      <td>22.0</td>\n",
       "      <td>1</td>\n",
       "      <td>0</td>\n",
       "      <td>A/5 21171</td>\n",
       "      <td>7.2500</td>\n",
       "      <td>NaN</td>\n",
       "      <td>S</td>\n",
       "    </tr>\n",
       "    <tr>\n",
       "      <th>1</th>\n",
       "      <td>2</td>\n",
       "      <td>1</td>\n",
       "      <td>1</td>\n",
       "      <td>Cumings, Mrs. John Bradley (Florence Briggs Th...</td>\n",
       "      <td>female</td>\n",
       "      <td>38.0</td>\n",
       "      <td>1</td>\n",
       "      <td>0</td>\n",
       "      <td>PC 17599</td>\n",
       "      <td>71.2833</td>\n",
       "      <td>C85</td>\n",
       "      <td>C</td>\n",
       "    </tr>\n",
       "    <tr>\n",
       "      <th>2</th>\n",
       "      <td>3</td>\n",
       "      <td>1</td>\n",
       "      <td>3</td>\n",
       "      <td>Heikkinen, Miss. Laina</td>\n",
       "      <td>female</td>\n",
       "      <td>26.0</td>\n",
       "      <td>0</td>\n",
       "      <td>0</td>\n",
       "      <td>STON/O2. 3101282</td>\n",
       "      <td>7.9250</td>\n",
       "      <td>NaN</td>\n",
       "      <td>S</td>\n",
       "    </tr>\n",
       "  </tbody>\n",
       "</table>\n",
       "</div>"
      ],
      "text/plain": [
       "   PassengerId  Survived  Pclass  \\\n",
       "0            1         0       3   \n",
       "1            2         1       1   \n",
       "2            3         1       3   \n",
       "\n",
       "                                                Name     Sex   Age  SibSp  \\\n",
       "0                            Braund, Mr. Owen Harris    male  22.0      1   \n",
       "1  Cumings, Mrs. John Bradley (Florence Briggs Th...  female  38.0      1   \n",
       "2                             Heikkinen, Miss. Laina  female  26.0      0   \n",
       "\n",
       "   Parch            Ticket     Fare Cabin Embarked  \n",
       "0      0         A/5 21171   7.2500   NaN        S  \n",
       "1      0          PC 17599  71.2833   C85        C  \n",
       "2      0  STON/O2. 3101282   7.9250   NaN        S  "
      ]
     },
     "execution_count": 15,
     "metadata": {},
     "output_type": "execute_result"
    }
   ],
   "source": [
    "new_data.head(3)"
   ]
  },
  {
   "cell_type": "code",
   "execution_count": 18,
   "id": "6afe597e-1ca7-4a7f-a113-8ba8e6c37c1e",
   "metadata": {},
   "outputs": [],
   "source": [
    "dataprocess2 = delete_cols(**params)"
   ]
  },
  {
   "cell_type": "code",
   "execution_count": 19,
   "id": "187b0d92-f334-4aeb-abc6-853aba992929",
   "metadata": {},
   "outputs": [
    {
     "data": {
      "text/html": [
       "<div>\n",
       "<style scoped>\n",
       "    .dataframe tbody tr th:only-of-type {\n",
       "        vertical-align: middle;\n",
       "    }\n",
       "\n",
       "    .dataframe tbody tr th {\n",
       "        vertical-align: top;\n",
       "    }\n",
       "\n",
       "    .dataframe thead th {\n",
       "        text-align: right;\n",
       "    }\n",
       "</style>\n",
       "<table border=\"1\" class=\"dataframe\">\n",
       "  <thead>\n",
       "    <tr style=\"text-align: right;\">\n",
       "      <th></th>\n",
       "      <th>Survived</th>\n",
       "      <th>Pclass</th>\n",
       "      <th>Sex</th>\n",
       "      <th>Age</th>\n",
       "      <th>SibSp</th>\n",
       "      <th>Parch</th>\n",
       "      <th>Fare</th>\n",
       "      <th>Embarked</th>\n",
       "    </tr>\n",
       "  </thead>\n",
       "  <tbody>\n",
       "    <tr>\n",
       "      <th>0</th>\n",
       "      <td>0</td>\n",
       "      <td>3</td>\n",
       "      <td>male</td>\n",
       "      <td>22.0</td>\n",
       "      <td>1</td>\n",
       "      <td>0</td>\n",
       "      <td>7.2500</td>\n",
       "      <td>S</td>\n",
       "    </tr>\n",
       "    <tr>\n",
       "      <th>1</th>\n",
       "      <td>1</td>\n",
       "      <td>1</td>\n",
       "      <td>female</td>\n",
       "      <td>38.0</td>\n",
       "      <td>1</td>\n",
       "      <td>0</td>\n",
       "      <td>71.2833</td>\n",
       "      <td>C</td>\n",
       "    </tr>\n",
       "    <tr>\n",
       "      <th>2</th>\n",
       "      <td>1</td>\n",
       "      <td>3</td>\n",
       "      <td>female</td>\n",
       "      <td>26.0</td>\n",
       "      <td>0</td>\n",
       "      <td>0</td>\n",
       "      <td>7.9250</td>\n",
       "      <td>S</td>\n",
       "    </tr>\n",
       "    <tr>\n",
       "      <th>3</th>\n",
       "      <td>1</td>\n",
       "      <td>1</td>\n",
       "      <td>female</td>\n",
       "      <td>35.0</td>\n",
       "      <td>1</td>\n",
       "      <td>0</td>\n",
       "      <td>53.1000</td>\n",
       "      <td>S</td>\n",
       "    </tr>\n",
       "    <tr>\n",
       "      <th>4</th>\n",
       "      <td>0</td>\n",
       "      <td>3</td>\n",
       "      <td>male</td>\n",
       "      <td>35.0</td>\n",
       "      <td>0</td>\n",
       "      <td>0</td>\n",
       "      <td>8.0500</td>\n",
       "      <td>S</td>\n",
       "    </tr>\n",
       "    <tr>\n",
       "      <th>...</th>\n",
       "      <td>...</td>\n",
       "      <td>...</td>\n",
       "      <td>...</td>\n",
       "      <td>...</td>\n",
       "      <td>...</td>\n",
       "      <td>...</td>\n",
       "      <td>...</td>\n",
       "      <td>...</td>\n",
       "    </tr>\n",
       "    <tr>\n",
       "      <th>886</th>\n",
       "      <td>0</td>\n",
       "      <td>2</td>\n",
       "      <td>male</td>\n",
       "      <td>27.0</td>\n",
       "      <td>0</td>\n",
       "      <td>0</td>\n",
       "      <td>13.0000</td>\n",
       "      <td>S</td>\n",
       "    </tr>\n",
       "    <tr>\n",
       "      <th>887</th>\n",
       "      <td>1</td>\n",
       "      <td>1</td>\n",
       "      <td>female</td>\n",
       "      <td>19.0</td>\n",
       "      <td>0</td>\n",
       "      <td>0</td>\n",
       "      <td>30.0000</td>\n",
       "      <td>S</td>\n",
       "    </tr>\n",
       "    <tr>\n",
       "      <th>888</th>\n",
       "      <td>0</td>\n",
       "      <td>3</td>\n",
       "      <td>female</td>\n",
       "      <td>NaN</td>\n",
       "      <td>1</td>\n",
       "      <td>2</td>\n",
       "      <td>23.4500</td>\n",
       "      <td>S</td>\n",
       "    </tr>\n",
       "    <tr>\n",
       "      <th>889</th>\n",
       "      <td>1</td>\n",
       "      <td>1</td>\n",
       "      <td>male</td>\n",
       "      <td>26.0</td>\n",
       "      <td>0</td>\n",
       "      <td>0</td>\n",
       "      <td>30.0000</td>\n",
       "      <td>C</td>\n",
       "    </tr>\n",
       "    <tr>\n",
       "      <th>890</th>\n",
       "      <td>0</td>\n",
       "      <td>3</td>\n",
       "      <td>male</td>\n",
       "      <td>32.0</td>\n",
       "      <td>0</td>\n",
       "      <td>0</td>\n",
       "      <td>7.7500</td>\n",
       "      <td>Q</td>\n",
       "    </tr>\n",
       "  </tbody>\n",
       "</table>\n",
       "<p>891 rows × 8 columns</p>\n",
       "</div>"
      ],
      "text/plain": [
       "     Survived  Pclass     Sex   Age  SibSp  Parch     Fare Embarked\n",
       "0           0       3    male  22.0      1      0   7.2500        S\n",
       "1           1       1  female  38.0      1      0  71.2833        C\n",
       "2           1       3  female  26.0      0      0   7.9250        S\n",
       "3           1       1  female  35.0      1      0  53.1000        S\n",
       "4           0       3    male  35.0      0      0   8.0500        S\n",
       "..        ...     ...     ...   ...    ...    ...      ...      ...\n",
       "886         0       2    male  27.0      0      0  13.0000        S\n",
       "887         1       1  female  19.0      0      0  30.0000        S\n",
       "888         0       3  female   NaN      1      2  23.4500        S\n",
       "889         1       1    male  26.0      0      0  30.0000        C\n",
       "890         0       3    male  32.0      0      0   7.7500        Q\n",
       "\n",
       "[891 rows x 8 columns]"
      ]
     },
     "execution_count": 19,
     "metadata": {},
     "output_type": "execute_result"
    }
   ],
   "source": [
    "dataprocess2"
   ]
  },
  {
   "cell_type": "code",
   "execution_count": null,
   "id": "29f02621-0ea7-4538-acfc-8ce3c89890cb",
   "metadata": {},
   "outputs": [],
   "source": [
    "def column_addition(X):\n",
    "    return X[:, [0]] + X[:, [1]]\n",
    "\n",
    "def column_division(X):\n",
    "    return X[:, [0]] / X[:, [1]]\n",
    "\n",
    "def ratio_name(function_transformer, feature_names_in):\n",
    "    return [\"ratio\"]  # feature names out\n",
    "\n",
    "def ratio_pipeline():\n",
    "    return make_pipeline(\n",
    "        SimpleImputer(strategy=\"median\"),\n",
    "        FunctionTransformer(column_ratio, feature_names_out=ratio_name),\n",
    "        StandardScaler())\n",
    "\n",
    "preprocessing = ColumnTransformer([\n",
    "    (\"bedrooms\", ratio_pipeline(), [\"total_bedrooms\", \"total_rooms\"]),"
   ]
  },
  {
   "cell_type": "code",
   "execution_count": null,
   "id": "d0a53e12-0faf-4e96-9555-aa81079e7fa4",
   "metadata": {},
   "outputs": [],
   "source": [
    "# Companions = SibSp + Parch\n",
    "# Price per head = Companions / Fare"
   ]
  },
  {
   "cell_type": "code",
   "execution_count": 29,
   "id": "ef2058e1-6832-4964-80a0-af9ffbf648df",
   "metadata": {},
   "outputs": [],
   "source": [
    "x = df_train[[\"SibSp\", \"Parch\"]]"
   ]
  },
  {
   "cell_type": "code",
   "execution_count": 45,
   "id": "7e5f7cbb-3bc7-4187-96e8-c0b73122a5ba",
   "metadata": {},
   "outputs": [
    {
     "data": {
      "text/html": [
       "<div>\n",
       "<style scoped>\n",
       "    .dataframe tbody tr th:only-of-type {\n",
       "        vertical-align: middle;\n",
       "    }\n",
       "\n",
       "    .dataframe tbody tr th {\n",
       "        vertical-align: top;\n",
       "    }\n",
       "\n",
       "    .dataframe thead th {\n",
       "        text-align: right;\n",
       "    }\n",
       "</style>\n",
       "<table border=\"1\" class=\"dataframe\">\n",
       "  <thead>\n",
       "    <tr style=\"text-align: right;\">\n",
       "      <th></th>\n",
       "      <th>SibSp</th>\n",
       "      <th>Parch</th>\n",
       "    </tr>\n",
       "  </thead>\n",
       "  <tbody>\n",
       "    <tr>\n",
       "      <th>0</th>\n",
       "      <td>1</td>\n",
       "      <td>0</td>\n",
       "    </tr>\n",
       "    <tr>\n",
       "      <th>1</th>\n",
       "      <td>1</td>\n",
       "      <td>0</td>\n",
       "    </tr>\n",
       "    <tr>\n",
       "      <th>2</th>\n",
       "      <td>0</td>\n",
       "      <td>0</td>\n",
       "    </tr>\n",
       "    <tr>\n",
       "      <th>3</th>\n",
       "      <td>1</td>\n",
       "      <td>0</td>\n",
       "    </tr>\n",
       "    <tr>\n",
       "      <th>4</th>\n",
       "      <td>0</td>\n",
       "      <td>0</td>\n",
       "    </tr>\n",
       "    <tr>\n",
       "      <th>...</th>\n",
       "      <td>...</td>\n",
       "      <td>...</td>\n",
       "    </tr>\n",
       "    <tr>\n",
       "      <th>886</th>\n",
       "      <td>0</td>\n",
       "      <td>0</td>\n",
       "    </tr>\n",
       "    <tr>\n",
       "      <th>887</th>\n",
       "      <td>0</td>\n",
       "      <td>0</td>\n",
       "    </tr>\n",
       "    <tr>\n",
       "      <th>888</th>\n",
       "      <td>1</td>\n",
       "      <td>2</td>\n",
       "    </tr>\n",
       "    <tr>\n",
       "      <th>889</th>\n",
       "      <td>0</td>\n",
       "      <td>0</td>\n",
       "    </tr>\n",
       "    <tr>\n",
       "      <th>890</th>\n",
       "      <td>0</td>\n",
       "      <td>0</td>\n",
       "    </tr>\n",
       "  </tbody>\n",
       "</table>\n",
       "<p>891 rows × 2 columns</p>\n",
       "</div>"
      ],
      "text/plain": [
       "     SibSp  Parch\n",
       "0        1      0\n",
       "1        1      0\n",
       "2        0      0\n",
       "3        1      0\n",
       "4        0      0\n",
       "..     ...    ...\n",
       "886      0      0\n",
       "887      0      0\n",
       "888      1      2\n",
       "889      0      0\n",
       "890      0      0\n",
       "\n",
       "[891 rows x 2 columns]"
      ]
     },
     "execution_count": 45,
     "metadata": {},
     "output_type": "execute_result"
    }
   ],
   "source": [
    "x"
   ]
  },
  {
   "cell_type": "code",
   "execution_count": 48,
   "id": "9509680c-b459-45e9-bd67-e52a0ec15d69",
   "metadata": {},
   "outputs": [],
   "source": [
    "def col_addition(dataframe):\n",
    "    return dataframe[:, [0]] + dataframe[:, [1]]"
   ]
  },
  {
   "cell_type": "code",
   "execution_count": null,
   "id": "2407deed-c622-464f-b0c1-d5a70a08c05d",
   "metadata": {},
   "outputs": [],
   "source": [
    "def column_addition(X):\n",
    "    return X[:, [0]] + X[:, [1]]"
   ]
  },
  {
   "cell_type": "code",
   "execution_count": null,
   "id": "fab01500-b2ba-4010-98f2-b023debcc2da",
   "metadata": {},
   "outputs": [],
   "source": []
  },
  {
   "cell_type": "code",
   "execution_count": null,
   "id": "5902033a-3724-4db7-88a4-695f48264426",
   "metadata": {},
   "outputs": [],
   "source": []
  },
  {
   "cell_type": "markdown",
   "id": "e86d0814-cf95-4daa-927a-b908b89d819a",
   "metadata": {},
   "source": [
    "# Creating Pipelines"
   ]
  },
  {
   "cell_type": "code",
   "execution_count": null,
   "id": "a3479cc6-d5c7-4544-97cc-a4e1672a2eb1",
   "metadata": {},
   "outputs": [],
   "source": [
    "pd.DataFrame(train_data.groupby(['Sex','Pclass'])['Age'].mean())"
   ]
  },
  {
   "cell_type": "code",
   "execution_count": null,
   "id": "e9318d78-ee44-4728-b97a-411e26a44c32",
   "metadata": {},
   "outputs": [],
   "source": [
    "no_null"
   ]
  },
  {
   "cell_type": "code",
   "execution_count": null,
   "id": "2cfa98f6-2b13-46c5-bc76-5497ca419011",
   "metadata": {},
   "outputs": [],
   "source": [
    "df_nonull = df_train.dropna()"
   ]
  },
  {
   "cell_type": "code",
   "execution_count": null,
   "id": "604678df-cca2-4c66-9921-7cf6ff301e02",
   "metadata": {},
   "outputs": [],
   "source": []
  },
  {
   "cell_type": "code",
   "execution_count": null,
   "id": "b4a3a731-7a60-47c5-930d-2c81c2bf0964",
   "metadata": {},
   "outputs": [],
   "source": [
    "sns.countplot(data=melted_nulls, x=melted_nulls['variable'])"
   ]
  },
  {
   "cell_type": "code",
   "execution_count": null,
   "id": "19e47cc9-e5d4-4a16-8b9e-289accb66683",
   "metadata": {},
   "outputs": [],
   "source": []
  },
  {
   "cell_type": "code",
   "execution_count": null,
   "id": "df3e6009-2f46-498b-9097-1f984834c900",
   "metadata": {},
   "outputs": [],
   "source": []
  },
  {
   "cell_type": "code",
   "execution_count": null,
   "id": "d45f161d-151a-4e83-9276-6be1537e609e",
   "metadata": {},
   "outputs": [],
   "source": []
  },
  {
   "cell_type": "code",
   "execution_count": null,
   "id": "e3eb2408-f124-48a2-96e6-e9f57fa299d7",
   "metadata": {},
   "outputs": [],
   "source": []
  },
  {
   "cell_type": "markdown",
   "id": "3414f339-589f-45cb-8855-a1bdcea0dbd1",
   "metadata": {
    "tags": []
   },
   "source": [
    "## Exploring the Data"
   ]
  },
  {
   "cell_type": "markdown",
   "id": "3b4e59af-fb8f-46b4-af60-97a284e2a14a",
   "metadata": {
    "tags": []
   },
   "source": [
    "### Evaluation of Datatypes"
   ]
  },
  {
   "cell_type": "code",
   "execution_count": null,
   "id": "d119e0ef-1ee3-414d-a53b-95b90306327d",
   "metadata": {},
   "outputs": [],
   "source": [
    "df_train.columns"
   ]
  },
  {
   "cell_type": "code",
   "execution_count": null,
   "id": "e1ae110d-0250-4b91-b162-b7b235023fbe",
   "metadata": {},
   "outputs": [],
   "source": [
    "df_train.info()"
   ]
  },
  {
   "cell_type": "code",
   "execution_count": null,
   "id": "5720c42b-358a-4eba-8b5a-2b0b8d5a60d6",
   "metadata": {},
   "outputs": [],
   "source": [
    "df_train.dtypes.value_counts()"
   ]
  },
  {
   "cell_type": "code",
   "execution_count": null,
   "id": "83b26287-db82-47df-b97b-8f7f6134c7d8",
   "metadata": {},
   "outputs": [],
   "source": [
    "dtypes_list = list(df_train.dtypes.unique())\n",
    "\n",
    "for data_type in dtypes_list:\n",
    "    cols = df_train.select_dtypes(include=[data_type]).columns\n",
    "    print(f'{data_type}: {list(cols)}')"
   ]
  },
  {
   "cell_type": "markdown",
   "id": "ea8e94db-f6a0-4a7d-b20c-408a78db6b8c",
   "metadata": {
    "tags": []
   },
   "source": [
    "### Evaluation of missing values"
   ]
  },
  {
   "cell_type": "code",
   "execution_count": null,
   "id": "93c019a9-b50b-431e-8069-8f2868acda26",
   "metadata": {},
   "outputs": [],
   "source": [
    "df_train.isnull().sum()"
   ]
  },
  {
   "cell_type": "code",
   "execution_count": null,
   "id": "864163bc-1e7a-4aca-8108-503c7ceea7ec",
   "metadata": {},
   "outputs": [],
   "source": [
    "df_test.isnull().sum()"
   ]
  },
  {
   "cell_type": "markdown",
   "id": "66f68ae9-eaff-4cd9-96c7-f671324b406a",
   "metadata": {
    "jp-MarkdownHeadingCollapsed": true,
    "tags": []
   },
   "source": [
    "### View Distribution"
   ]
  },
  {
   "cell_type": "code",
   "execution_count": null,
   "id": "905997e0-a0f2-4f4c-b565-6d1a0b4d969f",
   "metadata": {},
   "outputs": [],
   "source": [
    "import matplotlib.pyplot as plt\n",
    "\n",
    "# extra code – the next 5 lines define the default font sizes\n",
    "plt.rc('font', size=14)\n",
    "plt.rc('axes', labelsize=14, titlesize=14)\n",
    "plt.rc('legend', fontsize=14)\n",
    "plt.rc('xtick', labelsize=10)\n",
    "plt.rc('ytick', labelsize=10)\n",
    "\n",
    "distrib_plot = df_train.hist(bins=50, figsize=(12, 8))\n",
    "plt.show()"
   ]
  },
  {
   "cell_type": "markdown",
   "id": "22329355-f216-4151-bae5-c4e5d3d63d10",
   "metadata": {
    "tags": []
   },
   "source": [
    "### Visualizing the Data"
   ]
  },
  {
   "cell_type": "code",
   "execution_count": null,
   "id": "abf68fdc-1b3a-48d0-90c1-a97a018c21c2",
   "metadata": {},
   "outputs": [],
   "source": [
    "# View the unique column elements that can be used to countplot\n",
    "\n",
    "# Using for loops\n",
    "for columns in df_train.columns:\n",
    "    if len(df_train[columns].unique()) <= 10:\n",
    "        print(columns)\n",
    "        \n",
    "# Using list comprehension\n",
    "cat_cols_list = [columns for columns in df_train.columns if len(df_train[columns].unique()) <= 10]"
   ]
  },
  {
   "cell_type": "code",
   "execution_count": null,
   "id": "8e234800-8f83-4e80-8cd6-4727efbb84fa",
   "metadata": {},
   "outputs": [],
   "source": [
    "for number, col in enumerate(df_train.columns):\n",
    "    print(f'{number}, {col}')"
   ]
  },
  {
   "cell_type": "raw",
   "id": "5cf4fc92-a796-4ecc-b564-3ea7beea5536",
   "metadata": {},
   "source": [
    "for number, columns in enumerate(cat_cols_list):\n",
    "    sns.countplot(data=df_train, x=df_train[columns])\n",
    "    plt.show()"
   ]
  },
  {
   "cell_type": "code",
   "execution_count": null,
   "id": "4bc9a908",
   "metadata": {},
   "outputs": [],
   "source": [
    "plot_params = {'data':               df_train,\n",
    "               'row':               'Pclass',\n",
    "               'column':            'Sex',\n",
    "               'hist_basis':        'Age',\n",
    "               'color':             'red'}\n",
    "\n",
    "def cat_countplot(data, row, column, hist_basis, color):\n",
    "    hist_plot = sns.FacetGrid(data, \n",
    "                              margin_titles=True,\n",
    "                              col=column, row=row)\n",
    "    hist_plot.map(plt.hist, hist_basis, color=color)\n",
    "    return plt.show()\n",
    "    \n",
    "cat_countplot(**plot_params)"
   ]
  },
  {
   "cell_type": "markdown",
   "id": "374a8629-496a-4e9d-9220-c07c5bb6bd6a",
   "metadata": {},
   "source": [
    "### Study the correlations"
   ]
  },
  {
   "cell_type": "code",
   "execution_count": null,
   "id": "ed2cb4d9-6cab-468a-977e-5890b66acf13",
   "metadata": {},
   "outputs": [],
   "source": [
    "sorted_correlation_params = {'data': df_train, \n",
    "                             'target': 'Survived', \n",
    "                             'correl_method': 'pearson'}\n",
    "\n",
    "def sorted_correlation(data, target, correl_method):\n",
    "                             \n",
    "    # Convert categorical values to numeric\n",
    "    le = LabelEncoder()\n",
    "    data[target] = le.fit_transform(data[target])\n",
    "  \n",
    "    # Create correlation matrix\n",
    "    corr_mat = data.corr(method=correl_method)\n",
    "  \n",
    "    # Retain upper triangular values of correlation matrix and\n",
    "    # make Lower triangular values Null\n",
    "    upper_corr_mat = corr_mat.where(\n",
    "        np.triu(np.ones(corr_mat.shape), k=1).astype(bool))\n",
    "  \n",
    "    # Convert to 1-D series and drop Null values\n",
    "    unique_corr_pairs = upper_corr_mat.unstack().dropna()\n",
    "  \n",
    "    # Sort correlation pairs\n",
    "    sorted_mat = unique_corr_pairs.sort_values()\n",
    "\n",
    "    return sorted_mat\n",
    "\n",
    "sorted_correlation(**sorted_correlation_params)"
   ]
  },
  {
   "cell_type": "markdown",
   "id": "ff314376-28e2-4024-a95d-364d2c2d9a15",
   "metadata": {},
   "source": [
    "It appears that there is not much significant correlation in the dataset"
   ]
  },
  {
   "cell_type": "markdown",
   "id": "6143b18a-9704-4b41-bce7-158553a4903f",
   "metadata": {},
   "source": [
    "### Applying Data Transformations"
   ]
  },
  {
   "cell_type": "code",
   "execution_count": null,
   "id": "2572db98-6ac5-4ed5-9878-145ee602ba30",
   "metadata": {},
   "outputs": [],
   "source": [
    "df_train_mod = df_train.copy()"
   ]
  },
  {
   "cell_type": "code",
   "execution_count": null,
   "id": "02d50ad2-18fd-434d-aa0b-10bc77bdf2f9",
   "metadata": {},
   "outputs": [],
   "source": [
    "df_train_mod['companions'] = df_train_mod['SibSp'] + df_train_mod['Parch']\n",
    "df_train_mod['price per head'] = df_train_mod['Fare'] / df_train_mod['companions']"
   ]
  },
  {
   "cell_type": "code",
   "execution_count": null,
   "id": "c0c87370-0776-42ba-afda-e1a592d0cb7f",
   "metadata": {},
   "outputs": [],
   "source": [
    "df_train_mod.head()"
   ]
  },
  {
   "cell_type": "code",
   "execution_count": null,
   "id": "db938abd-563c-41d1-8af1-64922a1692c5",
   "metadata": {},
   "outputs": [],
   "source": [
    "df_train_mod['companions'].value_counts()"
   ]
  },
  {
   "cell_type": "code",
   "execution_count": null,
   "id": "aff741c7-30af-451e-aa01-3545a2b2815b",
   "metadata": {},
   "outputs": [],
   "source": [
    "df_train_mod['Fare'].sort_values(ascending=False)"
   ]
  },
  {
   "cell_type": "code",
   "execution_count": null,
   "id": "1c8aae48-035c-49e5-8594-8ed0b6a5e69b",
   "metadata": {},
   "outputs": [],
   "source": [
    "df_train[df_train['Age'].isna()]"
   ]
  },
  {
   "cell_type": "markdown",
   "id": "00a43044-babd-4baf-9138-743ed2702209",
   "metadata": {},
   "source": [
    "## Preparing the Data"
   ]
  },
  {
   "cell_type": "markdown",
   "id": "87fd107c-191c-4c0d-9c14-0d9fc6b6535d",
   "metadata": {},
   "source": [
    "### Data Cleaning"
   ]
  },
  {
   "cell_type": "markdown",
   "id": "f5fdd505-4c0b-4d3d-bec5-b6fe180cb1e1",
   "metadata": {},
   "source": [
    "1. Check Boxplot (Age per Pclass and by gender)\n",
    "2. Determine the mean for each pclass"
   ]
  },
  {
   "cell_type": "code",
   "execution_count": null,
   "id": "04ce0b4c-44f9-430e-85d8-088ffd04a2dd",
   "metadata": {},
   "outputs": [],
   "source": [
    "df_nonull = df_train.dropna()"
   ]
  },
  {
   "cell_type": "code",
   "execution_count": null,
   "id": "cb5e61fd-62a6-4f62-95b7-3b223c5fb6b5",
   "metadata": {},
   "outputs": [],
   "source": [
    "df_nonull"
   ]
  },
  {
   "cell_type": "code",
   "execution_count": null,
   "id": "145a70d4-c973-4a89-8cde-b4007fd11d91",
   "metadata": {},
   "outputs": [],
   "source": [
    "sns.catplot(\n",
    "    data=df_nonull,       # DataFrame\n",
    "    x='Sex',      # X-axis\n",
    "    y='Age',       # y-axis\n",
    "    col='Pclass',  # column\n",
    "    kind='box',      # boxplot\n",
    "    col_wrap=3\n",
    ")"
   ]
  },
  {
   "cell_type": "code",
   "execution_count": null,
   "id": "f5603ea2-845d-47ad-834a-67f3f8047f75",
   "metadata": {},
   "outputs": [],
   "source": [
    "g = sns.FacetGrid(df_nonull, col=\"Pclass\",  row=\"Sex\")\n",
    "g.map_dataframe(sns.histplot, x=\"Age\")"
   ]
  },
  {
   "cell_type": "code",
   "execution_count": null,
   "id": "e29e6147-5f99-4205-9008-1da3e0c190d5",
   "metadata": {},
   "outputs": [],
   "source": [
    "pd.DataFrame(df_nonull.groupby(['Sex', 'Pclass'])['Age'].mean())"
   ]
  },
  {
   "cell_type": "code",
   "execution_count": null,
   "id": "d1f2fc6a-a73c-4849-8aa0-49285d7982fe",
   "metadata": {},
   "outputs": [],
   "source": [
    "pd.DataFrame(df_nonull.groupby(['Sex', 'Pclass'])['Age'].median())"
   ]
  },
  {
   "cell_type": "code",
   "execution_count": null,
   "id": "b68dcee8-eb9a-425e-ba1d-52f35e672ca6",
   "metadata": {},
   "outputs": [],
   "source": [
    "pd.DataFrame(df_nonull.groupby(['Sex', 'Pclass'])['Age'].median())"
   ]
  },
  {
   "cell_type": "markdown",
   "id": "8e24d487-4a96-451f-bc43-60dd8f82faa2",
   "metadata": {},
   "source": [
    "We have determined the average and median age by sex and passenger class, based on these values, based on the analysis, it is much better to use the mean, becuase the distribution is something that is not uniform.\n",
    "\n",
    "\n",
    "We will use these values to impute the NaN in the Age column in the dataset"
   ]
  },
  {
   "cell_type": "markdown",
   "id": "f4e3c5e5-8f88-41a0-a9c0-46b7682ade88",
   "metadata": {},
   "source": [
    "### Fill missing values based on a condition"
   ]
  },
  {
   "cell_type": "markdown",
   "id": "c476642e-c3a7-468f-8fd2-3e97a250c4ea",
   "metadata": {},
   "source": [
    "https://stackoverflow.com/questions/62314390/sklearn-impute-rows-satisfying-condition"
   ]
  },
  {
   "cell_type": "code",
   "execution_count": null,
   "id": "5f6ffbe4",
   "metadata": {},
   "outputs": [],
   "source": [
    "df_imputed = df_train.copy()"
   ]
  },
  {
   "cell_type": "code",
   "execution_count": null,
   "id": "7db3c52d-6281-4586-a843-00b3274cb753",
   "metadata": {},
   "outputs": [],
   "source": [
    "df_imputed['Age'] = df_imputed['Age'].fillna(df_imputed.groupby(['Pclass', 'Sex'])['Age'].transform('mean'))"
   ]
  },
  {
   "cell_type": "code",
   "execution_count": null,
   "id": "c4191a7d-a86f-488c-99a0-57ba2104dc19",
   "metadata": {},
   "outputs": [],
   "source": [
    "df_imputed['Age'].head(20)"
   ]
  },
  {
   "cell_type": "code",
   "execution_count": null,
   "id": "14fbd42f-6556-4fdf-8ed0-50c1ac3e0b3b",
   "metadata": {},
   "outputs": [],
   "source": [
    "g = sns.FacetGrid(df_imputed, col=\"Pclass\",  row=\"Sex\")\n",
    "g.map_dataframe(sns.histplot, x=\"Age\")"
   ]
  },
  {
   "cell_type": "code",
   "execution_count": null,
   "id": "0637acec-fa94-4dce-b67f-681090113d96",
   "metadata": {},
   "outputs": [],
   "source": [
    "df_impute_target = df_imputed['Survived']\n",
    "df_impute_target"
   ]
  },
  {
   "cell_type": "markdown",
   "id": "6781c53c-f370-4b0d-a710-1c7087fa4fe4",
   "metadata": {},
   "source": [
    "### Convert text into numbers"
   ]
  },
  {
   "cell_type": "code",
   "execution_count": null,
   "id": "dbb63a41-b8f4-4b1e-9222-7784ce74f058",
   "metadata": {},
   "outputs": [],
   "source": [
    "from sklearn.preprocessing import LabelEncoder"
   ]
  },
  {
   "cell_type": "code",
   "execution_count": null,
   "id": "b276bd2a-3b9d-4bb8-8f78-7d5e2977b789",
   "metadata": {},
   "outputs": [],
   "source": [
    "le = LabelEncoder()\n",
    "df_imputed[\"Sex\"] = le.fit_transform(df_imputed[\"Sex\"])\n",
    "df_imputed[\"Embarked\"] = le.fit_transform(df_imputed[\"Embarked\"])"
   ]
  },
  {
   "cell_type": "markdown",
   "id": "d9c693d8-0771-4e10-bd98-d4336231cdcb",
   "metadata": {},
   "source": [
    "### Drop useless features"
   ]
  },
  {
   "cell_type": "code",
   "execution_count": null,
   "id": "22b329cf-07d1-4c2b-bd0c-79bfd7a05a2a",
   "metadata": {},
   "outputs": [],
   "source": [
    "df_imputed = df_imputed.drop(['Ticket','Cabin','Survived'], axis=1)"
   ]
  },
  {
   "cell_type": "code",
   "execution_count": null,
   "id": "322ed3cc-a82c-4594-b6ba-977ad595397e",
   "metadata": {},
   "outputs": [],
   "source": [
    "X = df_imputed\n",
    "X"
   ]
  },
  {
   "cell_type": "code",
   "execution_count": null,
   "id": "761ef446-3e1b-4f2b-957f-e59809e0a5e9",
   "metadata": {},
   "outputs": [],
   "source": [
    "x_test = df_test_dropped"
   ]
  },
  {
   "cell_type": "code",
   "execution_count": null,
   "id": "ca3b6845-46e7-42a9-a413-84e28c13fd2b",
   "metadata": {},
   "outputs": [],
   "source": [
    "x_test['Age'] = x_test['Age'].fillna(x_test.groupby(['Pclass', 'Sex'])['Age'].transform('mean'))\n",
    "x_test['Age'] = x_test['Age'].astype(int)\n",
    "x_test['Fare'] = x_test['Fare'].fillna(0)"
   ]
  },
  {
   "cell_type": "code",
   "execution_count": null,
   "id": "c29b6a29-793a-4900-84e6-9005bd5cbeed",
   "metadata": {},
   "outputs": [],
   "source": [
    "x_test.isnull().sum()"
   ]
  },
  {
   "cell_type": "code",
   "execution_count": null,
   "id": "453dcd20-90bc-4f00-9fae-2efffb5ae563",
   "metadata": {},
   "outputs": [],
   "source": [
    "y = df_train['Survived']\n",
    "y"
   ]
  },
  {
   "cell_type": "markdown",
   "id": "bfef33af-b4d3-4122-b6fc-bfdd345cc965",
   "metadata": {},
   "source": [
    "## Shortlist Promising Models"
   ]
  },
  {
   "cell_type": "markdown",
   "id": "27a6340b-845f-47f2-a4d5-36acf2955d9b",
   "metadata": {},
   "source": [
    "#### Logistic Regression"
   ]
  },
  {
   "cell_type": "code",
   "execution_count": null,
   "id": "79d700e2-a6fe-4d06-a58e-5fe259ae0e4d",
   "metadata": {},
   "outputs": [],
   "source": [
    "from sklearn.linear_model import LogisticRegression"
   ]
  },
  {
   "cell_type": "code",
   "execution_count": null,
   "id": "994da966-d355-47e8-9c12-05b027c0d48e",
   "metadata": {},
   "outputs": [],
   "source": [
    "lr = LogisticRegression(max_iter=150)\n",
    "lr.fit(X, y)"
   ]
  },
  {
   "cell_type": "code",
   "execution_count": null,
   "id": "7bb894de-11e8-4692-991f-518ff65e54ee",
   "metadata": {},
   "outputs": [],
   "source": [
    "lr_pred = lr.predict(x_test)"
   ]
  },
  {
   "cell_type": "code",
   "execution_count": null,
   "id": "461839ce-5b62-4031-9a35-caa1ad4a0f5a",
   "metadata": {},
   "outputs": [],
   "source": []
  }
 ],
 "metadata": {
  "kernelspec": {
   "display_name": "Python 3 (ipykernel)",
   "language": "python",
   "name": "python3"
  },
  "language_info": {
   "codemirror_mode": {
    "name": "ipython",
    "version": 3
   },
   "file_extension": ".py",
   "mimetype": "text/x-python",
   "name": "python",
   "nbconvert_exporter": "python",
   "pygments_lexer": "ipython3",
   "version": "3.9.13"
  }
 },
 "nbformat": 4,
 "nbformat_minor": 5
}
