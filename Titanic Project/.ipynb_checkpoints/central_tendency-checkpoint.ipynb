{
 "cells": [
  {
   "cell_type": "code",
   "execution_count": 1,
   "id": "fa28c93b-ae7c-4f66-bcd3-eacb28d6c4b5",
   "metadata": {},
   "outputs": [],
   "source": [
    "import numpy as np\n",
    "import pandas as pd\n",
    "import seaborn as sns\n",
    "import matplotlib.pyplot as plt\n",
    "\n",
    "from sklearn.pipeline import make_pipeline\n",
    "from sklearn.compose import ColumnTransformer\n",
    "from sklearn.preprocessing import LabelEncoder\n",
    "from sklearn.preprocessing import StandardScaler \n",
    "from sklearn.preprocessing import FunctionTransformer\n",
    "\n",
    "# Improve this next time\n",
    "# Create a directory for datasets\n",
    "\n",
    "def get_data(data_link):\n",
    "    data = pd.read_csv(data_link)\n",
    "    return data\n",
    "\n",
    "train_data = get_data('https://raw.githubusercontent.com/wyx-smrf/Windows-Misc/main/Titanic%20Project/train.csv')\n",
    "test_data = get_data('https://raw.githubusercontent.com/wyx-smrf/Windows-Misc/main/Titanic%20Project/test.csv')"
   ]
  },
  {
   "cell_type": "code",
   "execution_count": null,
   "id": "cb8a1944-ca7b-4bf0-94aa-3a3b9fb6d1e1",
   "metadata": {},
   "outputs": [],
   "source": []
  },
  {
   "cell_type": "code",
   "execution_count": null,
   "id": "f2cfb72b-0100-454d-bc4d-28ba5c2a184e",
   "metadata": {},
   "outputs": [],
   "source": []
  },
  {
   "cell_type": "code",
   "execution_count": 2,
   "id": "8e3615e0-6ca9-42fd-8a69-cdd18d8cd9ec",
   "metadata": {},
   "outputs": [
    {
     "data": {
      "text/html": [
       "<div>\n",
       "<style scoped>\n",
       "    .dataframe tbody tr th:only-of-type {\n",
       "        vertical-align: middle;\n",
       "    }\n",
       "\n",
       "    .dataframe tbody tr th {\n",
       "        vertical-align: top;\n",
       "    }\n",
       "\n",
       "    .dataframe thead th {\n",
       "        text-align: right;\n",
       "    }\n",
       "</style>\n",
       "<table border=\"1\" class=\"dataframe\">\n",
       "  <thead>\n",
       "    <tr style=\"text-align: right;\">\n",
       "      <th></th>\n",
       "      <th>mean</th>\n",
       "      <th>median</th>\n",
       "      <th>mode</th>\n",
       "    </tr>\n",
       "  </thead>\n",
       "  <tbody>\n",
       "    <tr>\n",
       "      <th>0</th>\n",
       "      <td>22</td>\n",
       "      <td>22</td>\n",
       "      <td>22</td>\n",
       "    </tr>\n",
       "    <tr>\n",
       "      <th>1</th>\n",
       "      <td>38</td>\n",
       "      <td>38</td>\n",
       "      <td>38</td>\n",
       "    </tr>\n",
       "    <tr>\n",
       "      <th>2</th>\n",
       "      <td>26</td>\n",
       "      <td>26</td>\n",
       "      <td>26</td>\n",
       "    </tr>\n",
       "    <tr>\n",
       "      <th>3</th>\n",
       "      <td>35</td>\n",
       "      <td>35</td>\n",
       "      <td>35</td>\n",
       "    </tr>\n",
       "    <tr>\n",
       "      <th>4</th>\n",
       "      <td>35</td>\n",
       "      <td>35</td>\n",
       "      <td>35</td>\n",
       "    </tr>\n",
       "  </tbody>\n",
       "</table>\n",
       "</div>"
      ],
      "text/plain": [
       "   mean  median  mode\n",
       "0    22      22    22\n",
       "1    38      38    38\n",
       "2    26      26    26\n",
       "3    35      35    35\n",
       "4    35      35    35"
      ]
     },
     "execution_count": 2,
     "metadata": {},
     "output_type": "execute_result"
    }
   ],
   "source": [
    "def impute_central_tendency(dataframe, column):\n",
    "    central_tendency = [\"mean\", \"median\", \"mode\"]\n",
    "    impute_df = pd.DataFrame()\n",
    "    impute_column = dataframe[column]\n",
    "    \n",
    "    # Impute null values using cental tendency\n",
    "    for stat in central_tendency:\n",
    "        if stat == \"mode\":\n",
    "            impute_df[stat] = eval(f\"impute_column.fillna(value=impute_column.mode()[0])\")\n",
    "        else:\n",
    "            impute_df[stat] = eval(f\"impute_column.fillna(value=impute_column.{stat}())\")\n",
    "    \n",
    "    # Round all answers to nearest integer\n",
    "    round_impute = impute_df.round(0).astype(int)\n",
    "    \n",
    "    return round_impute\n",
    "\n",
    "ct_df = impute_central_tendency(train_data, 'Age')\n",
    "ct_df.head()"
   ]
  },
  {
   "cell_type": "code",
   "execution_count": 29,
   "id": "ce2402f3-cecd-4c63-89c5-29aada552b29",
   "metadata": {},
   "outputs": [
    {
     "name": "stdout",
     "output_type": "stream",
     "text": [
      "1\n",
      "2\n",
      "3\n",
      "4\n"
     ]
    }
   ],
   "source": [
    "bobo = [1,2,3,4]\n",
    "\n",
    "for num in bobo:\n",
    "    print(str(num))\n",
    "    \n",
    "    \n",
    "    "
   ]
  },
  {
   "cell_type": "code",
   "execution_count": 107,
   "id": "be8454c5-8098-4e78-bf06-4ef93915e32a",
   "metadata": {},
   "outputs": [],
   "source": [
    "def skew(dataframe):\n",
    "    \n",
    "    # Create a dataframe with index names\n",
    "    df = pd.DataFrame(index=['mean', 'median', 'mode'])\n",
    "    \n",
    "    # Columns to the dataframe\n",
    "    df['raw_skew'] = [dataframe[i].skew() for i in dataframe.columns]\n",
    "    df['log_skew'] = [dataframe[i].apply(np.log).skew() for i in dataframe.columns]\n",
    "    df['sqrt_skew'] = [dataframe[i].apply(np.sqrt).skew() for i in dataframe.columns]\n",
    "    df['cbrt_skew'] = [dataframe[i].apply(np.cbrt).skew() for i in dataframe.columns]\n",
    "    df['log1p_skew'] = [dataframe[i].apply(np.log1p).skew() for i in dataframe.columns]\n",
    "    \n",
    "    return df\n",
    "    \n",
    "# Argument must be a dataframe that contains mean, median and mode as the columns"
   ]
  },
  {
   "cell_type": "code",
   "execution_count": 108,
   "id": "aee4b1f0-537a-4ee8-8bd2-2e9bd4ed78bc",
   "metadata": {},
   "outputs": [
    {
     "data": {
      "text/html": [
       "<div>\n",
       "<style scoped>\n",
       "    .dataframe tbody tr th:only-of-type {\n",
       "        vertical-align: middle;\n",
       "    }\n",
       "\n",
       "    .dataframe tbody tr th {\n",
       "        vertical-align: top;\n",
       "    }\n",
       "\n",
       "    .dataframe thead th {\n",
       "        text-align: right;\n",
       "    }\n",
       "</style>\n",
       "<table border=\"1\" class=\"dataframe\">\n",
       "  <thead>\n",
       "    <tr style=\"text-align: right;\">\n",
       "      <th></th>\n",
       "      <th>raw_skew</th>\n",
       "      <th>log_skew</th>\n",
       "      <th>sqrt_skew</th>\n",
       "      <th>cbrt_skew</th>\n",
       "      <th>log1p_skew</th>\n",
       "    </tr>\n",
       "  </thead>\n",
       "  <tbody>\n",
       "    <tr>\n",
       "      <th>mean</th>\n",
       "      <td>0.422075</td>\n",
       "      <td>NaN</td>\n",
       "      <td>-0.839700</td>\n",
       "      <td>-1.431735</td>\n",
       "      <td>-2.216744</td>\n",
       "    </tr>\n",
       "    <tr>\n",
       "      <th>median</th>\n",
       "      <td>0.511731</td>\n",
       "      <td>NaN</td>\n",
       "      <td>-0.762697</td>\n",
       "      <td>-1.370104</td>\n",
       "      <td>-2.180471</td>\n",
       "    </tr>\n",
       "    <tr>\n",
       "      <th>mode</th>\n",
       "      <td>0.659261</td>\n",
       "      <td>NaN</td>\n",
       "      <td>-0.578792</td>\n",
       "      <td>-1.198987</td>\n",
       "      <td>-2.050201</td>\n",
       "    </tr>\n",
       "  </tbody>\n",
       "</table>\n",
       "</div>"
      ],
      "text/plain": [
       "        raw_skew  log_skew  sqrt_skew  cbrt_skew  log1p_skew\n",
       "mean    0.422075       NaN  -0.839700  -1.431735   -2.216744\n",
       "median  0.511731       NaN  -0.762697  -1.370104   -2.180471\n",
       "mode    0.659261       NaN  -0.578792  -1.198987   -2.050201"
      ]
     },
     "execution_count": 108,
     "metadata": {},
     "output_type": "execute_result"
    }
   ],
   "source": [
    "ddf"
   ]
  },
  {
   "cell_type": "code",
   "execution_count": 104,
   "id": "5fe2d197-516d-4870-bf3d-fb959d919e2b",
   "metadata": {},
   "outputs": [
    {
     "data": {
      "text/html": [
       "<style type=\"text/css\">\n",
       "#T_1582d_row0_col4 {\n",
       "  background-color: lightgreen;\n",
       "}\n",
       "</style>\n",
       "<table id=\"T_1582d\">\n",
       "  <thead>\n",
       "    <tr>\n",
       "      <th class=\"blank level0\" >&nbsp;</th>\n",
       "      <th id=\"T_1582d_level0_col0\" class=\"col_heading level0 col0\" >raw_skew</th>\n",
       "      <th id=\"T_1582d_level0_col1\" class=\"col_heading level0 col1\" >log_skew</th>\n",
       "      <th id=\"T_1582d_level0_col2\" class=\"col_heading level0 col2\" >sqrt_skew</th>\n",
       "      <th id=\"T_1582d_level0_col3\" class=\"col_heading level0 col3\" >cbrt_skew</th>\n",
       "      <th id=\"T_1582d_level0_col4\" class=\"col_heading level0 col4\" >log1p_skew</th>\n",
       "    </tr>\n",
       "  </thead>\n",
       "  <tbody>\n",
       "    <tr>\n",
       "      <th id=\"T_1582d_level0_row0\" class=\"row_heading level0 row0\" >mean</th>\n",
       "      <td id=\"T_1582d_row0_col0\" class=\"data row0 col0\" >0.422075</td>\n",
       "      <td id=\"T_1582d_row0_col1\" class=\"data row0 col1\" >nan</td>\n",
       "      <td id=\"T_1582d_row0_col2\" class=\"data row0 col2\" >-0.839700</td>\n",
       "      <td id=\"T_1582d_row0_col3\" class=\"data row0 col3\" >-1.431735</td>\n",
       "      <td id=\"T_1582d_row0_col4\" class=\"data row0 col4\" >-2.216744</td>\n",
       "    </tr>\n",
       "    <tr>\n",
       "      <th id=\"T_1582d_level0_row1\" class=\"row_heading level0 row1\" >median</th>\n",
       "      <td id=\"T_1582d_row1_col0\" class=\"data row1 col0\" >0.511731</td>\n",
       "      <td id=\"T_1582d_row1_col1\" class=\"data row1 col1\" >nan</td>\n",
       "      <td id=\"T_1582d_row1_col2\" class=\"data row1 col2\" >-0.762697</td>\n",
       "      <td id=\"T_1582d_row1_col3\" class=\"data row1 col3\" >-1.370104</td>\n",
       "      <td id=\"T_1582d_row1_col4\" class=\"data row1 col4\" >-2.180471</td>\n",
       "    </tr>\n",
       "    <tr>\n",
       "      <th id=\"T_1582d_level0_row2\" class=\"row_heading level0 row2\" >mode</th>\n",
       "      <td id=\"T_1582d_row2_col0\" class=\"data row2 col0\" >0.659261</td>\n",
       "      <td id=\"T_1582d_row2_col1\" class=\"data row2 col1\" >nan</td>\n",
       "      <td id=\"T_1582d_row2_col2\" class=\"data row2 col2\" >-0.578792</td>\n",
       "      <td id=\"T_1582d_row2_col3\" class=\"data row2 col3\" >-1.198987</td>\n",
       "      <td id=\"T_1582d_row2_col4\" class=\"data row2 col4\" >-2.050201</td>\n",
       "    </tr>\n",
       "  </tbody>\n",
       "</table>\n"
      ],
      "text/plain": [
       "<pandas.io.formats.style.Styler at 0x262fd542cd0>"
      ]
     },
     "execution_count": 104,
     "metadata": {},
     "output_type": "execute_result"
    }
   ],
   "source": [
    "ddf.loc[ddf.values > 0].style.highlight_min(color = 'lightgreen', axis=None)"
   ]
  },
  {
   "cell_type": "code",
   "execution_count": 102,
   "id": "26fef48c-1044-4445-b422-8473a3a583fa",
   "metadata": {},
   "outputs": [
    {
     "data": {
      "text/plain": [
       "raw_skew      0.659261\n",
       "log_skew           NaN\n",
       "sqrt_skew    -0.578792\n",
       "cbrt_skew    -1.198987\n",
       "log1p_skew   -2.050201\n",
       "Name: mode, dtype: float64"
      ]
     },
     "execution_count": 102,
     "metadata": {},
     "output_type": "execute_result"
    }
   ],
   "source": [
    "ddf.iloc[2]"
   ]
  },
  {
   "cell_type": "code",
   "execution_count": 7,
   "id": "1ddacef7-5fc5-4e0d-b753-4a5f62656ca2",
   "metadata": {},
   "outputs": [
    {
     "data": {
      "text/html": [
       "<div>\n",
       "<style scoped>\n",
       "    .dataframe tbody tr th:only-of-type {\n",
       "        vertical-align: middle;\n",
       "    }\n",
       "\n",
       "    .dataframe tbody tr th {\n",
       "        vertical-align: top;\n",
       "    }\n",
       "\n",
       "    .dataframe thead th {\n",
       "        text-align: right;\n",
       "    }\n",
       "</style>\n",
       "<table border=\"1\" class=\"dataframe\">\n",
       "  <thead>\n",
       "    <tr style=\"text-align: right;\">\n",
       "      <th></th>\n",
       "    </tr>\n",
       "  </thead>\n",
       "  <tbody>\n",
       "    <tr>\n",
       "      <th>r1</th>\n",
       "    </tr>\n",
       "    <tr>\n",
       "      <th>r2</th>\n",
       "    </tr>\n",
       "    <tr>\n",
       "      <th>r3</th>\n",
       "    </tr>\n",
       "    <tr>\n",
       "      <th>r4</th>\n",
       "    </tr>\n",
       "  </tbody>\n",
       "</table>\n",
       "</div>"
      ],
      "text/plain": [
       "Empty DataFrame\n",
       "Columns: []\n",
       "Index: [r1, r2, r3, r4]"
      ]
     },
     "execution_count": 7,
     "metadata": {},
     "output_type": "execute_result"
    }
   ],
   "source": [
    "index_labels=['r1','r2','r3','r4']\n",
    "df = pd.DataFrame(index=index_labels)\n",
    "df"
   ]
  },
  {
   "cell_type": "code",
   "execution_count": 4,
   "id": "5e0a1b53-7938-4f97-8ba9-11bf6aa535f5",
   "metadata": {},
   "outputs": [
    {
     "data": {
      "text/plain": [
       "[-0.8397003239521997, -0.7626966228719249, -0.5787920994533354]"
      ]
     },
     "execution_count": 4,
     "metadata": {},
     "output_type": "execute_result"
    }
   ],
   "source": [
    "impute_skew = skew(ct_df)\n",
    "\n",
    "impute_skew"
   ]
  },
  {
   "cell_type": "code",
   "execution_count": 5,
   "id": "5bcc13b9-2e70-46bd-b938-14986a048830",
   "metadata": {},
   "outputs": [
    {
     "data": {
      "text/html": [
       "<div>\n",
       "<style scoped>\n",
       "    .dataframe tbody tr th:only-of-type {\n",
       "        vertical-align: middle;\n",
       "    }\n",
       "\n",
       "    .dataframe tbody tr th {\n",
       "        vertical-align: top;\n",
       "    }\n",
       "\n",
       "    .dataframe thead th {\n",
       "        text-align: right;\n",
       "    }\n",
       "</style>\n",
       "<table border=\"1\" class=\"dataframe\">\n",
       "  <thead>\n",
       "    <tr style=\"text-align: right;\">\n",
       "      <th></th>\n",
       "      <th>raw_skew</th>\n",
       "    </tr>\n",
       "    <tr>\n",
       "      <th></th>\n",
       "      <th></th>\n",
       "    </tr>\n",
       "  </thead>\n",
       "  <tbody>\n",
       "    <tr>\n",
       "      <th>0</th>\n",
       "      <td>-0.839700</td>\n",
       "    </tr>\n",
       "    <tr>\n",
       "      <th>1</th>\n",
       "      <td>-0.762697</td>\n",
       "    </tr>\n",
       "    <tr>\n",
       "      <th>2</th>\n",
       "      <td>-0.578792</td>\n",
       "    </tr>\n",
       "  </tbody>\n",
       "</table>\n",
       "</div>"
      ],
      "text/plain": [
       "   raw_skew\n",
       "           \n",
       "0 -0.839700\n",
       "1 -0.762697\n",
       "2 -0.578792"
      ]
     },
     "execution_count": 5,
     "metadata": {},
     "output_type": "execute_result"
    }
   ],
   "source": [
    "import pandas as pd\n",
    "\n",
    "params = {'dictionary': impute_skew,\n",
    "          'colname': 'raw_skew',\n",
    "          'index_name': ' '} \n",
    "\n",
    "def dict_to_dataframe(dictionary, colname, index_name):\n",
    "  dict_data = pd.Series(dictionary, name=colname)\n",
    "  dict_data.index.name = index_name\n",
    "  return pd.DataFrame(dict_data)\n",
    "\n",
    "df = dict_to_dataframe(**params)\n",
    "df"
   ]
  },
  {
   "cell_type": "code",
   "execution_count": 6,
   "id": "0d8dcf71-fc6b-4a56-a05e-8b870e7aa654",
   "metadata": {},
   "outputs": [
    {
     "ename": "NameError",
     "evalue": "name 'new' is not defined",
     "output_type": "error",
     "traceback": [
      "\u001b[1;31m---------------------------------------------------------------------------\u001b[0m",
      "\u001b[1;31mNameError\u001b[0m                                 Traceback (most recent call last)",
      "\u001b[1;32m~\\AppData\\Local\\Temp\\ipykernel_20048\\2700341699.py\u001b[0m in \u001b[0;36m<module>\u001b[1;34m\u001b[0m\n\u001b[0;32m      1\u001b[0m \u001b[1;32mimport\u001b[0m \u001b[0mpandas\u001b[0m \u001b[1;32mas\u001b[0m \u001b[0mpd\u001b[0m\u001b[1;33m\u001b[0m\u001b[1;33m\u001b[0m\u001b[0m\n\u001b[0;32m      2\u001b[0m \u001b[1;33m\u001b[0m\u001b[0m\n\u001b[1;32m----> 3\u001b[1;33m params = {'dictionary': new,\n\u001b[0m\u001b[0;32m      4\u001b[0m           \u001b[1;34m'colname'\u001b[0m\u001b[1;33m:\u001b[0m \u001b[1;34m'I_skew'\u001b[0m\u001b[1;33m,\u001b[0m\u001b[1;33m\u001b[0m\u001b[1;33m\u001b[0m\u001b[0m\n\u001b[0;32m      5\u001b[0m           'index_name': ' '} \n",
      "\u001b[1;31mNameError\u001b[0m: name 'new' is not defined"
     ]
    }
   ],
   "source": [
    "import pandas as pd\n",
    "\n",
    "params = {'dictionary': new,\n",
    "          'colname': 'I_skew',\n",
    "          'index_name': ' '} \n",
    "\n",
    "def dict_to_dataframe(dictionary, colname, index_name):\n",
    "  dict_data = pd.Series(dictionary, name=colname)\n",
    "  dict_data.index.name = index_name\n",
    "  return pd.DataFrame(dict_data)\n",
    "\n",
    "df = dict_to_dataframe(**params)"
   ]
  },
  {
   "cell_type": "code",
   "execution_count": null,
   "id": "b15c8c6a-5134-4e06-a398-4bf970493fad",
   "metadata": {},
   "outputs": [],
   "source": []
  },
  {
   "cell_type": "code",
   "execution_count": null,
   "id": "4dcd859f-3900-48f2-b036-50288c5821b9",
   "metadata": {},
   "outputs": [],
   "source": [
    "impute.info()"
   ]
  },
  {
   "cell_type": "code",
   "execution_count": null,
   "id": "71c858fd-f240-4286-ae6a-6f388f56ed35",
   "metadata": {},
   "outputs": [],
   "source": [
    "impute"
   ]
  },
  {
   "cell_type": "code",
   "execution_count": null,
   "id": "40ccbc55-b740-4d13-8a8b-f3009f3ec89e",
   "metadata": {},
   "outputs": [],
   "source": []
  }
 ],
 "metadata": {
  "kernelspec": {
   "display_name": "Python 3 (ipykernel)",
   "language": "python",
   "name": "python3"
  },
  "language_info": {
   "codemirror_mode": {
    "name": "ipython",
    "version": 3
   },
   "file_extension": ".py",
   "mimetype": "text/x-python",
   "name": "python",
   "nbconvert_exporter": "python",
   "pygments_lexer": "ipython3",
   "version": "3.9.13"
  }
 },
 "nbformat": 4,
 "nbformat_minor": 5
}
