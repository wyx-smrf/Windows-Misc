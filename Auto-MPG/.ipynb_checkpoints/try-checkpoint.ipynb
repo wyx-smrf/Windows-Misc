{
 "cells": [
  {
   "cell_type": "code",
   "execution_count": null,
   "id": "2d23f841-4472-4f7d-a009-7e05a4dd32f3",
   "metadata": {},
   "outputs": [],
   "source": [
    "pip install kaggle"
   ]
  },
  {
   "cell_type": "code",
   "execution_count": null,
   "id": "15f3b51a-ddf5-4a54-9737-c57125a1400b",
   "metadata": {},
   "outputs": [],
   "source": [
    "pip install openai"
   ]
  },
  {
   "cell_type": "code",
   "execution_count": null,
   "id": "40c4b21f-e231-47df-953b-5c0377dc4056",
   "metadata": {},
   "outputs": [],
   "source": [
    "pip install streamlit"
   ]
  },
  {
   "cell_type": "code",
   "execution_count": null,
   "id": "29fa0506-39b4-48ad-bdb6-27d2c2e107b5",
   "metadata": {},
   "outputs": [],
   "source": [
    "pip install streamlit-chat"
   ]
  },
  {
   "cell_type": "code",
   "execution_count": null,
   "id": "924f3af4-f9f8-49c7-a61a-b39640fb0ee8",
   "metadata": {},
   "outputs": [],
   "source": [
    "pip install streamlit-option-menu"
   ]
  },
  {
   "cell_type": "code",
   "execution_count": null,
   "id": "595a44bc-539d-48bb-b4f3-3e546770116e",
   "metadata": {},
   "outputs": [],
   "source": [
    "pip install tabpy"
   ]
  },
  {
   "cell_type": "code",
   "execution_count": null,
   "id": "c9967f44-377b-41ac-8fa2-34d661a571e1",
   "metadata": {},
   "outputs": [],
   "source": [
    "pip install xgboost"
   ]
  }
 ],
 "metadata": {
  "kernelspec": {
   "display_name": "Python 3 (ipykernel)",
   "language": "python",
   "name": "python3"
  },
  "language_info": {
   "codemirror_mode": {
    "name": "ipython",
    "version": 3
   },
   "file_extension": ".py",
   "mimetype": "text/x-python",
   "name": "python",
   "nbconvert_exporter": "python",
   "pygments_lexer": "ipython3",
   "version": "3.9.13"
  }
 },
 "nbformat": 4,
 "nbformat_minor": 5
}
